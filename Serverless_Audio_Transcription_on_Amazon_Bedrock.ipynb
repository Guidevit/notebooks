{
  "cells": [
    {
      "cell_type": "markdown",
      "metadata": {
        "id": "view-in-github",
        "colab_type": "text"
      },
      "source": [
        "<a href=\"https://colab.research.google.com/github/Guidevit/notebooks/blob/main/Serverless_Audio_Transcription_on_Amazon_Bedrock.ipynb\" target=\"_parent\"><img src=\"https://colab.research.google.com/assets/colab-badge.svg\" alt=\"Open In Colab\"/></a>"
      ]
    },
    {
      "cell_type": "markdown",
      "id": "93efa22f",
      "metadata": {
        "id": "93efa22f"
      },
      "source": [
        "# Audio transcribe on Amazon Bedrock"
      ]
    },
    {
      "cell_type": "code",
      "source": [
        "!pip install boto3"
      ],
      "metadata": {
        "colab": {
          "base_uri": "https://localhost:8080/"
        },
        "id": "xBfrVcXtrQLc",
        "outputId": "59d23f3b-cc9b-441a-e1e6-9463a3b44c1e"
      },
      "id": "xBfrVcXtrQLc",
      "execution_count": 3,
      "outputs": [
        {
          "output_type": "stream",
          "name": "stdout",
          "text": [
            "Collecting boto3\n",
            "  Downloading boto3-1.34.42-py3-none-any.whl (139 kB)\n",
            "\u001b[2K     \u001b[90m━━━━━━━━━━━━━━━━━━━━━━━━━━━━━━━━━━━━━━━━\u001b[0m \u001b[32m139.3/139.3 kB\u001b[0m \u001b[31m1.4 MB/s\u001b[0m eta \u001b[36m0:00:00\u001b[0m\n",
            "\u001b[?25hCollecting botocore<1.35.0,>=1.34.42 (from boto3)\n",
            "  Downloading botocore-1.34.42-py3-none-any.whl (12.0 MB)\n",
            "\u001b[2K     \u001b[90m━━━━━━━━━━━━━━━━━━━━━━━━━━━━━━━━━━━━━━━━\u001b[0m \u001b[32m12.0/12.0 MB\u001b[0m \u001b[31m43.1 MB/s\u001b[0m eta \u001b[36m0:00:00\u001b[0m\n",
            "\u001b[?25hCollecting jmespath<2.0.0,>=0.7.1 (from boto3)\n",
            "  Downloading jmespath-1.0.1-py3-none-any.whl (20 kB)\n",
            "Collecting s3transfer<0.11.0,>=0.10.0 (from boto3)\n",
            "  Downloading s3transfer-0.10.0-py3-none-any.whl (82 kB)\n",
            "\u001b[2K     \u001b[90m━━━━━━━━━━━━━━━━━━━━━━━━━━━━━━━━━━━━━━━━\u001b[0m \u001b[32m82.1/82.1 kB\u001b[0m \u001b[31m8.6 MB/s\u001b[0m eta \u001b[36m0:00:00\u001b[0m\n",
            "\u001b[?25hRequirement already satisfied: python-dateutil<3.0.0,>=2.1 in /usr/local/lib/python3.10/dist-packages (from botocore<1.35.0,>=1.34.42->boto3) (2.8.2)\n",
            "Requirement already satisfied: urllib3<2.1,>=1.25.4 in /usr/local/lib/python3.10/dist-packages (from botocore<1.35.0,>=1.34.42->boto3) (2.0.7)\n",
            "Requirement already satisfied: six>=1.5 in /usr/local/lib/python3.10/dist-packages (from python-dateutil<3.0.0,>=2.1->botocore<1.35.0,>=1.34.42->boto3) (1.16.0)\n",
            "Installing collected packages: jmespath, botocore, s3transfer, boto3\n",
            "Successfully installed boto3-1.34.42 botocore-1.34.42 jmespath-1.0.1 s3transfer-0.10.0\n"
          ]
        }
      ]
    },
    {
      "cell_type": "code",
      "execution_count": 4,
      "id": "f582bfd4",
      "metadata": {
        "height": 30,
        "id": "f582bfd4"
      },
      "outputs": [],
      "source": [
        "from IPython.display import Audio\n",
        "import boto3\n",
        "import json"
      ]
    },
    {
      "cell_type": "code",
      "execution_count": null,
      "id": "6ed7cda6",
      "metadata": {
        "height": 47,
        "id": "6ed7cda6"
      },
      "outputs": [],
      "source": [
        "audio = Audio(filename=\"your_audio_file.mp3\")\n",
        "display(audio)"
      ]
    },
    {
      "cell_type": "code",
      "execution_count": null,
      "id": "7f494d3e",
      "metadata": {
        "height": 47,
        "id": "7f494d3e"
      },
      "outputs": [],
      "source": [
        "with open('transcript.txt', \"r\") as file:\n",
        "    dialogue_text = file.read()"
      ]
    },
    {
      "cell_type": "code",
      "execution_count": null,
      "id": "99500185",
      "metadata": {
        "height": 30,
        "id": "99500185",
        "outputId": "bf8534c3-07db-4fb4-d640-a56823adbbff"
      },
      "outputs": [
        {
          "name": "stdout",
          "output_type": "stream",
          "text": [
            "spk_0: Hi, is this the Crystal Heights Hotel in Singapore? \n",
            "spk_1: Yes, it is. Good afternoon. How may I assist you today? \n",
            "spk_0: Fantastic, good afternoon. I was looking to book a room for my 10th wedding anniversary. Ive heard your hotel offers exceptional views and services. Could you tell me more? \n",
            "spk_1: Absolutely, Alex and congratulations on your upcoming anniversary. Thats a significant milestone and wed be honored to make it a special occasion for you. We have several room types that offer stunning views of the city skyline and the fictional Sapphire Bay. Our special diamond suite even comes with exclusive access to the moonlit pool and star deck. We also have in house spa services, world class dining options and a shopping arcade. \n",
            "spk_0: That sounds heavenly. I think my spouse would love the moonlit pool. Can you help me make a reservation for one of your diamond suites with a sapphire bay view? \n",
            "spk_1: Of course. May I know the dates you planning to visit? \n",
            "spk_0: Sure. It would be from October 10th to 17th. \n",
            "spk_1: Excellent. Let me check the availability. Ah It looks like we have a diamond suite available for those dates. Would you like to proceed with the reservation? \n",
            "spk_0: Definitely. Whats included in the package? \n",
            "spk_1: Wonderful. The package includes breakfast, complimentary access to the moonlit pool and star deck. A one time spa treatment for two and a special romantic dinner at our cloud nine restaurant. \n",
            "spk_0: You making it impossible to resist. Lets go ahead with the booking. \n",
            "spk_1: Great. I'll need some personal information for the reservation. Can I get your full name, contact details and a credit card for the preauthorizations? \n",
            "spk_0: Certainly. My full name is Alexander Thompson. My contact number is 12345678910. And the credit card is, wait, did you say pre authorization? How much would that be? \n",
            "spk_1: Ah, I should have mentioned that earlier. My apologies. A pre authorization amount of '$1000' will be held on your card which would be released upon checkout. \n",
            "spk_0: '$1000'. That seems a bit excessive. Don't you think \n",
            "spk_1: I understand your concern, Alex. The pre authorization is a standard procedure to cover any incidental expenses you may incur during your stay. However, I assure you its only a hold and not an actual charge. \n",
            "spk_0: Thats still a lot. Are there any additional charges that I should know about? \n",
            "spk_1: Well, there is a 10% service charge and a 7% fantasy tax applied to the room rate. \n",
            "spk_0: Mm. You know what its a special occasion. So lets go ahead. \n",
            "spk_1: Thank you, Alex for understanding. Will ensure that your experience at Crystal Heights is well worth it. \n"
          ]
        }
      ],
      "source": [
        "print(dialogue_text)"
      ]
    },
    {
      "cell_type": "code",
      "execution_count": null,
      "id": "4ad6bd54",
      "metadata": {
        "height": 164,
        "id": "4ad6bd54"
      },
      "outputs": [],
      "source": [
        "prompt = f\"\"\"The text between the <transcript> XML tags is a transcript of a conversation.\n",
        "Write a short summary of the conversation.\n",
        "\n",
        "<transcript>\n",
        "{dialogue_text}\n",
        "</transcript>\n",
        "\n",
        "Here is a summary of the conversation in the transcript:\"\"\""
      ]
    },
    {
      "cell_type": "code",
      "execution_count": null,
      "id": "3a4e8336",
      "metadata": {
        "height": 30,
        "id": "3a4e8336",
        "outputId": "04b882ed-cf84-4f04-c591-20a194fc9b25"
      },
      "outputs": [
        {
          "name": "stdout",
          "output_type": "stream",
          "text": [
            "The text between the <transcript> XML tags is a transcript of a conversation. \n",
            "Write a short summary of the conversation.\n",
            "\n",
            "<transcript>\n",
            "spk_0: Hi, is this the Crystal Heights Hotel in Singapore? \n",
            "spk_1: Yes, it is. Good afternoon. How may I assist you today? \n",
            "spk_0: Fantastic, good afternoon. I was looking to book a room for my 10th wedding anniversary. Ive heard your hotel offers exceptional views and services. Could you tell me more? \n",
            "spk_1: Absolutely, Alex and congratulations on your upcoming anniversary. Thats a significant milestone and wed be honored to make it a special occasion for you. We have several room types that offer stunning views of the city skyline and the fictional Sapphire Bay. Our special diamond suite even comes with exclusive access to the moonlit pool and star deck. We also have in house spa services, world class dining options and a shopping arcade. \n",
            "spk_0: That sounds heavenly. I think my spouse would love the moonlit pool. Can you help me make a reservation for one of your diamond suites with a sapphire bay view? \n",
            "spk_1: Of course. May I know the dates you planning to visit? \n",
            "spk_0: Sure. It would be from October 10th to 17th. \n",
            "spk_1: Excellent. Let me check the availability. Ah It looks like we have a diamond suite available for those dates. Would you like to proceed with the reservation? \n",
            "spk_0: Definitely. Whats included in the package? \n",
            "spk_1: Wonderful. The package includes breakfast, complimentary access to the moonlit pool and star deck. A one time spa treatment for two and a special romantic dinner at our cloud nine restaurant. \n",
            "spk_0: You making it impossible to resist. Lets go ahead with the booking. \n",
            "spk_1: Great. I'll need some personal information for the reservation. Can I get your full name, contact details and a credit card for the preauthorizations? \n",
            "spk_0: Certainly. My full name is Alexander Thompson. My contact number is 12345678910. And the credit card is, wait, did you say pre authorization? How much would that be? \n",
            "spk_1: Ah, I should have mentioned that earlier. My apologies. A pre authorization amount of '$1000' will be held on your card which would be released upon checkout. \n",
            "spk_0: '$1000'. That seems a bit excessive. Don't you think \n",
            "spk_1: I understand your concern, Alex. The pre authorization is a standard procedure to cover any incidental expenses you may incur during your stay. However, I assure you its only a hold and not an actual charge. \n",
            "spk_0: Thats still a lot. Are there any additional charges that I should know about? \n",
            "spk_1: Well, there is a 10% service charge and a 7% fantasy tax applied to the room rate. \n",
            "spk_0: Mm. You know what its a special occasion. So lets go ahead. \n",
            "spk_1: Thank you, Alex for understanding. Will ensure that your experience at Crystal Heights is well worth it. \n",
            "</transcript>\n",
            "\n",
            "Here is a summary of the conversation in the transcript:\n"
          ]
        }
      ],
      "source": [
        "print(prompt)"
      ]
    },
    {
      "cell_type": "code",
      "execution_count": null,
      "id": "26853371",
      "metadata": {
        "height": 268,
        "id": "26853371"
      },
      "outputs": [],
      "source": [
        "kwargs = {\n",
        "    \"modelId\": \"amazon.titan-text-express-v1\",\n",
        "    \"contentType\": \"application/json\",\n",
        "    \"accept\": \"*/*\",\n",
        "    \"body\": json.dumps(\n",
        "        {\n",
        "            \"inputText\": prompt,\n",
        "            \"textGenerationConfig\": {\n",
        "                \"maxTokenCount\": 512,\n",
        "                \"temperature\": 0,\n",
        "                \"topP\": 0.9\n",
        "            }\n",
        "        }\n",
        "    )\n",
        "}"
      ]
    },
    {
      "cell_type": "code",
      "execution_count": null,
      "id": "6cb963a0",
      "metadata": {
        "height": 30,
        "id": "6cb963a0"
      },
      "outputs": [],
      "source": [
        "response = bedrock_runtime.invoke_model(**kwargs)"
      ]
    },
    {
      "cell_type": "code",
      "execution_count": null,
      "id": "71429d89",
      "metadata": {
        "height": 47,
        "id": "71429d89"
      },
      "outputs": [],
      "source": [
        "response_body = json.loads(response.get('body').read())\n",
        "generation = response_body['results'][0]['outputText']"
      ]
    },
    {
      "cell_type": "code",
      "execution_count": null,
      "id": "14570b16",
      "metadata": {
        "height": 30,
        "id": "14570b16",
        "outputId": "4cb6e02b-cfc0-49ff-bf68-8026526a0dc7"
      },
      "outputs": [
        {
          "name": "stdout",
          "output_type": "stream",
          "text": [
            "{\n",
            "    \"inputTextTokenCount\": 734,\n",
            "    \"results\": [\n",
            "        {\n",
            "            \"tokenCount\": 145,\n",
            "            \"outputText\": \"\\nAlex is looking to book a room for his 10th wedding anniversary at the Crystal Heights Hotel in Singapore. The hotel offers several room types that offer stunning views of the city skyline and the fictional Sapphire Bay. The special diamond suite even comes with exclusive access to the moonlit pool and star deck. The package includes breakfast, complimentary access to the moonlit pool and star deck, a one-time spa treatment for two, and a special romantic dinner at the cloud nine restaurant. A preauthorization amount of $1000 will be held on the card, which will be released upon checkout. There is a 10% service charge and a 7% fantasy tax applied to the room rate.\",\n",
            "            \"completionReason\": \"FINISH\"\n",
            "        }\n",
            "    ]\n",
            "}\n"
          ]
        }
      ],
      "source": [
        "print(json.dumps(response_body, indent=4))"
      ]
    },
    {
      "cell_type": "code",
      "execution_count": null,
      "id": "4e6db611",
      "metadata": {
        "height": 30,
        "id": "4e6db611",
        "outputId": "b7340c85-d238-4fa3-def3-6eccecc80268"
      },
      "outputs": [
        {
          "name": "stdout",
          "output_type": "stream",
          "text": [
            "\n",
            "Alex is looking to book a room for his 10th wedding anniversary at the Crystal Heights Hotel in Singapore. The hotel offers several room types that offer stunning views of the city skyline and the fictional Sapphire Bay. The special diamond suite even comes with exclusive access to the moonlit pool and star deck. The package includes breakfast, complimentary access to the moonlit pool and star deck, a one-time spa treatment for two, and a special romantic dinner at the cloud nine restaurant. A preauthorization amount of $1000 will be held on the card, which will be released upon checkout. There is a 10% service charge and a 7% fantasy tax applied to the room rate.\n"
          ]
        }
      ],
      "source": [
        "print(generation)"
      ]
    }
  ],
  "metadata": {
    "kernelspec": {
      "display_name": "Python 3 (ipykernel)",
      "language": "python",
      "name": "python3"
    },
    "language_info": {
      "codemirror_mode": {
        "name": "ipython",
        "version": 3
      },
      "file_extension": ".py",
      "mimetype": "text/x-python",
      "name": "python",
      "nbconvert_exporter": "python",
      "pygments_lexer": "ipython3",
      "version": "3.11.7"
    },
    "colab": {
      "provenance": [],
      "include_colab_link": true
    }
  },
  "nbformat": 4,
  "nbformat_minor": 5
}