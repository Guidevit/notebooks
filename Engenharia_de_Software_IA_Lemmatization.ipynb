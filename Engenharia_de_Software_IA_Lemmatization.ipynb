{
  "nbformat": 4,
  "nbformat_minor": 0,
  "metadata": {
    "colab": {
      "provenance": [],
      "authorship_tag": "ABX9TyMUAvs5oXSSJ+MIdwJCErIX",
      "include_colab_link": true
    },
    "kernelspec": {
      "name": "python3",
      "display_name": "Python 3"
    },
    "language_info": {
      "name": "python"
    }
  },
  "cells": [
    {
      "cell_type": "markdown",
      "metadata": {
        "id": "view-in-github",
        "colab_type": "text"
      },
      "source": [
        "<a href=\"https://colab.research.google.com/github/Guidevit/notebooks/blob/main/Engenharia_de_Software_IA_Lemmatization.ipynb\" target=\"_parent\"><img src=\"https://colab.research.google.com/assets/colab-badge.svg\" alt=\"Open In Colab\"/></a>"
      ]
    },
    {
      "cell_type": "markdown",
      "source": [
        "# Introdução à Lematização em Processamento de Linguagem Natural (NLP)\n",
        "\n",
        "A lematização é uma técnica essencial no campo do Processamento de Linguagem Natural (NLP), buscando simplificar a análise textual ao normalizar palavras para sua forma base, conhecida como \"lema\". Este material propõe-se a explorar de maneira abrangente o conceito de lematização, com foco especial na língua portuguesa. Através de exemplos práticos, utilizando Python e bibliotecas populares de NLP como NLTK e spaCy, iremos ilustrar não apenas a importância da lematização, mas também sua aplicação em contextos reais, destacando sua relevância no desenvolvimento de sistemas de processamento de texto mais eficazes."
      ],
      "metadata": {
        "id": "rYIN_l2JB3gt"
      }
    },
    {
      "cell_type": "markdown",
      "source": [
        "## O que é Lematização?\n",
        "Em análise textual, a técnica chamada de lematização visa simplificar formas variantes de palavras, trazendo-as de volta à sua raiz ou lema original. O objetivo é normalizar termos flexionais ou derivados em sua forma canônica, facilitando assim operações posteriores de busca, indexação ou classificação.\n",
        "\n",
        "Considere, por exemplo, os substantivos \"gato\", \"gatinho\" e \"gatos\"; todos eles compartilham do lema \"gato\". Outro caso semelhante se dá com os adjetivos \"azul\" e \"azuis\", cujo lema é também \"azul\". No entanto, é necessário reconhecer que existem desafios associados à lematização, especialmente quando lidamos com palavras irregulares ou distintas estruturas gramaticais presentes em outros idiomas além do inglês.\n",
        "\n",
        "Assim sendo, embora essa ferramenta seja valiosa em diversas áreas relacionadas ao tratamento de linguagem natural, seu uso requer cautela e consciência dos seus limites potenciais."
      ],
      "metadata": {
        "id": "PTuBdaiLCNpn"
      }
    },
    {
      "cell_type": "markdown",
      "source": [
        "## Importância da Lematização\n",
        "A lematização é uma etapa crucial no processamento de linguagem natural, pois visa simplificar a análise textual através da redução das palavras às suas formas canônicas, conhecidas como \"lemas\". Trata-se de uma técnica fundamental que auxilia em diversas atividades de NLP, inclusive em tarefas como classificação de texto, extração de informações e tradução automática. Exploremos agora os principais motivos pelos quais a lematização assume um papel tão relevante neste campo.\n",
        "\n",
        "**Redução de Variações:**\n",
        "\n",
        "No interior de qualquer idioma, as palavras podem aparecer sob diferentes formas, decorrentes principalmente de flexões verbais, conjugações e pluralizações. Por exemplo, a raiz \"correr\" pode assumir formas distintas, como \"correu\", \"correndo\", \"corra\", \"corram\", e assim por diante. De modo similar, o substantivo \"casa\" admite declinações como \"casas\", \"casa\", \"casinhas\", dentre outras. A lematização age exatamente nesse sentido, concentrando todos esses casos num único lema, isto é, a forma original da palavra, facilitando grandemente a manipulação e análise computacional do texto. Contudo, cabe observar que a lematização nem sempre estará livre de erros, haja vista que certas construções linguísticas complexas podem induzir incertezas quanto à verdadeira identidade do lema. Um exemplo característico são expressões idiomáticas, nas quais as partes componentes frequentemente sofrem modificações morfológicas peculiarmente difíceis de capturar através de mecanismos genéricos de lematização.\n",
        "\n",
        "**Compreensão Contextual:**\n",
        "\n",
        "Além de reduzir as variações gramaticais, a lematização proporciona uma maior compreensão contextual dos termos presentes no texto. Quando as palavras são convertidas para suas formas canônicas, algoritmos de NLP conseguem estabelecer relações semânticas mais robustas entre elas, favorecendo a inferência do significado das expressões conforme o contexto em que emergem. Considere a frase \"Ele correu para casa\": mediante a lematização de \"correu\" e \"casa\" (\"correr\" e \"casa\"), os algoritmos naturalmente tenderão a reconhecer que o sujeito estava se dirigindo rumo a um local habitacional. Esta capacidade de extrair sentidos e inferir proposições superlativas é imprescindível no âmbito de disciplinas como análise de sentimentos, onde a compreensão contextual é determinante para garantir uma interpretação adequada do teor das mensagens. Entretanto, cabe advertir que, em alguns casos, a conversão de palavras para seus lemas pode originar ambiguidades sérias, sendo indispensável um tratamento rigoroso do contexto circunjacente para dissipar eventuais mal-entendidos.\n",
        "\n",
        "**Melhoria da Precisão:**\n",
        "\n",
        "Uma consequência imediata da redução de variações e da compreensão contextual é a melhora na precisão de modelos preditivos derivados de técnicas de NLP. Conforme observado previamente, a lematização permite que os algoritmos detectem padrões mais facilmente, o que acaba impactando positivamente nas taxas de acurácia obtidas durante o processamento das informações. Tal fenômeno foi registrado em diversos trabalhos recentes, notadamente em áreas ligadas à mineração de opiniões e classificação de texto. Todavia, vale salientar que a utilidade da lematização depende bastante do domínio em análise, havendo situações em que sua incorporação pode acabar por prejudicar a performance global do sistema. Portanto, optar pela lematização requer cautela, levando-se em consideração a natureza dos problemas envolvidos e a disponibilidade de recursos computacionais adequados."
      ],
      "metadata": {
        "id": "693pPOrmCP68"
      }
    },
    {
      "cell_type": "markdown",
      "source": [
        "## Como funciona a Lematização?\n",
        "A lematização é um processo complexo que envolve a identificação da forma base de uma palavra, conhecida como \"lema\", a partir de suas variações flexionadas ou derivadas. Vamos explorar mais detalhadamente como a lematização é realizada e as diferentes abordagens usadas para alcançá-la:\n",
        "\n",
        "**Uso de Dicionários Léxicos e Regras Gramaticais:**\n",
        "\n",
        "Uma abordagem comum para a lematização é o uso de dicionários léxicos, que são coleções de palavras organizadas com suas formas flextionadas e seus lemas correspondentes. As regras gramaticais também são empregadas para ajudar na identificação do lema em contextos específicos. Por exemplo, um dicionário léxico pode listar as formas verbais \"andei\", \"andando\" e \"anda\" com o lema \"andar\". As regras gramaticais podem então ser aplicadas para determinar o lema apropriado com base na conjugação verbal.\n",
        "\n",
        "**Complexidade da Lematização em Português:**\n",
        "\n",
        "Em muitos idiomas, incluindo o português, a lematização pode ser mais desafiadora do que em inglês devido à riqueza de flexões verbais, conjugações nominais e derivações. Isso requer algoritmos mais sofisticados e extensos dicionários léxicos para lidar com as nuances da língua.\n",
        "\n",
        "**Ferramentas de NLP para Lematização:**\n",
        "\n",
        "Existem várias bibliotecas e ferramentas de NLP que implementam algoritmos eficientes de lematização para o português, facilitando o processo para os desenvolvedores e, apesar de não serem perfeitos, são muito utilizados. Algumas dessas ferramentas incluem:\n",
        "\n",
        "* NLTK (Natural Language Toolkit): Uma biblioteca amplamente utilizada em Python para processamento de linguagem natural, que oferece módulos para lematização.\n",
        "\n",
        "* spaCy: Uma biblioteca de PLN moderna e eficiente em Python que fornece suporte para lematização, entre outras funcionalidades.\n",
        "\n",
        "**Abordagens de Modelagem de Aprendizado de Máquina:**\n",
        "\n",
        "Algumas ferramentas de lematização utilizam modelos de aprendizado de máquina treinados em grandes conjuntos de texto anotados manualmente. Esses modelos aprendem padrões linguísticos complexos e contextuais para prever o lema de uma palavra com base em seu contexto. Os conjuntos de dados anotados manualmente contêm pares de palavras e seus lemas correspondentes, permitindo que os modelos aprendam a associar cada palavra à sua forma base."
      ],
      "metadata": {
        "id": "M88xDaSxCT3N"
      }
    },
    {
      "cell_type": "markdown",
      "source": [
        "# Prática"
      ],
      "metadata": {
        "id": "cYch2LWu9Fzi"
      }
    },
    {
      "cell_type": "markdown",
      "source": [
        "Instale o pacote do spaCy para o idioma português:"
      ],
      "metadata": {
        "id": "QCn9ACCNDgCV"
      }
    },
    {
      "cell_type": "code",
      "source": [
        "!pip install spacy"
      ],
      "metadata": {
        "colab": {
          "base_uri": "https://localhost:8080/"
        },
        "id": "8CbpEx4iDHMM",
        "outputId": "08ebb1dd-bcd0-4b25-a1a6-12ae43fe0938"
      },
      "execution_count": null,
      "outputs": [
        {
          "output_type": "stream",
          "name": "stdout",
          "text": [
            "Requirement already satisfied: spacy in /usr/local/lib/python3.10/dist-packages (3.7.4)\n",
            "Requirement already satisfied: spacy-legacy<3.1.0,>=3.0.11 in /usr/local/lib/python3.10/dist-packages (from spacy) (3.0.12)\n",
            "Requirement already satisfied: spacy-loggers<2.0.0,>=1.0.0 in /usr/local/lib/python3.10/dist-packages (from spacy) (1.0.5)\n",
            "Requirement already satisfied: murmurhash<1.1.0,>=0.28.0 in /usr/local/lib/python3.10/dist-packages (from spacy) (1.0.10)\n",
            "Requirement already satisfied: cymem<2.1.0,>=2.0.2 in /usr/local/lib/python3.10/dist-packages (from spacy) (2.0.8)\n",
            "Requirement already satisfied: preshed<3.1.0,>=3.0.2 in /usr/local/lib/python3.10/dist-packages (from spacy) (3.0.9)\n",
            "Requirement already satisfied: thinc<8.3.0,>=8.2.2 in /usr/local/lib/python3.10/dist-packages (from spacy) (8.2.3)\n",
            "Requirement already satisfied: wasabi<1.2.0,>=0.9.1 in /usr/local/lib/python3.10/dist-packages (from spacy) (1.1.2)\n",
            "Requirement already satisfied: srsly<3.0.0,>=2.4.3 in /usr/local/lib/python3.10/dist-packages (from spacy) (2.4.8)\n",
            "Requirement already satisfied: catalogue<2.1.0,>=2.0.6 in /usr/local/lib/python3.10/dist-packages (from spacy) (2.0.10)\n",
            "Requirement already satisfied: weasel<0.4.0,>=0.1.0 in /usr/local/lib/python3.10/dist-packages (from spacy) (0.3.4)\n",
            "Requirement already satisfied: typer<0.10.0,>=0.3.0 in /usr/local/lib/python3.10/dist-packages (from spacy) (0.9.0)\n",
            "Requirement already satisfied: smart-open<7.0.0,>=5.2.1 in /usr/local/lib/python3.10/dist-packages (from spacy) (6.4.0)\n",
            "Requirement already satisfied: tqdm<5.0.0,>=4.38.0 in /usr/local/lib/python3.10/dist-packages (from spacy) (4.66.2)\n",
            "Requirement already satisfied: requests<3.0.0,>=2.13.0 in /usr/local/lib/python3.10/dist-packages (from spacy) (2.31.0)\n",
            "Requirement already satisfied: pydantic!=1.8,!=1.8.1,<3.0.0,>=1.7.4 in /usr/local/lib/python3.10/dist-packages (from spacy) (2.6.1)\n",
            "Requirement already satisfied: jinja2 in /usr/local/lib/python3.10/dist-packages (from spacy) (3.1.3)\n",
            "Requirement already satisfied: setuptools in /usr/local/lib/python3.10/dist-packages (from spacy) (67.7.2)\n",
            "Requirement already satisfied: packaging>=20.0 in /usr/local/lib/python3.10/dist-packages (from spacy) (23.2)\n",
            "Requirement already satisfied: langcodes<4.0.0,>=3.2.0 in /usr/local/lib/python3.10/dist-packages (from spacy) (3.3.0)\n",
            "Requirement already satisfied: numpy>=1.19.0 in /usr/local/lib/python3.10/dist-packages (from spacy) (1.25.2)\n",
            "Requirement already satisfied: annotated-types>=0.4.0 in /usr/local/lib/python3.10/dist-packages (from pydantic!=1.8,!=1.8.1,<3.0.0,>=1.7.4->spacy) (0.6.0)\n",
            "Requirement already satisfied: pydantic-core==2.16.2 in /usr/local/lib/python3.10/dist-packages (from pydantic!=1.8,!=1.8.1,<3.0.0,>=1.7.4->spacy) (2.16.2)\n",
            "Requirement already satisfied: typing-extensions>=4.6.1 in /usr/local/lib/python3.10/dist-packages (from pydantic!=1.8,!=1.8.1,<3.0.0,>=1.7.4->spacy) (4.9.0)\n",
            "Requirement already satisfied: charset-normalizer<4,>=2 in /usr/local/lib/python3.10/dist-packages (from requests<3.0.0,>=2.13.0->spacy) (3.3.2)\n",
            "Requirement already satisfied: idna<4,>=2.5 in /usr/local/lib/python3.10/dist-packages (from requests<3.0.0,>=2.13.0->spacy) (3.6)\n",
            "Requirement already satisfied: urllib3<3,>=1.21.1 in /usr/local/lib/python3.10/dist-packages (from requests<3.0.0,>=2.13.0->spacy) (2.0.7)\n",
            "Requirement already satisfied: certifi>=2017.4.17 in /usr/local/lib/python3.10/dist-packages (from requests<3.0.0,>=2.13.0->spacy) (2024.2.2)\n",
            "Requirement already satisfied: blis<0.8.0,>=0.7.8 in /usr/local/lib/python3.10/dist-packages (from thinc<8.3.0,>=8.2.2->spacy) (0.7.11)\n",
            "Requirement already satisfied: confection<1.0.0,>=0.0.1 in /usr/local/lib/python3.10/dist-packages (from thinc<8.3.0,>=8.2.2->spacy) (0.1.4)\n",
            "Requirement already satisfied: click<9.0.0,>=7.1.1 in /usr/local/lib/python3.10/dist-packages (from typer<0.10.0,>=0.3.0->spacy) (8.1.7)\n",
            "Requirement already satisfied: cloudpathlib<0.17.0,>=0.7.0 in /usr/local/lib/python3.10/dist-packages (from weasel<0.4.0,>=0.1.0->spacy) (0.16.0)\n",
            "Requirement already satisfied: MarkupSafe>=2.0 in /usr/local/lib/python3.10/dist-packages (from jinja2->spacy) (2.1.5)\n"
          ]
        }
      ]
    },
    {
      "cell_type": "code",
      "source": [
        "# Baixe o modelo 'pt_core_news_sm' em português\n",
        "spacy.cli.download(\"pt_core_news_sm\")"
      ],
      "metadata": {
        "colab": {
          "base_uri": "https://localhost:8080/"
        },
        "id": "eNvp8581EI-L",
        "outputId": "019f0caa-114e-427b-8477-813da8aedd7c"
      },
      "execution_count": null,
      "outputs": [
        {
          "output_type": "stream",
          "name": "stdout",
          "text": [
            "\u001b[38;5;2m✔ Download and installation successful\u001b[0m\n",
            "You can now load the package via spacy.load('pt_core_news_sm')\n",
            "\u001b[38;5;3m⚠ Restart to reload dependencies\u001b[0m\n",
            "If you are in a Jupyter or Colab notebook, you may need to restart Python in\n",
            "order to load all the package's dependencies. You can do this by selecting the\n",
            "'Restart kernel' or 'Restart runtime' option.\n"
          ]
        }
      ]
    },
    {
      "cell_type": "markdown",
      "source": [
        "Exemplo básico de lemmatização com spaCy:"
      ],
      "metadata": {
        "id": "nvhhUTDwDmHQ"
      }
    },
    {
      "cell_type": "code",
      "source": [
        "import spacy\n",
        "\n",
        "# Carregue o modelo para português\n",
        "nlp = spacy.load('pt_core_news_sm')\n",
        "\n",
        "# Texto de exemplo\n",
        "texto = \"Os gatos estão caçando ratos no jardim\"\n",
        "\n",
        "# Processamento do texto com spaCy\n",
        "doc = nlp(texto)\n",
        "\n",
        "# Lemmatização\n",
        "lemmas = [token.lemma_ for token in doc]\n",
        "\n",
        "# Imprimir os lemas\n",
        "print(lemmas)\n"
      ],
      "metadata": {
        "colab": {
          "base_uri": "https://localhost:8080/"
        },
        "id": "3zOuaMS-DoWS",
        "outputId": "593063ea-7d1d-4c5b-bd08-a1ea65d0fbb5"
      },
      "execution_count": null,
      "outputs": [
        {
          "output_type": "stream",
          "name": "stdout",
          "text": [
            "['o', 'gato', 'estar', 'caçar', 'rato', 'em o', 'jardim']\n"
          ]
        }
      ]
    },
    {
      "cell_type": "markdown",
      "source": [
        "Criando um DataFrame com os resultados da lematização:"
      ],
      "metadata": {
        "id": "Gv7rffrZE0yR"
      }
    },
    {
      "cell_type": "code",
      "source": [
        "import pandas as pd\n",
        "import spacy\n",
        "\n",
        "# Carregue o modelo para português\n",
        "nlp = spacy.load('pt_core_news_sm')\n",
        "\n",
        "# Função para lematizar um texto\n",
        "def lemmatize_text(texto):\n",
        "    doc = nlp(texto)\n",
        "    lemmas = [token.lemma_ for token in doc]\n",
        "    return ' '.join(lemmas)\n",
        "\n",
        "# Dados de exemplo\n",
        "dados = {'Texto': ['Os gatos estão caçando ratos no jardim',\n",
        "                   'Ele gostava de correr todas as manhãs',\n",
        "                   'Ela canta muito bem']}\n",
        "\n",
        "# Criar DataFrame\n",
        "df = pd.DataFrame(dados)\n",
        "\n",
        "# Aplicar lematização aos dados\n",
        "df['Texto Lematizado'] = df['Texto'].apply(lemmatize_text)\n",
        "\n",
        "# Imprimir DataFrame\n",
        "df\n"
      ],
      "metadata": {
        "colab": {
          "base_uri": "https://localhost:8080/",
          "height": 143
        },
        "id": "UqkQEwsoE7RJ",
        "outputId": "df7420e1-02c8-4d7d-bf01-1150ac49cb81"
      },
      "execution_count": null,
      "outputs": [
        {
          "output_type": "execute_result",
          "data": {
            "text/plain": [
              "                                    Texto                     Texto Lematizado\n",
              "0  Os gatos estão caçando ratos no jardim  o gato estar caçar rato em o jardim\n",
              "1   Ele gostava de correr todas as manhãs   ele gostar de correr todo o manhãs\n",
              "2                     Ela canta muito bem                 ela cantar muito bem"
            ],
            "text/html": [
              "\n",
              "  <div id=\"df-a0b2122e-861a-4a9a-ab84-e6ddcfa9a3d0\" class=\"colab-df-container\">\n",
              "    <div>\n",
              "<style scoped>\n",
              "    .dataframe tbody tr th:only-of-type {\n",
              "        vertical-align: middle;\n",
              "    }\n",
              "\n",
              "    .dataframe tbody tr th {\n",
              "        vertical-align: top;\n",
              "    }\n",
              "\n",
              "    .dataframe thead th {\n",
              "        text-align: right;\n",
              "    }\n",
              "</style>\n",
              "<table border=\"1\" class=\"dataframe\">\n",
              "  <thead>\n",
              "    <tr style=\"text-align: right;\">\n",
              "      <th></th>\n",
              "      <th>Texto</th>\n",
              "      <th>Texto Lematizado</th>\n",
              "    </tr>\n",
              "  </thead>\n",
              "  <tbody>\n",
              "    <tr>\n",
              "      <th>0</th>\n",
              "      <td>Os gatos estão caçando ratos no jardim</td>\n",
              "      <td>o gato estar caçar rato em o jardim</td>\n",
              "    </tr>\n",
              "    <tr>\n",
              "      <th>1</th>\n",
              "      <td>Ele gostava de correr todas as manhãs</td>\n",
              "      <td>ele gostar de correr todo o manhãs</td>\n",
              "    </tr>\n",
              "    <tr>\n",
              "      <th>2</th>\n",
              "      <td>Ela canta muito bem</td>\n",
              "      <td>ela cantar muito bem</td>\n",
              "    </tr>\n",
              "  </tbody>\n",
              "</table>\n",
              "</div>\n",
              "    <div class=\"colab-df-buttons\">\n",
              "\n",
              "  <div class=\"colab-df-container\">\n",
              "    <button class=\"colab-df-convert\" onclick=\"convertToInteractive('df-a0b2122e-861a-4a9a-ab84-e6ddcfa9a3d0')\"\n",
              "            title=\"Convert this dataframe to an interactive table.\"\n",
              "            style=\"display:none;\">\n",
              "\n",
              "  <svg xmlns=\"http://www.w3.org/2000/svg\" height=\"24px\" viewBox=\"0 -960 960 960\">\n",
              "    <path d=\"M120-120v-720h720v720H120Zm60-500h600v-160H180v160Zm220 220h160v-160H400v160Zm0 220h160v-160H400v160ZM180-400h160v-160H180v160Zm440 0h160v-160H620v160ZM180-180h160v-160H180v160Zm440 0h160v-160H620v160Z\"/>\n",
              "  </svg>\n",
              "    </button>\n",
              "\n",
              "  <style>\n",
              "    .colab-df-container {\n",
              "      display:flex;\n",
              "      gap: 12px;\n",
              "    }\n",
              "\n",
              "    .colab-df-convert {\n",
              "      background-color: #E8F0FE;\n",
              "      border: none;\n",
              "      border-radius: 50%;\n",
              "      cursor: pointer;\n",
              "      display: none;\n",
              "      fill: #1967D2;\n",
              "      height: 32px;\n",
              "      padding: 0 0 0 0;\n",
              "      width: 32px;\n",
              "    }\n",
              "\n",
              "    .colab-df-convert:hover {\n",
              "      background-color: #E2EBFA;\n",
              "      box-shadow: 0px 1px 2px rgba(60, 64, 67, 0.3), 0px 1px 3px 1px rgba(60, 64, 67, 0.15);\n",
              "      fill: #174EA6;\n",
              "    }\n",
              "\n",
              "    .colab-df-buttons div {\n",
              "      margin-bottom: 4px;\n",
              "    }\n",
              "\n",
              "    [theme=dark] .colab-df-convert {\n",
              "      background-color: #3B4455;\n",
              "      fill: #D2E3FC;\n",
              "    }\n",
              "\n",
              "    [theme=dark] .colab-df-convert:hover {\n",
              "      background-color: #434B5C;\n",
              "      box-shadow: 0px 1px 3px 1px rgba(0, 0, 0, 0.15);\n",
              "      filter: drop-shadow(0px 1px 2px rgba(0, 0, 0, 0.3));\n",
              "      fill: #FFFFFF;\n",
              "    }\n",
              "  </style>\n",
              "\n",
              "    <script>\n",
              "      const buttonEl =\n",
              "        document.querySelector('#df-a0b2122e-861a-4a9a-ab84-e6ddcfa9a3d0 button.colab-df-convert');\n",
              "      buttonEl.style.display =\n",
              "        google.colab.kernel.accessAllowed ? 'block' : 'none';\n",
              "\n",
              "      async function convertToInteractive(key) {\n",
              "        const element = document.querySelector('#df-a0b2122e-861a-4a9a-ab84-e6ddcfa9a3d0');\n",
              "        const dataTable =\n",
              "          await google.colab.kernel.invokeFunction('convertToInteractive',\n",
              "                                                    [key], {});\n",
              "        if (!dataTable) return;\n",
              "\n",
              "        const docLinkHtml = 'Like what you see? Visit the ' +\n",
              "          '<a target=\"_blank\" href=https://colab.research.google.com/notebooks/data_table.ipynb>data table notebook</a>'\n",
              "          + ' to learn more about interactive tables.';\n",
              "        element.innerHTML = '';\n",
              "        dataTable['output_type'] = 'display_data';\n",
              "        await google.colab.output.renderOutput(dataTable, element);\n",
              "        const docLink = document.createElement('div');\n",
              "        docLink.innerHTML = docLinkHtml;\n",
              "        element.appendChild(docLink);\n",
              "      }\n",
              "    </script>\n",
              "  </div>\n",
              "\n",
              "\n",
              "<div id=\"df-d6f24145-c9ab-4497-ad25-1495111727da\">\n",
              "  <button class=\"colab-df-quickchart\" onclick=\"quickchart('df-d6f24145-c9ab-4497-ad25-1495111727da')\"\n",
              "            title=\"Suggest charts\"\n",
              "            style=\"display:none;\">\n",
              "\n",
              "<svg xmlns=\"http://www.w3.org/2000/svg\" height=\"24px\"viewBox=\"0 0 24 24\"\n",
              "     width=\"24px\">\n",
              "    <g>\n",
              "        <path d=\"M19 3H5c-1.1 0-2 .9-2 2v14c0 1.1.9 2 2 2h14c1.1 0 2-.9 2-2V5c0-1.1-.9-2-2-2zM9 17H7v-7h2v7zm4 0h-2V7h2v10zm4 0h-2v-4h2v4z\"/>\n",
              "    </g>\n",
              "</svg>\n",
              "  </button>\n",
              "\n",
              "<style>\n",
              "  .colab-df-quickchart {\n",
              "      --bg-color: #E8F0FE;\n",
              "      --fill-color: #1967D2;\n",
              "      --hover-bg-color: #E2EBFA;\n",
              "      --hover-fill-color: #174EA6;\n",
              "      --disabled-fill-color: #AAA;\n",
              "      --disabled-bg-color: #DDD;\n",
              "  }\n",
              "\n",
              "  [theme=dark] .colab-df-quickchart {\n",
              "      --bg-color: #3B4455;\n",
              "      --fill-color: #D2E3FC;\n",
              "      --hover-bg-color: #434B5C;\n",
              "      --hover-fill-color: #FFFFFF;\n",
              "      --disabled-bg-color: #3B4455;\n",
              "      --disabled-fill-color: #666;\n",
              "  }\n",
              "\n",
              "  .colab-df-quickchart {\n",
              "    background-color: var(--bg-color);\n",
              "    border: none;\n",
              "    border-radius: 50%;\n",
              "    cursor: pointer;\n",
              "    display: none;\n",
              "    fill: var(--fill-color);\n",
              "    height: 32px;\n",
              "    padding: 0;\n",
              "    width: 32px;\n",
              "  }\n",
              "\n",
              "  .colab-df-quickchart:hover {\n",
              "    background-color: var(--hover-bg-color);\n",
              "    box-shadow: 0 1px 2px rgba(60, 64, 67, 0.3), 0 1px 3px 1px rgba(60, 64, 67, 0.15);\n",
              "    fill: var(--button-hover-fill-color);\n",
              "  }\n",
              "\n",
              "  .colab-df-quickchart-complete:disabled,\n",
              "  .colab-df-quickchart-complete:disabled:hover {\n",
              "    background-color: var(--disabled-bg-color);\n",
              "    fill: var(--disabled-fill-color);\n",
              "    box-shadow: none;\n",
              "  }\n",
              "\n",
              "  .colab-df-spinner {\n",
              "    border: 2px solid var(--fill-color);\n",
              "    border-color: transparent;\n",
              "    border-bottom-color: var(--fill-color);\n",
              "    animation:\n",
              "      spin 1s steps(1) infinite;\n",
              "  }\n",
              "\n",
              "  @keyframes spin {\n",
              "    0% {\n",
              "      border-color: transparent;\n",
              "      border-bottom-color: var(--fill-color);\n",
              "      border-left-color: var(--fill-color);\n",
              "    }\n",
              "    20% {\n",
              "      border-color: transparent;\n",
              "      border-left-color: var(--fill-color);\n",
              "      border-top-color: var(--fill-color);\n",
              "    }\n",
              "    30% {\n",
              "      border-color: transparent;\n",
              "      border-left-color: var(--fill-color);\n",
              "      border-top-color: var(--fill-color);\n",
              "      border-right-color: var(--fill-color);\n",
              "    }\n",
              "    40% {\n",
              "      border-color: transparent;\n",
              "      border-right-color: var(--fill-color);\n",
              "      border-top-color: var(--fill-color);\n",
              "    }\n",
              "    60% {\n",
              "      border-color: transparent;\n",
              "      border-right-color: var(--fill-color);\n",
              "    }\n",
              "    80% {\n",
              "      border-color: transparent;\n",
              "      border-right-color: var(--fill-color);\n",
              "      border-bottom-color: var(--fill-color);\n",
              "    }\n",
              "    90% {\n",
              "      border-color: transparent;\n",
              "      border-bottom-color: var(--fill-color);\n",
              "    }\n",
              "  }\n",
              "</style>\n",
              "\n",
              "  <script>\n",
              "    async function quickchart(key) {\n",
              "      const quickchartButtonEl =\n",
              "        document.querySelector('#' + key + ' button');\n",
              "      quickchartButtonEl.disabled = true;  // To prevent multiple clicks.\n",
              "      quickchartButtonEl.classList.add('colab-df-spinner');\n",
              "      try {\n",
              "        const charts = await google.colab.kernel.invokeFunction(\n",
              "            'suggestCharts', [key], {});\n",
              "      } catch (error) {\n",
              "        console.error('Error during call to suggestCharts:', error);\n",
              "      }\n",
              "      quickchartButtonEl.classList.remove('colab-df-spinner');\n",
              "      quickchartButtonEl.classList.add('colab-df-quickchart-complete');\n",
              "    }\n",
              "    (() => {\n",
              "      let quickchartButtonEl =\n",
              "        document.querySelector('#df-d6f24145-c9ab-4497-ad25-1495111727da button');\n",
              "      quickchartButtonEl.style.display =\n",
              "        google.colab.kernel.accessAllowed ? 'block' : 'none';\n",
              "    })();\n",
              "  </script>\n",
              "</div>\n",
              "\n",
              "  <div id=\"id_bb384d28-17df-4387-be00-4c13a7574e12\">\n",
              "    <style>\n",
              "      .colab-df-generate {\n",
              "        background-color: #E8F0FE;\n",
              "        border: none;\n",
              "        border-radius: 50%;\n",
              "        cursor: pointer;\n",
              "        display: none;\n",
              "        fill: #1967D2;\n",
              "        height: 32px;\n",
              "        padding: 0 0 0 0;\n",
              "        width: 32px;\n",
              "      }\n",
              "\n",
              "      .colab-df-generate:hover {\n",
              "        background-color: #E2EBFA;\n",
              "        box-shadow: 0px 1px 2px rgba(60, 64, 67, 0.3), 0px 1px 3px 1px rgba(60, 64, 67, 0.15);\n",
              "        fill: #174EA6;\n",
              "      }\n",
              "\n",
              "      [theme=dark] .colab-df-generate {\n",
              "        background-color: #3B4455;\n",
              "        fill: #D2E3FC;\n",
              "      }\n",
              "\n",
              "      [theme=dark] .colab-df-generate:hover {\n",
              "        background-color: #434B5C;\n",
              "        box-shadow: 0px 1px 3px 1px rgba(0, 0, 0, 0.15);\n",
              "        filter: drop-shadow(0px 1px 2px rgba(0, 0, 0, 0.3));\n",
              "        fill: #FFFFFF;\n",
              "      }\n",
              "    </style>\n",
              "    <button class=\"colab-df-generate\" onclick=\"generateWithVariable('df')\"\n",
              "            title=\"Generate code using this dataframe.\"\n",
              "            style=\"display:none;\">\n",
              "\n",
              "  <svg xmlns=\"http://www.w3.org/2000/svg\" height=\"24px\"viewBox=\"0 0 24 24\"\n",
              "       width=\"24px\">\n",
              "    <path d=\"M7,19H8.4L18.45,9,17,7.55,7,17.6ZM5,21V16.75L18.45,3.32a2,2,0,0,1,2.83,0l1.4,1.43a1.91,1.91,0,0,1,.58,1.4,1.91,1.91,0,0,1-.58,1.4L9.25,21ZM18.45,9,17,7.55Zm-12,3A5.31,5.31,0,0,0,4.9,8.1,5.31,5.31,0,0,0,1,6.5,5.31,5.31,0,0,0,4.9,4.9,5.31,5.31,0,0,0,6.5,1,5.31,5.31,0,0,0,8.1,4.9,5.31,5.31,0,0,0,12,6.5,5.46,5.46,0,0,0,6.5,12Z\"/>\n",
              "  </svg>\n",
              "    </button>\n",
              "    <script>\n",
              "      (() => {\n",
              "      const buttonEl =\n",
              "        document.querySelector('#id_bb384d28-17df-4387-be00-4c13a7574e12 button.colab-df-generate');\n",
              "      buttonEl.style.display =\n",
              "        google.colab.kernel.accessAllowed ? 'block' : 'none';\n",
              "\n",
              "      buttonEl.onclick = () => {\n",
              "        google.colab.notebook.generateWithVariable('df');\n",
              "      }\n",
              "      })();\n",
              "    </script>\n",
              "  </div>\n",
              "\n",
              "    </div>\n",
              "  </div>\n"
            ],
            "application/vnd.google.colaboratory.intrinsic+json": {
              "type": "dataframe",
              "variable_name": "df",
              "summary": "{\n  \"name\": \"df\",\n  \"rows\": 3,\n  \"fields\": [\n    {\n      \"column\": \"Texto\",\n      \"properties\": {\n        \"dtype\": \"string\",\n        \"num_unique_values\": 3,\n        \"samples\": [\n          \"Os gatos est\\u00e3o ca\\u00e7ando ratos no jardim\",\n          \"Ele gostava de correr todas as manh\\u00e3s\",\n          \"Ela canta muito bem\"\n        ],\n        \"semantic_type\": \"\",\n        \"description\": \"\"\n      }\n    },\n    {\n      \"column\": \"Texto Lematizado\",\n      \"properties\": {\n        \"dtype\": \"string\",\n        \"num_unique_values\": 3,\n        \"samples\": [\n          \"o gato estar ca\\u00e7ar rato em o jardim\",\n          \"ele gostar de correr todo o manh\\u00e3s\",\n          \"ela cantar muito bem\"\n        ],\n        \"semantic_type\": \"\",\n        \"description\": \"\"\n      }\n    }\n  ]\n}"
            }
          },
          "metadata": {},
          "execution_count": 9
        }
      ]
    }
  ]
}