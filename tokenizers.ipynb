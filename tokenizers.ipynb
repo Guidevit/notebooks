{
  "nbformat": 4,
  "nbformat_minor": 0,
  "metadata": {
    "colab": {
      "provenance": [],
      "gpuType": "T4",
      "authorship_tag": "ABX9TyNNNdpMjM/xDlDab/jtiaA+",
      "include_colab_link": true
    },
    "kernelspec": {
      "name": "python3",
      "display_name": "Python 3"
    },
    "language_info": {
      "name": "python"
    },
    "accelerator": "GPU",
    "widgets": {
      "application/vnd.jupyter.widget-state+json": {
        "ffd03cab2193432a9c1195bf1d9cedb2": {
          "model_module": "@jupyter-widgets/controls",
          "model_name": "HBoxModel",
          "model_module_version": "1.5.0",
          "state": {
            "_dom_classes": [],
            "_model_module": "@jupyter-widgets/controls",
            "_model_module_version": "1.5.0",
            "_model_name": "HBoxModel",
            "_view_count": null,
            "_view_module": "@jupyter-widgets/controls",
            "_view_module_version": "1.5.0",
            "_view_name": "HBoxView",
            "box_style": "",
            "children": [
              "IPY_MODEL_40446245bfa447949c79682602643a55",
              "IPY_MODEL_17e2e09d2a86416a9691a562c96286d3",
              "IPY_MODEL_f0ac29334e6844659eb5754652bef67c"
            ],
            "layout": "IPY_MODEL_6a2f47bd37444264a76a94ab35e346c5"
          }
        },
        "40446245bfa447949c79682602643a55": {
          "model_module": "@jupyter-widgets/controls",
          "model_name": "HTMLModel",
          "model_module_version": "1.5.0",
          "state": {
            "_dom_classes": [],
            "_model_module": "@jupyter-widgets/controls",
            "_model_module_version": "1.5.0",
            "_model_name": "HTMLModel",
            "_view_count": null,
            "_view_module": "@jupyter-widgets/controls",
            "_view_module_version": "1.5.0",
            "_view_name": "HTMLView",
            "description": "",
            "description_tooltip": null,
            "layout": "IPY_MODEL_e85b1a50bbf448ed8ed6a859781b3c19",
            "placeholder": "​",
            "style": "IPY_MODEL_edb7a26981ad451fbc0c175aad47ee14",
            "value": "Downloading (…)okenizer_config.json: 100%"
          }
        },
        "17e2e09d2a86416a9691a562c96286d3": {
          "model_module": "@jupyter-widgets/controls",
          "model_name": "FloatProgressModel",
          "model_module_version": "1.5.0",
          "state": {
            "_dom_classes": [],
            "_model_module": "@jupyter-widgets/controls",
            "_model_module_version": "1.5.0",
            "_model_name": "FloatProgressModel",
            "_view_count": null,
            "_view_module": "@jupyter-widgets/controls",
            "_view_module_version": "1.5.0",
            "_view_name": "ProgressView",
            "bar_style": "success",
            "description": "",
            "description_tooltip": null,
            "layout": "IPY_MODEL_6f0df5585b24444f8600d072c64f4806",
            "max": 29,
            "min": 0,
            "orientation": "horizontal",
            "style": "IPY_MODEL_997321b7849f475abfc86a351c26d55e",
            "value": 29
          }
        },
        "f0ac29334e6844659eb5754652bef67c": {
          "model_module": "@jupyter-widgets/controls",
          "model_name": "HTMLModel",
          "model_module_version": "1.5.0",
          "state": {
            "_dom_classes": [],
            "_model_module": "@jupyter-widgets/controls",
            "_model_module_version": "1.5.0",
            "_model_name": "HTMLModel",
            "_view_count": null,
            "_view_module": "@jupyter-widgets/controls",
            "_view_module_version": "1.5.0",
            "_view_name": "HTMLView",
            "description": "",
            "description_tooltip": null,
            "layout": "IPY_MODEL_18296cca60654c85820046fed694b007",
            "placeholder": "​",
            "style": "IPY_MODEL_92f41d5157c14a6e80409d9dbd3fef0c",
            "value": " 29.0/29.0 [00:00&lt;00:00, 1.11kB/s]"
          }
        },
        "6a2f47bd37444264a76a94ab35e346c5": {
          "model_module": "@jupyter-widgets/base",
          "model_name": "LayoutModel",
          "model_module_version": "1.2.0",
          "state": {
            "_model_module": "@jupyter-widgets/base",
            "_model_module_version": "1.2.0",
            "_model_name": "LayoutModel",
            "_view_count": null,
            "_view_module": "@jupyter-widgets/base",
            "_view_module_version": "1.2.0",
            "_view_name": "LayoutView",
            "align_content": null,
            "align_items": null,
            "align_self": null,
            "border": null,
            "bottom": null,
            "display": null,
            "flex": null,
            "flex_flow": null,
            "grid_area": null,
            "grid_auto_columns": null,
            "grid_auto_flow": null,
            "grid_auto_rows": null,
            "grid_column": null,
            "grid_gap": null,
            "grid_row": null,
            "grid_template_areas": null,
            "grid_template_columns": null,
            "grid_template_rows": null,
            "height": null,
            "justify_content": null,
            "justify_items": null,
            "left": null,
            "margin": null,
            "max_height": null,
            "max_width": null,
            "min_height": null,
            "min_width": null,
            "object_fit": null,
            "object_position": null,
            "order": null,
            "overflow": null,
            "overflow_x": null,
            "overflow_y": null,
            "padding": null,
            "right": null,
            "top": null,
            "visibility": null,
            "width": null
          }
        },
        "e85b1a50bbf448ed8ed6a859781b3c19": {
          "model_module": "@jupyter-widgets/base",
          "model_name": "LayoutModel",
          "model_module_version": "1.2.0",
          "state": {
            "_model_module": "@jupyter-widgets/base",
            "_model_module_version": "1.2.0",
            "_model_name": "LayoutModel",
            "_view_count": null,
            "_view_module": "@jupyter-widgets/base",
            "_view_module_version": "1.2.0",
            "_view_name": "LayoutView",
            "align_content": null,
            "align_items": null,
            "align_self": null,
            "border": null,
            "bottom": null,
            "display": null,
            "flex": null,
            "flex_flow": null,
            "grid_area": null,
            "grid_auto_columns": null,
            "grid_auto_flow": null,
            "grid_auto_rows": null,
            "grid_column": null,
            "grid_gap": null,
            "grid_row": null,
            "grid_template_areas": null,
            "grid_template_columns": null,
            "grid_template_rows": null,
            "height": null,
            "justify_content": null,
            "justify_items": null,
            "left": null,
            "margin": null,
            "max_height": null,
            "max_width": null,
            "min_height": null,
            "min_width": null,
            "object_fit": null,
            "object_position": null,
            "order": null,
            "overflow": null,
            "overflow_x": null,
            "overflow_y": null,
            "padding": null,
            "right": null,
            "top": null,
            "visibility": null,
            "width": null
          }
        },
        "edb7a26981ad451fbc0c175aad47ee14": {
          "model_module": "@jupyter-widgets/controls",
          "model_name": "DescriptionStyleModel",
          "model_module_version": "1.5.0",
          "state": {
            "_model_module": "@jupyter-widgets/controls",
            "_model_module_version": "1.5.0",
            "_model_name": "DescriptionStyleModel",
            "_view_count": null,
            "_view_module": "@jupyter-widgets/base",
            "_view_module_version": "1.2.0",
            "_view_name": "StyleView",
            "description_width": ""
          }
        },
        "6f0df5585b24444f8600d072c64f4806": {
          "model_module": "@jupyter-widgets/base",
          "model_name": "LayoutModel",
          "model_module_version": "1.2.0",
          "state": {
            "_model_module": "@jupyter-widgets/base",
            "_model_module_version": "1.2.0",
            "_model_name": "LayoutModel",
            "_view_count": null,
            "_view_module": "@jupyter-widgets/base",
            "_view_module_version": "1.2.0",
            "_view_name": "LayoutView",
            "align_content": null,
            "align_items": null,
            "align_self": null,
            "border": null,
            "bottom": null,
            "display": null,
            "flex": null,
            "flex_flow": null,
            "grid_area": null,
            "grid_auto_columns": null,
            "grid_auto_flow": null,
            "grid_auto_rows": null,
            "grid_column": null,
            "grid_gap": null,
            "grid_row": null,
            "grid_template_areas": null,
            "grid_template_columns": null,
            "grid_template_rows": null,
            "height": null,
            "justify_content": null,
            "justify_items": null,
            "left": null,
            "margin": null,
            "max_height": null,
            "max_width": null,
            "min_height": null,
            "min_width": null,
            "object_fit": null,
            "object_position": null,
            "order": null,
            "overflow": null,
            "overflow_x": null,
            "overflow_y": null,
            "padding": null,
            "right": null,
            "top": null,
            "visibility": null,
            "width": null
          }
        },
        "997321b7849f475abfc86a351c26d55e": {
          "model_module": "@jupyter-widgets/controls",
          "model_name": "ProgressStyleModel",
          "model_module_version": "1.5.0",
          "state": {
            "_model_module": "@jupyter-widgets/controls",
            "_model_module_version": "1.5.0",
            "_model_name": "ProgressStyleModel",
            "_view_count": null,
            "_view_module": "@jupyter-widgets/base",
            "_view_module_version": "1.2.0",
            "_view_name": "StyleView",
            "bar_color": null,
            "description_width": ""
          }
        },
        "18296cca60654c85820046fed694b007": {
          "model_module": "@jupyter-widgets/base",
          "model_name": "LayoutModel",
          "model_module_version": "1.2.0",
          "state": {
            "_model_module": "@jupyter-widgets/base",
            "_model_module_version": "1.2.0",
            "_model_name": "LayoutModel",
            "_view_count": null,
            "_view_module": "@jupyter-widgets/base",
            "_view_module_version": "1.2.0",
            "_view_name": "LayoutView",
            "align_content": null,
            "align_items": null,
            "align_self": null,
            "border": null,
            "bottom": null,
            "display": null,
            "flex": null,
            "flex_flow": null,
            "grid_area": null,
            "grid_auto_columns": null,
            "grid_auto_flow": null,
            "grid_auto_rows": null,
            "grid_column": null,
            "grid_gap": null,
            "grid_row": null,
            "grid_template_areas": null,
            "grid_template_columns": null,
            "grid_template_rows": null,
            "height": null,
            "justify_content": null,
            "justify_items": null,
            "left": null,
            "margin": null,
            "max_height": null,
            "max_width": null,
            "min_height": null,
            "min_width": null,
            "object_fit": null,
            "object_position": null,
            "order": null,
            "overflow": null,
            "overflow_x": null,
            "overflow_y": null,
            "padding": null,
            "right": null,
            "top": null,
            "visibility": null,
            "width": null
          }
        },
        "92f41d5157c14a6e80409d9dbd3fef0c": {
          "model_module": "@jupyter-widgets/controls",
          "model_name": "DescriptionStyleModel",
          "model_module_version": "1.5.0",
          "state": {
            "_model_module": "@jupyter-widgets/controls",
            "_model_module_version": "1.5.0",
            "_model_name": "DescriptionStyleModel",
            "_view_count": null,
            "_view_module": "@jupyter-widgets/base",
            "_view_module_version": "1.2.0",
            "_view_name": "StyleView",
            "description_width": ""
          }
        },
        "bd54f2def53f424fae0d866200f70974": {
          "model_module": "@jupyter-widgets/controls",
          "model_name": "HBoxModel",
          "model_module_version": "1.5.0",
          "state": {
            "_dom_classes": [],
            "_model_module": "@jupyter-widgets/controls",
            "_model_module_version": "1.5.0",
            "_model_name": "HBoxModel",
            "_view_count": null,
            "_view_module": "@jupyter-widgets/controls",
            "_view_module_version": "1.5.0",
            "_view_name": "HBoxView",
            "box_style": "",
            "children": [
              "IPY_MODEL_b87598438ab3471ebddf609658f22ddd",
              "IPY_MODEL_c2979797624d45be80db4d8d4794fe5a",
              "IPY_MODEL_17cbcbc7374e4555b0d83e6c7fa04d39"
            ],
            "layout": "IPY_MODEL_1fddee7722f640b0887343829b102865"
          }
        },
        "b87598438ab3471ebddf609658f22ddd": {
          "model_module": "@jupyter-widgets/controls",
          "model_name": "HTMLModel",
          "model_module_version": "1.5.0",
          "state": {
            "_dom_classes": [],
            "_model_module": "@jupyter-widgets/controls",
            "_model_module_version": "1.5.0",
            "_model_name": "HTMLModel",
            "_view_count": null,
            "_view_module": "@jupyter-widgets/controls",
            "_view_module_version": "1.5.0",
            "_view_name": "HTMLView",
            "description": "",
            "description_tooltip": null,
            "layout": "IPY_MODEL_9823d18f578247c699f0aeff5bba0d03",
            "placeholder": "​",
            "style": "IPY_MODEL_b6ee83a4d7c0410098943c0110bee5c4",
            "value": "Downloading (…)solve/main/vocab.txt: 100%"
          }
        },
        "c2979797624d45be80db4d8d4794fe5a": {
          "model_module": "@jupyter-widgets/controls",
          "model_name": "FloatProgressModel",
          "model_module_version": "1.5.0",
          "state": {
            "_dom_classes": [],
            "_model_module": "@jupyter-widgets/controls",
            "_model_module_version": "1.5.0",
            "_model_name": "FloatProgressModel",
            "_view_count": null,
            "_view_module": "@jupyter-widgets/controls",
            "_view_module_version": "1.5.0",
            "_view_name": "ProgressView",
            "bar_style": "success",
            "description": "",
            "description_tooltip": null,
            "layout": "IPY_MODEL_17ac43f47f624defab1a44f91b1283d0",
            "max": 213450,
            "min": 0,
            "orientation": "horizontal",
            "style": "IPY_MODEL_7bae82d0f94648a5bd0792e59d4cbf91",
            "value": 213450
          }
        },
        "17cbcbc7374e4555b0d83e6c7fa04d39": {
          "model_module": "@jupyter-widgets/controls",
          "model_name": "HTMLModel",
          "model_module_version": "1.5.0",
          "state": {
            "_dom_classes": [],
            "_model_module": "@jupyter-widgets/controls",
            "_model_module_version": "1.5.0",
            "_model_name": "HTMLModel",
            "_view_count": null,
            "_view_module": "@jupyter-widgets/controls",
            "_view_module_version": "1.5.0",
            "_view_name": "HTMLView",
            "description": "",
            "description_tooltip": null,
            "layout": "IPY_MODEL_5dd974ff046049c28a6efc3f49fecdfe",
            "placeholder": "​",
            "style": "IPY_MODEL_69d09d9819ab476eb4e4137a1c1d34f2",
            "value": " 213k/213k [00:00&lt;00:00, 5.33MB/s]"
          }
        },
        "1fddee7722f640b0887343829b102865": {
          "model_module": "@jupyter-widgets/base",
          "model_name": "LayoutModel",
          "model_module_version": "1.2.0",
          "state": {
            "_model_module": "@jupyter-widgets/base",
            "_model_module_version": "1.2.0",
            "_model_name": "LayoutModel",
            "_view_count": null,
            "_view_module": "@jupyter-widgets/base",
            "_view_module_version": "1.2.0",
            "_view_name": "LayoutView",
            "align_content": null,
            "align_items": null,
            "align_self": null,
            "border": null,
            "bottom": null,
            "display": null,
            "flex": null,
            "flex_flow": null,
            "grid_area": null,
            "grid_auto_columns": null,
            "grid_auto_flow": null,
            "grid_auto_rows": null,
            "grid_column": null,
            "grid_gap": null,
            "grid_row": null,
            "grid_template_areas": null,
            "grid_template_columns": null,
            "grid_template_rows": null,
            "height": null,
            "justify_content": null,
            "justify_items": null,
            "left": null,
            "margin": null,
            "max_height": null,
            "max_width": null,
            "min_height": null,
            "min_width": null,
            "object_fit": null,
            "object_position": null,
            "order": null,
            "overflow": null,
            "overflow_x": null,
            "overflow_y": null,
            "padding": null,
            "right": null,
            "top": null,
            "visibility": null,
            "width": null
          }
        },
        "9823d18f578247c699f0aeff5bba0d03": {
          "model_module": "@jupyter-widgets/base",
          "model_name": "LayoutModel",
          "model_module_version": "1.2.0",
          "state": {
            "_model_module": "@jupyter-widgets/base",
            "_model_module_version": "1.2.0",
            "_model_name": "LayoutModel",
            "_view_count": null,
            "_view_module": "@jupyter-widgets/base",
            "_view_module_version": "1.2.0",
            "_view_name": "LayoutView",
            "align_content": null,
            "align_items": null,
            "align_self": null,
            "border": null,
            "bottom": null,
            "display": null,
            "flex": null,
            "flex_flow": null,
            "grid_area": null,
            "grid_auto_columns": null,
            "grid_auto_flow": null,
            "grid_auto_rows": null,
            "grid_column": null,
            "grid_gap": null,
            "grid_row": null,
            "grid_template_areas": null,
            "grid_template_columns": null,
            "grid_template_rows": null,
            "height": null,
            "justify_content": null,
            "justify_items": null,
            "left": null,
            "margin": null,
            "max_height": null,
            "max_width": null,
            "min_height": null,
            "min_width": null,
            "object_fit": null,
            "object_position": null,
            "order": null,
            "overflow": null,
            "overflow_x": null,
            "overflow_y": null,
            "padding": null,
            "right": null,
            "top": null,
            "visibility": null,
            "width": null
          }
        },
        "b6ee83a4d7c0410098943c0110bee5c4": {
          "model_module": "@jupyter-widgets/controls",
          "model_name": "DescriptionStyleModel",
          "model_module_version": "1.5.0",
          "state": {
            "_model_module": "@jupyter-widgets/controls",
            "_model_module_version": "1.5.0",
            "_model_name": "DescriptionStyleModel",
            "_view_count": null,
            "_view_module": "@jupyter-widgets/base",
            "_view_module_version": "1.2.0",
            "_view_name": "StyleView",
            "description_width": ""
          }
        },
        "17ac43f47f624defab1a44f91b1283d0": {
          "model_module": "@jupyter-widgets/base",
          "model_name": "LayoutModel",
          "model_module_version": "1.2.0",
          "state": {
            "_model_module": "@jupyter-widgets/base",
            "_model_module_version": "1.2.0",
            "_model_name": "LayoutModel",
            "_view_count": null,
            "_view_module": "@jupyter-widgets/base",
            "_view_module_version": "1.2.0",
            "_view_name": "LayoutView",
            "align_content": null,
            "align_items": null,
            "align_self": null,
            "border": null,
            "bottom": null,
            "display": null,
            "flex": null,
            "flex_flow": null,
            "grid_area": null,
            "grid_auto_columns": null,
            "grid_auto_flow": null,
            "grid_auto_rows": null,
            "grid_column": null,
            "grid_gap": null,
            "grid_row": null,
            "grid_template_areas": null,
            "grid_template_columns": null,
            "grid_template_rows": null,
            "height": null,
            "justify_content": null,
            "justify_items": null,
            "left": null,
            "margin": null,
            "max_height": null,
            "max_width": null,
            "min_height": null,
            "min_width": null,
            "object_fit": null,
            "object_position": null,
            "order": null,
            "overflow": null,
            "overflow_x": null,
            "overflow_y": null,
            "padding": null,
            "right": null,
            "top": null,
            "visibility": null,
            "width": null
          }
        },
        "7bae82d0f94648a5bd0792e59d4cbf91": {
          "model_module": "@jupyter-widgets/controls",
          "model_name": "ProgressStyleModel",
          "model_module_version": "1.5.0",
          "state": {
            "_model_module": "@jupyter-widgets/controls",
            "_model_module_version": "1.5.0",
            "_model_name": "ProgressStyleModel",
            "_view_count": null,
            "_view_module": "@jupyter-widgets/base",
            "_view_module_version": "1.2.0",
            "_view_name": "StyleView",
            "bar_color": null,
            "description_width": ""
          }
        },
        "5dd974ff046049c28a6efc3f49fecdfe": {
          "model_module": "@jupyter-widgets/base",
          "model_name": "LayoutModel",
          "model_module_version": "1.2.0",
          "state": {
            "_model_module": "@jupyter-widgets/base",
            "_model_module_version": "1.2.0",
            "_model_name": "LayoutModel",
            "_view_count": null,
            "_view_module": "@jupyter-widgets/base",
            "_view_module_version": "1.2.0",
            "_view_name": "LayoutView",
            "align_content": null,
            "align_items": null,
            "align_self": null,
            "border": null,
            "bottom": null,
            "display": null,
            "flex": null,
            "flex_flow": null,
            "grid_area": null,
            "grid_auto_columns": null,
            "grid_auto_flow": null,
            "grid_auto_rows": null,
            "grid_column": null,
            "grid_gap": null,
            "grid_row": null,
            "grid_template_areas": null,
            "grid_template_columns": null,
            "grid_template_rows": null,
            "height": null,
            "justify_content": null,
            "justify_items": null,
            "left": null,
            "margin": null,
            "max_height": null,
            "max_width": null,
            "min_height": null,
            "min_width": null,
            "object_fit": null,
            "object_position": null,
            "order": null,
            "overflow": null,
            "overflow_x": null,
            "overflow_y": null,
            "padding": null,
            "right": null,
            "top": null,
            "visibility": null,
            "width": null
          }
        },
        "69d09d9819ab476eb4e4137a1c1d34f2": {
          "model_module": "@jupyter-widgets/controls",
          "model_name": "DescriptionStyleModel",
          "model_module_version": "1.5.0",
          "state": {
            "_model_module": "@jupyter-widgets/controls",
            "_model_module_version": "1.5.0",
            "_model_name": "DescriptionStyleModel",
            "_view_count": null,
            "_view_module": "@jupyter-widgets/base",
            "_view_module_version": "1.2.0",
            "_view_name": "StyleView",
            "description_width": ""
          }
        },
        "84de15ab30fa4ea18facbfb9e574d2eb": {
          "model_module": "@jupyter-widgets/controls",
          "model_name": "HBoxModel",
          "model_module_version": "1.5.0",
          "state": {
            "_dom_classes": [],
            "_model_module": "@jupyter-widgets/controls",
            "_model_module_version": "1.5.0",
            "_model_name": "HBoxModel",
            "_view_count": null,
            "_view_module": "@jupyter-widgets/controls",
            "_view_module_version": "1.5.0",
            "_view_name": "HBoxView",
            "box_style": "",
            "children": [
              "IPY_MODEL_cea5c19081d24989baa8564abbd6cdf8",
              "IPY_MODEL_7606fea450d149e3a754349293abe2b7",
              "IPY_MODEL_e508de64e4b44e81b7f88b551692c39f"
            ],
            "layout": "IPY_MODEL_60aecf7915c6408798caaca667b0cbfb"
          }
        },
        "cea5c19081d24989baa8564abbd6cdf8": {
          "model_module": "@jupyter-widgets/controls",
          "model_name": "HTMLModel",
          "model_module_version": "1.5.0",
          "state": {
            "_dom_classes": [],
            "_model_module": "@jupyter-widgets/controls",
            "_model_module_version": "1.5.0",
            "_model_name": "HTMLModel",
            "_view_count": null,
            "_view_module": "@jupyter-widgets/controls",
            "_view_module_version": "1.5.0",
            "_view_name": "HTMLView",
            "description": "",
            "description_tooltip": null,
            "layout": "IPY_MODEL_7c6d5676b49e494395d4180e11495ffc",
            "placeholder": "​",
            "style": "IPY_MODEL_0f74440b34414deeb04c015cdcfa23ca",
            "value": "Downloading (…)/main/tokenizer.json: 100%"
          }
        },
        "7606fea450d149e3a754349293abe2b7": {
          "model_module": "@jupyter-widgets/controls",
          "model_name": "FloatProgressModel",
          "model_module_version": "1.5.0",
          "state": {
            "_dom_classes": [],
            "_model_module": "@jupyter-widgets/controls",
            "_model_module_version": "1.5.0",
            "_model_name": "FloatProgressModel",
            "_view_count": null,
            "_view_module": "@jupyter-widgets/controls",
            "_view_module_version": "1.5.0",
            "_view_name": "ProgressView",
            "bar_style": "success",
            "description": "",
            "description_tooltip": null,
            "layout": "IPY_MODEL_d073e09ebc3a4f0980b99e64fac86f69",
            "max": 435797,
            "min": 0,
            "orientation": "horizontal",
            "style": "IPY_MODEL_04bf6a00252f4f6e85e83c401c4c5505",
            "value": 435797
          }
        },
        "e508de64e4b44e81b7f88b551692c39f": {
          "model_module": "@jupyter-widgets/controls",
          "model_name": "HTMLModel",
          "model_module_version": "1.5.0",
          "state": {
            "_dom_classes": [],
            "_model_module": "@jupyter-widgets/controls",
            "_model_module_version": "1.5.0",
            "_model_name": "HTMLModel",
            "_view_count": null,
            "_view_module": "@jupyter-widgets/controls",
            "_view_module_version": "1.5.0",
            "_view_name": "HTMLView",
            "description": "",
            "description_tooltip": null,
            "layout": "IPY_MODEL_deb423a057714ed2bf4c29e28810d93a",
            "placeholder": "​",
            "style": "IPY_MODEL_c0ac3ce99e3a411da03af6c4fed18201",
            "value": " 436k/436k [00:00&lt;00:00, 6.02MB/s]"
          }
        },
        "60aecf7915c6408798caaca667b0cbfb": {
          "model_module": "@jupyter-widgets/base",
          "model_name": "LayoutModel",
          "model_module_version": "1.2.0",
          "state": {
            "_model_module": "@jupyter-widgets/base",
            "_model_module_version": "1.2.0",
            "_model_name": "LayoutModel",
            "_view_count": null,
            "_view_module": "@jupyter-widgets/base",
            "_view_module_version": "1.2.0",
            "_view_name": "LayoutView",
            "align_content": null,
            "align_items": null,
            "align_self": null,
            "border": null,
            "bottom": null,
            "display": null,
            "flex": null,
            "flex_flow": null,
            "grid_area": null,
            "grid_auto_columns": null,
            "grid_auto_flow": null,
            "grid_auto_rows": null,
            "grid_column": null,
            "grid_gap": null,
            "grid_row": null,
            "grid_template_areas": null,
            "grid_template_columns": null,
            "grid_template_rows": null,
            "height": null,
            "justify_content": null,
            "justify_items": null,
            "left": null,
            "margin": null,
            "max_height": null,
            "max_width": null,
            "min_height": null,
            "min_width": null,
            "object_fit": null,
            "object_position": null,
            "order": null,
            "overflow": null,
            "overflow_x": null,
            "overflow_y": null,
            "padding": null,
            "right": null,
            "top": null,
            "visibility": null,
            "width": null
          }
        },
        "7c6d5676b49e494395d4180e11495ffc": {
          "model_module": "@jupyter-widgets/base",
          "model_name": "LayoutModel",
          "model_module_version": "1.2.0",
          "state": {
            "_model_module": "@jupyter-widgets/base",
            "_model_module_version": "1.2.0",
            "_model_name": "LayoutModel",
            "_view_count": null,
            "_view_module": "@jupyter-widgets/base",
            "_view_module_version": "1.2.0",
            "_view_name": "LayoutView",
            "align_content": null,
            "align_items": null,
            "align_self": null,
            "border": null,
            "bottom": null,
            "display": null,
            "flex": null,
            "flex_flow": null,
            "grid_area": null,
            "grid_auto_columns": null,
            "grid_auto_flow": null,
            "grid_auto_rows": null,
            "grid_column": null,
            "grid_gap": null,
            "grid_row": null,
            "grid_template_areas": null,
            "grid_template_columns": null,
            "grid_template_rows": null,
            "height": null,
            "justify_content": null,
            "justify_items": null,
            "left": null,
            "margin": null,
            "max_height": null,
            "max_width": null,
            "min_height": null,
            "min_width": null,
            "object_fit": null,
            "object_position": null,
            "order": null,
            "overflow": null,
            "overflow_x": null,
            "overflow_y": null,
            "padding": null,
            "right": null,
            "top": null,
            "visibility": null,
            "width": null
          }
        },
        "0f74440b34414deeb04c015cdcfa23ca": {
          "model_module": "@jupyter-widgets/controls",
          "model_name": "DescriptionStyleModel",
          "model_module_version": "1.5.0",
          "state": {
            "_model_module": "@jupyter-widgets/controls",
            "_model_module_version": "1.5.0",
            "_model_name": "DescriptionStyleModel",
            "_view_count": null,
            "_view_module": "@jupyter-widgets/base",
            "_view_module_version": "1.2.0",
            "_view_name": "StyleView",
            "description_width": ""
          }
        },
        "d073e09ebc3a4f0980b99e64fac86f69": {
          "model_module": "@jupyter-widgets/base",
          "model_name": "LayoutModel",
          "model_module_version": "1.2.0",
          "state": {
            "_model_module": "@jupyter-widgets/base",
            "_model_module_version": "1.2.0",
            "_model_name": "LayoutModel",
            "_view_count": null,
            "_view_module": "@jupyter-widgets/base",
            "_view_module_version": "1.2.0",
            "_view_name": "LayoutView",
            "align_content": null,
            "align_items": null,
            "align_self": null,
            "border": null,
            "bottom": null,
            "display": null,
            "flex": null,
            "flex_flow": null,
            "grid_area": null,
            "grid_auto_columns": null,
            "grid_auto_flow": null,
            "grid_auto_rows": null,
            "grid_column": null,
            "grid_gap": null,
            "grid_row": null,
            "grid_template_areas": null,
            "grid_template_columns": null,
            "grid_template_rows": null,
            "height": null,
            "justify_content": null,
            "justify_items": null,
            "left": null,
            "margin": null,
            "max_height": null,
            "max_width": null,
            "min_height": null,
            "min_width": null,
            "object_fit": null,
            "object_position": null,
            "order": null,
            "overflow": null,
            "overflow_x": null,
            "overflow_y": null,
            "padding": null,
            "right": null,
            "top": null,
            "visibility": null,
            "width": null
          }
        },
        "04bf6a00252f4f6e85e83c401c4c5505": {
          "model_module": "@jupyter-widgets/controls",
          "model_name": "ProgressStyleModel",
          "model_module_version": "1.5.0",
          "state": {
            "_model_module": "@jupyter-widgets/controls",
            "_model_module_version": "1.5.0",
            "_model_name": "ProgressStyleModel",
            "_view_count": null,
            "_view_module": "@jupyter-widgets/base",
            "_view_module_version": "1.2.0",
            "_view_name": "StyleView",
            "bar_color": null,
            "description_width": ""
          }
        },
        "deb423a057714ed2bf4c29e28810d93a": {
          "model_module": "@jupyter-widgets/base",
          "model_name": "LayoutModel",
          "model_module_version": "1.2.0",
          "state": {
            "_model_module": "@jupyter-widgets/base",
            "_model_module_version": "1.2.0",
            "_model_name": "LayoutModel",
            "_view_count": null,
            "_view_module": "@jupyter-widgets/base",
            "_view_module_version": "1.2.0",
            "_view_name": "LayoutView",
            "align_content": null,
            "align_items": null,
            "align_self": null,
            "border": null,
            "bottom": null,
            "display": null,
            "flex": null,
            "flex_flow": null,
            "grid_area": null,
            "grid_auto_columns": null,
            "grid_auto_flow": null,
            "grid_auto_rows": null,
            "grid_column": null,
            "grid_gap": null,
            "grid_row": null,
            "grid_template_areas": null,
            "grid_template_columns": null,
            "grid_template_rows": null,
            "height": null,
            "justify_content": null,
            "justify_items": null,
            "left": null,
            "margin": null,
            "max_height": null,
            "max_width": null,
            "min_height": null,
            "min_width": null,
            "object_fit": null,
            "object_position": null,
            "order": null,
            "overflow": null,
            "overflow_x": null,
            "overflow_y": null,
            "padding": null,
            "right": null,
            "top": null,
            "visibility": null,
            "width": null
          }
        },
        "c0ac3ce99e3a411da03af6c4fed18201": {
          "model_module": "@jupyter-widgets/controls",
          "model_name": "DescriptionStyleModel",
          "model_module_version": "1.5.0",
          "state": {
            "_model_module": "@jupyter-widgets/controls",
            "_model_module_version": "1.5.0",
            "_model_name": "DescriptionStyleModel",
            "_view_count": null,
            "_view_module": "@jupyter-widgets/base",
            "_view_module_version": "1.2.0",
            "_view_name": "StyleView",
            "description_width": ""
          }
        },
        "8f86a8edc55d4e509a3bf5f09886776b": {
          "model_module": "@jupyter-widgets/controls",
          "model_name": "HBoxModel",
          "model_module_version": "1.5.0",
          "state": {
            "_dom_classes": [],
            "_model_module": "@jupyter-widgets/controls",
            "_model_module_version": "1.5.0",
            "_model_name": "HBoxModel",
            "_view_count": null,
            "_view_module": "@jupyter-widgets/controls",
            "_view_module_version": "1.5.0",
            "_view_name": "HBoxView",
            "box_style": "",
            "children": [
              "IPY_MODEL_e047a4ec53d14480a1e50a55b70bdd7c",
              "IPY_MODEL_2d4cc01247e94972b1161abe17ad9e5c",
              "IPY_MODEL_8522f56eac0347b58f06716e2dbde459"
            ],
            "layout": "IPY_MODEL_f0a17e84fe754986a52cc9248c3b57f6"
          }
        },
        "e047a4ec53d14480a1e50a55b70bdd7c": {
          "model_module": "@jupyter-widgets/controls",
          "model_name": "HTMLModel",
          "model_module_version": "1.5.0",
          "state": {
            "_dom_classes": [],
            "_model_module": "@jupyter-widgets/controls",
            "_model_module_version": "1.5.0",
            "_model_name": "HTMLModel",
            "_view_count": null,
            "_view_module": "@jupyter-widgets/controls",
            "_view_module_version": "1.5.0",
            "_view_name": "HTMLView",
            "description": "",
            "description_tooltip": null,
            "layout": "IPY_MODEL_f2146134eaf0442e9999f944c71b6392",
            "placeholder": "​",
            "style": "IPY_MODEL_b8097bace9e34578a4f5655832933132",
            "value": "Downloading (…)lve/main/config.json: 100%"
          }
        },
        "2d4cc01247e94972b1161abe17ad9e5c": {
          "model_module": "@jupyter-widgets/controls",
          "model_name": "FloatProgressModel",
          "model_module_version": "1.5.0",
          "state": {
            "_dom_classes": [],
            "_model_module": "@jupyter-widgets/controls",
            "_model_module_version": "1.5.0",
            "_model_name": "FloatProgressModel",
            "_view_count": null,
            "_view_module": "@jupyter-widgets/controls",
            "_view_module_version": "1.5.0",
            "_view_name": "ProgressView",
            "bar_style": "success",
            "description": "",
            "description_tooltip": null,
            "layout": "IPY_MODEL_16d156c81eb6481494b377bc570147ef",
            "max": 570,
            "min": 0,
            "orientation": "horizontal",
            "style": "IPY_MODEL_9cb0e134ee9f414ba55b6094751ac12f",
            "value": 570
          }
        },
        "8522f56eac0347b58f06716e2dbde459": {
          "model_module": "@jupyter-widgets/controls",
          "model_name": "HTMLModel",
          "model_module_version": "1.5.0",
          "state": {
            "_dom_classes": [],
            "_model_module": "@jupyter-widgets/controls",
            "_model_module_version": "1.5.0",
            "_model_name": "HTMLModel",
            "_view_count": null,
            "_view_module": "@jupyter-widgets/controls",
            "_view_module_version": "1.5.0",
            "_view_name": "HTMLView",
            "description": "",
            "description_tooltip": null,
            "layout": "IPY_MODEL_066f93a58b9142ac9dcc049db5996909",
            "placeholder": "​",
            "style": "IPY_MODEL_af9813f66ab5461c9964ce532088e738",
            "value": " 570/570 [00:00&lt;00:00, 11.0kB/s]"
          }
        },
        "f0a17e84fe754986a52cc9248c3b57f6": {
          "model_module": "@jupyter-widgets/base",
          "model_name": "LayoutModel",
          "model_module_version": "1.2.0",
          "state": {
            "_model_module": "@jupyter-widgets/base",
            "_model_module_version": "1.2.0",
            "_model_name": "LayoutModel",
            "_view_count": null,
            "_view_module": "@jupyter-widgets/base",
            "_view_module_version": "1.2.0",
            "_view_name": "LayoutView",
            "align_content": null,
            "align_items": null,
            "align_self": null,
            "border": null,
            "bottom": null,
            "display": null,
            "flex": null,
            "flex_flow": null,
            "grid_area": null,
            "grid_auto_columns": null,
            "grid_auto_flow": null,
            "grid_auto_rows": null,
            "grid_column": null,
            "grid_gap": null,
            "grid_row": null,
            "grid_template_areas": null,
            "grid_template_columns": null,
            "grid_template_rows": null,
            "height": null,
            "justify_content": null,
            "justify_items": null,
            "left": null,
            "margin": null,
            "max_height": null,
            "max_width": null,
            "min_height": null,
            "min_width": null,
            "object_fit": null,
            "object_position": null,
            "order": null,
            "overflow": null,
            "overflow_x": null,
            "overflow_y": null,
            "padding": null,
            "right": null,
            "top": null,
            "visibility": null,
            "width": null
          }
        },
        "f2146134eaf0442e9999f944c71b6392": {
          "model_module": "@jupyter-widgets/base",
          "model_name": "LayoutModel",
          "model_module_version": "1.2.0",
          "state": {
            "_model_module": "@jupyter-widgets/base",
            "_model_module_version": "1.2.0",
            "_model_name": "LayoutModel",
            "_view_count": null,
            "_view_module": "@jupyter-widgets/base",
            "_view_module_version": "1.2.0",
            "_view_name": "LayoutView",
            "align_content": null,
            "align_items": null,
            "align_self": null,
            "border": null,
            "bottom": null,
            "display": null,
            "flex": null,
            "flex_flow": null,
            "grid_area": null,
            "grid_auto_columns": null,
            "grid_auto_flow": null,
            "grid_auto_rows": null,
            "grid_column": null,
            "grid_gap": null,
            "grid_row": null,
            "grid_template_areas": null,
            "grid_template_columns": null,
            "grid_template_rows": null,
            "height": null,
            "justify_content": null,
            "justify_items": null,
            "left": null,
            "margin": null,
            "max_height": null,
            "max_width": null,
            "min_height": null,
            "min_width": null,
            "object_fit": null,
            "object_position": null,
            "order": null,
            "overflow": null,
            "overflow_x": null,
            "overflow_y": null,
            "padding": null,
            "right": null,
            "top": null,
            "visibility": null,
            "width": null
          }
        },
        "b8097bace9e34578a4f5655832933132": {
          "model_module": "@jupyter-widgets/controls",
          "model_name": "DescriptionStyleModel",
          "model_module_version": "1.5.0",
          "state": {
            "_model_module": "@jupyter-widgets/controls",
            "_model_module_version": "1.5.0",
            "_model_name": "DescriptionStyleModel",
            "_view_count": null,
            "_view_module": "@jupyter-widgets/base",
            "_view_module_version": "1.2.0",
            "_view_name": "StyleView",
            "description_width": ""
          }
        },
        "16d156c81eb6481494b377bc570147ef": {
          "model_module": "@jupyter-widgets/base",
          "model_name": "LayoutModel",
          "model_module_version": "1.2.0",
          "state": {
            "_model_module": "@jupyter-widgets/base",
            "_model_module_version": "1.2.0",
            "_model_name": "LayoutModel",
            "_view_count": null,
            "_view_module": "@jupyter-widgets/base",
            "_view_module_version": "1.2.0",
            "_view_name": "LayoutView",
            "align_content": null,
            "align_items": null,
            "align_self": null,
            "border": null,
            "bottom": null,
            "display": null,
            "flex": null,
            "flex_flow": null,
            "grid_area": null,
            "grid_auto_columns": null,
            "grid_auto_flow": null,
            "grid_auto_rows": null,
            "grid_column": null,
            "grid_gap": null,
            "grid_row": null,
            "grid_template_areas": null,
            "grid_template_columns": null,
            "grid_template_rows": null,
            "height": null,
            "justify_content": null,
            "justify_items": null,
            "left": null,
            "margin": null,
            "max_height": null,
            "max_width": null,
            "min_height": null,
            "min_width": null,
            "object_fit": null,
            "object_position": null,
            "order": null,
            "overflow": null,
            "overflow_x": null,
            "overflow_y": null,
            "padding": null,
            "right": null,
            "top": null,
            "visibility": null,
            "width": null
          }
        },
        "9cb0e134ee9f414ba55b6094751ac12f": {
          "model_module": "@jupyter-widgets/controls",
          "model_name": "ProgressStyleModel",
          "model_module_version": "1.5.0",
          "state": {
            "_model_module": "@jupyter-widgets/controls",
            "_model_module_version": "1.5.0",
            "_model_name": "ProgressStyleModel",
            "_view_count": null,
            "_view_module": "@jupyter-widgets/base",
            "_view_module_version": "1.2.0",
            "_view_name": "StyleView",
            "bar_color": null,
            "description_width": ""
          }
        },
        "066f93a58b9142ac9dcc049db5996909": {
          "model_module": "@jupyter-widgets/base",
          "model_name": "LayoutModel",
          "model_module_version": "1.2.0",
          "state": {
            "_model_module": "@jupyter-widgets/base",
            "_model_module_version": "1.2.0",
            "_model_name": "LayoutModel",
            "_view_count": null,
            "_view_module": "@jupyter-widgets/base",
            "_view_module_version": "1.2.0",
            "_view_name": "LayoutView",
            "align_content": null,
            "align_items": null,
            "align_self": null,
            "border": null,
            "bottom": null,
            "display": null,
            "flex": null,
            "flex_flow": null,
            "grid_area": null,
            "grid_auto_columns": null,
            "grid_auto_flow": null,
            "grid_auto_rows": null,
            "grid_column": null,
            "grid_gap": null,
            "grid_row": null,
            "grid_template_areas": null,
            "grid_template_columns": null,
            "grid_template_rows": null,
            "height": null,
            "justify_content": null,
            "justify_items": null,
            "left": null,
            "margin": null,
            "max_height": null,
            "max_width": null,
            "min_height": null,
            "min_width": null,
            "object_fit": null,
            "object_position": null,
            "order": null,
            "overflow": null,
            "overflow_x": null,
            "overflow_y": null,
            "padding": null,
            "right": null,
            "top": null,
            "visibility": null,
            "width": null
          }
        },
        "af9813f66ab5461c9964ce532088e738": {
          "model_module": "@jupyter-widgets/controls",
          "model_name": "DescriptionStyleModel",
          "model_module_version": "1.5.0",
          "state": {
            "_model_module": "@jupyter-widgets/controls",
            "_model_module_version": "1.5.0",
            "_model_name": "DescriptionStyleModel",
            "_view_count": null,
            "_view_module": "@jupyter-widgets/base",
            "_view_module_version": "1.2.0",
            "_view_name": "StyleView",
            "description_width": ""
          }
        }
      }
    }
  },
  "cells": [
    {
      "cell_type": "markdown",
      "metadata": {
        "id": "view-in-github",
        "colab_type": "text"
      },
      "source": [
        "<a href=\"https://colab.research.google.com/github/Guidevit/notebooks/blob/main/tokenizers.ipynb\" target=\"_parent\"><img src=\"https://colab.research.google.com/assets/colab-badge.svg\" alt=\"Open In Colab\"/></a>"
      ]
    },
    {
      "cell_type": "markdown",
      "source": [
        "#Word-based\n",
        "The first type of tokenizer that comes to mind is word-based. It’s generally very easy to set up and use with only a few rules, and it often yields decent results. For example, in the image below, the goal is to split the raw text into words and find a numerical representation for each of them:\n",
        "![image.png](data:image/png;base64,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)\n",
        "An example of word-based tokenization.\n",
        "There are different ways to split the text. For example, we could use whitespace to tokenize the text into words by applying Python’s split() function:"
      ],
      "metadata": {
        "id": "fwVcY9alSELt"
      }
    },
    {
      "cell_type": "code",
      "source": [
        "tokenized_text = \"Jim Henson was a puppeteer\".split()\n",
        "print(tokenized_text)"
      ],
      "metadata": {
        "colab": {
          "base_uri": "https://localhost:8080/"
        },
        "id": "VG8aUdWGRdDu",
        "outputId": "ce89d163-5e93-4752-817b-28dcb2f71b89"
      },
      "execution_count": null,
      "outputs": [
        {
          "output_type": "stream",
          "name": "stdout",
          "text": [
            "['Jim', 'Henson', 'was', 'a', 'puppeteer']\n"
          ]
        }
      ]
    },
    {
      "cell_type": "markdown",
      "source": [
        "There are also variations of word tokenizers that have extra rules for punctuation. With this kind of tokenizer, we can end up with some pretty large “vocabularies,” where a vocabulary is defined by the total number of independent tokens that we have in our corpus.\n",
        "\n",
        "Each word gets assigned an ID, starting from 0 and going up to the size of the vocabulary. The model uses these IDs to identify each word.\n",
        "\n",
        "If we want to completely cover a language with a word-based tokenizer, we’ll need to have an identifier for each word in the language, which will generate a huge amount of tokens. For example, there are over 500,000 words in the English language, so to build a map from each word to an input ID we’d need to keep track of that many IDs. Furthermore, words like “dog” are represented differently from words like “dogs”, and the model will initially have no way of knowing that “dog” and “dogs” are similar: it will identify the two words as unrelated. The same applies to other similar words, like “run” and “running”, which the model will not see as being similar initially.\n",
        "\n",
        "Finally, we need a custom token to represent words that are not in our vocabulary. This is known as the “unknown” token, often represented as ”[UNK]” or ””. It’s generally a bad sign if you see that the tokenizer is producing a lot of these tokens, as it wasn’t able to retrieve a sensible representation of a word and you’re losing information along the way. The goal when crafting the vocabulary is to do it in such a way that the tokenizer tokenizes as few words as possible into the unknown token.\n",
        "\n",
        "One way to reduce the amount of unknown tokens is to go one level deeper, using a character-based tokenizer."
      ],
      "metadata": {
        "id": "yLoVvtzfTi2h"
      }
    },
    {
      "cell_type": "markdown",
      "source": [
        "#Character-based\n",
        "\n",
        "Character-based tokenizers split the text into characters, rather than words. This has two primary benefits:\n",
        "\n",
        "The vocabulary is much smaller.\n",
        "There are much fewer out-of-vocabulary (unknown) tokens, since every word can be built from characters.\n",
        "But here too some questions arise concerning spaces and punctuation:\n",
        "\n",
        "![image.png](data:image/png;base64,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)\n",
        "\n",
        "This approach isn’t perfect either. Since the representation is now based on characters rather than words, one could argue that, intuitively, it’s less meaningful: each character doesn’t mean a lot on its own, whereas that is the case with words. However, this again differs according to the language; in Chinese, for example, each character carries more information than a character in a Latin language.\n",
        "\n",
        "Another thing to consider is that we’ll end up with a very large amount of tokens to be processed by our model: whereas a word would only be a single token with a word-based tokenizer, it can easily turn into 10 or more tokens when converted into characters.\n",
        "\n",
        "To get the best of both worlds, we can use a third technique that combines the two approaches: subword tokenization."
      ],
      "metadata": {
        "id": "mFoMPFetSrRy"
      }
    },
    {
      "cell_type": "markdown",
      "source": [
        "#Subword tokenization\n",
        "Subword tokenization algorithms rely on the principle that frequently used words should not be split into smaller subwords, but rare words should be decomposed into meaningful subwords.\n",
        "\n",
        "For instance, “annoyingly” might be considered a rare word and could be decomposed into “annoying” and “ly”. These are both likely to appear more frequently as standalone subwords, while at the same time the meaning of “annoyingly” is kept by the composite meaning of “annoying” and “ly”.\n",
        "\n",
        "Here is an example showing how a subword tokenization algorithm would tokenize the sequence “Let’s do tokenization!“:\n",
        "![image.png](data:image/png;base64,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)\n",
        "\n",
        "These subwords end up providing a lot of semantic meaning: for instance, in the example above “tokenization” was split into “token” and “ization”, two tokens that have a semantic meaning while being space-efficient (only two tokens are needed to represent a long word). This allows us to have relatively good coverage with small vocabularies, and close to no unknown tokens.\n",
        "\n",
        "This approach is especially useful in agglutinative languages such as Turkish, where you can form (almost) arbitrarily long complex words by stringing together subwords."
      ],
      "metadata": {
        "id": "wvJBrp4ETm1w"
      }
    },
    {
      "cell_type": "markdown",
      "source": [
        "There are many more techniques out there. To name a few:\n",
        "\n",
        "Byte-level BPE, as used in GPT-2\n",
        "WordPiece, as used in BERT\n",
        "SentencePiece or Unigram, as used in several multilingual models\n",
        "You should now have sufficient knowledge of how tokenizers work to get started with the API."
      ],
      "metadata": {
        "id": "o7s4Jvg0UcBh"
      }
    },
    {
      "cell_type": "markdown",
      "source": [
        "#Loading and saving\n",
        "Loading and saving tokenizers is as simple as it is with models. Actually, it’s based on the same two methods: from_pretrained() and save_pretrained(). These methods will load or save the algorithm used by the tokenizer (a bit like the architecture of the model) as well as its vocabulary (a bit like the weights of the model).\n",
        "\n",
        "Loading the BERT tokenizer trained with the same checkpoint as BERT is done the same way as loading the model, except we use the BertTokenizer class:"
      ],
      "metadata": {
        "id": "oAaJFK91UiCm"
      }
    },
    {
      "cell_type": "code",
      "source": [
        "from transformers import BertTokenizer\n",
        "\n",
        "tokenizer = BertTokenizer.from_pretrained(\"bert-base-cased\")"
      ],
      "metadata": {
        "colab": {
          "base_uri": "https://localhost:8080/",
          "height": 257,
          "referenced_widgets": [
            "ffd03cab2193432a9c1195bf1d9cedb2",
            "40446245bfa447949c79682602643a55",
            "17e2e09d2a86416a9691a562c96286d3",
            "f0ac29334e6844659eb5754652bef67c",
            "6a2f47bd37444264a76a94ab35e346c5",
            "e85b1a50bbf448ed8ed6a859781b3c19",
            "edb7a26981ad451fbc0c175aad47ee14",
            "6f0df5585b24444f8600d072c64f4806",
            "997321b7849f475abfc86a351c26d55e",
            "18296cca60654c85820046fed694b007",
            "92f41d5157c14a6e80409d9dbd3fef0c",
            "bd54f2def53f424fae0d866200f70974",
            "b87598438ab3471ebddf609658f22ddd",
            "c2979797624d45be80db4d8d4794fe5a",
            "17cbcbc7374e4555b0d83e6c7fa04d39",
            "1fddee7722f640b0887343829b102865",
            "9823d18f578247c699f0aeff5bba0d03",
            "b6ee83a4d7c0410098943c0110bee5c4",
            "17ac43f47f624defab1a44f91b1283d0",
            "7bae82d0f94648a5bd0792e59d4cbf91",
            "5dd974ff046049c28a6efc3f49fecdfe",
            "69d09d9819ab476eb4e4137a1c1d34f2",
            "84de15ab30fa4ea18facbfb9e574d2eb",
            "cea5c19081d24989baa8564abbd6cdf8",
            "7606fea450d149e3a754349293abe2b7",
            "e508de64e4b44e81b7f88b551692c39f",
            "60aecf7915c6408798caaca667b0cbfb",
            "7c6d5676b49e494395d4180e11495ffc",
            "0f74440b34414deeb04c015cdcfa23ca",
            "d073e09ebc3a4f0980b99e64fac86f69",
            "04bf6a00252f4f6e85e83c401c4c5505",
            "deb423a057714ed2bf4c29e28810d93a",
            "c0ac3ce99e3a411da03af6c4fed18201",
            "8f86a8edc55d4e509a3bf5f09886776b",
            "e047a4ec53d14480a1e50a55b70bdd7c",
            "2d4cc01247e94972b1161abe17ad9e5c",
            "8522f56eac0347b58f06716e2dbde459",
            "f0a17e84fe754986a52cc9248c3b57f6",
            "f2146134eaf0442e9999f944c71b6392",
            "b8097bace9e34578a4f5655832933132",
            "16d156c81eb6481494b377bc570147ef",
            "9cb0e134ee9f414ba55b6094751ac12f",
            "066f93a58b9142ac9dcc049db5996909",
            "af9813f66ab5461c9964ce532088e738"
          ]
        },
        "id": "ofFKi_BCSBc8",
        "outputId": "319a7568-3f31-4f21-84e4-e0f7712ca13c"
      },
      "execution_count": null,
      "outputs": [
        {
          "output_type": "display_data",
          "data": {
            "text/plain": [
              "Downloading (…)okenizer_config.json:   0%|          | 0.00/29.0 [00:00<?, ?B/s]"
            ],
            "application/vnd.jupyter.widget-view+json": {
              "version_major": 2,
              "version_minor": 0,
              "model_id": "ffd03cab2193432a9c1195bf1d9cedb2"
            }
          },
          "metadata": {}
        },
        {
          "output_type": "display_data",
          "data": {
            "text/plain": [
              "Downloading (…)solve/main/vocab.txt:   0%|          | 0.00/213k [00:00<?, ?B/s]"
            ],
            "application/vnd.jupyter.widget-view+json": {
              "version_major": 2,
              "version_minor": 0,
              "model_id": "bd54f2def53f424fae0d866200f70974"
            }
          },
          "metadata": {}
        },
        {
          "output_type": "display_data",
          "data": {
            "text/plain": [
              "Downloading (…)/main/tokenizer.json:   0%|          | 0.00/436k [00:00<?, ?B/s]"
            ],
            "application/vnd.jupyter.widget-view+json": {
              "version_major": 2,
              "version_minor": 0,
              "model_id": "84de15ab30fa4ea18facbfb9e574d2eb"
            }
          },
          "metadata": {}
        },
        {
          "output_type": "display_data",
          "data": {
            "text/plain": [
              "Downloading (…)lve/main/config.json:   0%|          | 0.00/570 [00:00<?, ?B/s]"
            ],
            "application/vnd.jupyter.widget-view+json": {
              "version_major": 2,
              "version_minor": 0,
              "model_id": "8f86a8edc55d4e509a3bf5f09886776b"
            }
          },
          "metadata": {}
        }
      ]
    },
    {
      "cell_type": "markdown",
      "source": [
        "Similar to AutoModel, the AutoTokenizer class will grab the proper tokenizer class in the library based on the checkpoint name, and can be used directly with any checkpoint:"
      ],
      "metadata": {
        "id": "kJDtDJknUpBu"
      }
    },
    {
      "cell_type": "code",
      "source": [
        "from transformers import AutoTokenizer\n",
        "\n",
        "tokenizer = AutoTokenizer.from_pretrained(\"bert-base-cased\")"
      ],
      "metadata": {
        "id": "iRGxgwM0UlU9"
      },
      "execution_count": null,
      "outputs": []
    },
    {
      "cell_type": "markdown",
      "source": [
        "We can now use the tokenizer as shown in the previous section:\n",
        "\n"
      ],
      "metadata": {
        "id": "o479I78dU3wG"
      }
    },
    {
      "cell_type": "code",
      "source": [
        "tokenizer(\"Using a Transformer network is simple\")"
      ],
      "metadata": {
        "colab": {
          "base_uri": "https://localhost:8080/"
        },
        "id": "ksj3hHcYU2ME",
        "outputId": "b4535ddc-751f-4f60-e370-398d7d12703f"
      },
      "execution_count": null,
      "outputs": [
        {
          "output_type": "execute_result",
          "data": {
            "text/plain": [
              "{'input_ids': [101, 7993, 170, 13809, 23763, 2443, 1110, 3014, 102], 'token_type_ids': [0, 0, 0, 0, 0, 0, 0, 0, 0], 'attention_mask': [1, 1, 1, 1, 1, 1, 1, 1, 1]}"
            ]
          },
          "metadata": {},
          "execution_count": 7
        }
      ]
    },
    {
      "cell_type": "markdown",
      "source": [
        "Saving a tokenizer is identical to saving a model:\n",
        "\n"
      ],
      "metadata": {
        "id": "xLQvdqFyU74O"
      }
    },
    {
      "cell_type": "code",
      "source": [
        "tokenizer.save_pretrained(\"./\")\n"
      ],
      "metadata": {
        "colab": {
          "base_uri": "https://localhost:8080/"
        },
        "id": "-yprROxSU5ON",
        "outputId": "3454eb92-dbdc-4bc2-e7c0-ebe6ecee3293"
      },
      "execution_count": null,
      "outputs": [
        {
          "output_type": "execute_result",
          "data": {
            "text/plain": [
              "('./tokenizer_config.json',\n",
              " './special_tokens_map.json',\n",
              " './vocab.txt',\n",
              " './added_tokens.json',\n",
              " './tokenizer.json')"
            ]
          },
          "metadata": {},
          "execution_count": 9
        }
      ]
    },
    {
      "cell_type": "markdown",
      "source": [
        "#Encoding\n",
        "\n",
        "Translating text to numbers is known as encoding. Encoding is done in a two-step process: the tokenization, followed by the conversion to input IDs.\n",
        "\n",
        "As we’ve seen, the first step is to split the text into words (or parts of words, punctuation symbols, etc.), usually called tokens. There are multiple rules that can govern that process, which is why we need to instantiate the tokenizer using the name of the model, to make sure we use the same rules that were used when the model was pretrained.\n",
        "\n",
        "The second step is to convert those tokens into numbers, so we can build a tensor out of them and feed them to the model. To do this, the tokenizer has a vocabulary, which is the part we download when we instantiate it with the from_pretrained() method. Again, we need to use the same vocabulary used when the model was pretrained.\n",
        "\n",
        "To get a better understanding of the two steps, we’ll explore them separately. Note that we will use some methods that perform parts of the tokenization pipeline separately to show you the intermediate results of those steps, but in practice, you should call the tokenizer directly on your inputs (as shown in the section 2)."
      ],
      "metadata": {
        "id": "7cRXsyt_VFZ6"
      }
    },
    {
      "cell_type": "markdown",
      "source": [
        "#Tokenization\n",
        "The tokenization process is done by the tokenize() method of the tokenizer:\n",
        "\n"
      ],
      "metadata": {
        "id": "ndgTRp-8VJ61"
      }
    },
    {
      "cell_type": "code",
      "source": [
        "from transformers import AutoTokenizer\n",
        "\n",
        "tokenizer = AutoTokenizer.from_pretrained(\"bert-base-cased\")\n",
        "\n",
        "sequence = \"Using a Transformer network is simple\"\n",
        "tokens = tokenizer.tokenize(sequence)\n",
        "\n",
        "print(tokens)"
      ],
      "metadata": {
        "colab": {
          "base_uri": "https://localhost:8080/"
        },
        "id": "l898fiTBU9HF",
        "outputId": "055622f8-5ea6-473e-fb4e-ec94e749265d"
      },
      "execution_count": null,
      "outputs": [
        {
          "output_type": "stream",
          "name": "stdout",
          "text": [
            "['Using', 'a', 'Trans', '##former', 'network', 'is', 'simple']\n"
          ]
        }
      ]
    },
    {
      "cell_type": "markdown",
      "source": [
        "This tokenizer is a subword tokenizer: it splits the words until it obtains tokens that can be represented by its vocabulary. That’s the case here with transformer, which is split into two tokens: transform and ##er.\n",
        "\n"
      ],
      "metadata": {
        "id": "gS7tNJZ8Xx8Y"
      }
    },
    {
      "cell_type": "markdown",
      "source": [
        "#From tokens to input IDs\n",
        "The conversion to input IDs is handled by the convert_tokens_to_ids() tokenizer method:\n",
        "\n"
      ],
      "metadata": {
        "id": "f4NivqTbXzUH"
      }
    },
    {
      "cell_type": "code",
      "source": [
        "ids = tokenizer.convert_tokens_to_ids(tokens)\n",
        "\n",
        "print(ids)"
      ],
      "metadata": {
        "colab": {
          "base_uri": "https://localhost:8080/"
        },
        "id": "A9lGemYmXTvV",
        "outputId": "c318eba8-f495-49be-cb65-9a1e22c0ddde"
      },
      "execution_count": null,
      "outputs": [
        {
          "output_type": "stream",
          "name": "stdout",
          "text": [
            "[7993, 170, 13809, 23763, 2443, 1110, 3014]\n"
          ]
        }
      ]
    },
    {
      "cell_type": "markdown",
      "source": [
        "These outputs, once converted to the appropriate framework tensor, can then be used as inputs to a model as seen earlier in this chapter.\n",
        "\n"
      ],
      "metadata": {
        "id": "3QyGX06zYAPw"
      }
    },
    {
      "cell_type": "markdown",
      "source": [
        "#Decoding"
      ],
      "metadata": {
        "id": "6U-0RVhgYJQm"
      }
    },
    {
      "cell_type": "markdown",
      "source": [
        "Decoding is going the other way around: from vocabulary indices, we want to get a string. This can be done with the decode() method as follows:"
      ],
      "metadata": {
        "id": "bQbzAjQwYLJE"
      }
    },
    {
      "cell_type": "code",
      "source": [
        "decoded_string = tokenizer.decode([7993, 170, 11303, 1200, 2443, 1110, 3014])\n",
        "print(decoded_string)"
      ],
      "metadata": {
        "colab": {
          "base_uri": "https://localhost:8080/"
        },
        "id": "EmD2d1drX1p8",
        "outputId": "b1c0f51e-f141-4a69-df2d-d66725865c60"
      },
      "execution_count": null,
      "outputs": [
        {
          "output_type": "stream",
          "name": "stdout",
          "text": [
            "Using a transformer network is simple\n"
          ]
        }
      ]
    },
    {
      "cell_type": "markdown",
      "source": [
        "Note that the decode method not only converts the indices back to tokens, but also groups together the tokens that were part of the same words to produce a readable sentence. This behavior will be extremely useful when we use models that predict new text (either text generated from a prompt, or for sequence-to-sequence problems like translation or summarization)."
      ],
      "metadata": {
        "id": "RMsFLs68YRbT"
      }
    }
  ]
}