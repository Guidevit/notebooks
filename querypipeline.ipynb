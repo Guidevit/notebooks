{
  "nbformat": 4,
  "nbformat_minor": 0,
  "metadata": {
    "colab": {
      "provenance": [],
      "authorship_tag": "ABX9TyMBQfjZ8pm6SuSso7ZR/z4p",
      "include_colab_link": true
    },
    "kernelspec": {
      "name": "python3",
      "display_name": "Python 3"
    },
    "language_info": {
      "name": "python"
    }
  },
  "cells": [
    {
      "cell_type": "markdown",
      "metadata": {
        "id": "view-in-github",
        "colab_type": "text"
      },
      "source": [
        "<a href=\"https://colab.research.google.com/github/Guidevit/notebooks/blob/main/querypipeline.ipynb\" target=\"_parent\"><img src=\"https://colab.research.google.com/assets/colab-badge.svg\" alt=\"Open In Colab\"/></a>"
      ]
    },
    {
      "cell_type": "code",
      "execution_count": null,
      "metadata": {
        "colab": {
          "base_uri": "https://localhost:8080/"
        },
        "id": "iTCuoyKgfX7W",
        "outputId": "59a737ee-08f5-429d-b98c-afcf6ac38f1f"
      },
      "outputs": [
        {
          "output_type": "stream",
          "name": "stdout",
          "text": [
            "Requirement already satisfied: langchain in /usr/local/lib/python3.10/dist-packages (0.1.4)\n",
            "Requirement already satisfied: langchain_openai in /usr/local/lib/python3.10/dist-packages (0.0.5)\n",
            "Requirement already satisfied: llama-index in /usr/local/lib/python3.10/dist-packages (0.9.39)\n",
            "Requirement already satisfied: llama_hub in /usr/local/lib/python3.10/dist-packages (0.0.77)\n",
            "Requirement already satisfied: tavily-python in /usr/local/lib/python3.10/dist-packages (0.3.1)\n",
            "Requirement already satisfied: arize_phoenix in /usr/local/lib/python3.10/dist-packages (2.7.0)\n",
            "Requirement already satisfied: PyYAML>=5.3 in /usr/local/lib/python3.10/dist-packages (from langchain) (6.0.1)\n",
            "Requirement already satisfied: SQLAlchemy<3,>=1.4 in /usr/local/lib/python3.10/dist-packages (from langchain) (2.0.24)\n",
            "Requirement already satisfied: aiohttp<4.0.0,>=3.8.3 in /usr/local/lib/python3.10/dist-packages (from langchain) (3.9.1)\n",
            "Requirement already satisfied: async-timeout<5.0.0,>=4.0.0 in /usr/local/lib/python3.10/dist-packages (from langchain) (4.0.3)\n",
            "Requirement already satisfied: dataclasses-json<0.7,>=0.5.7 in /usr/local/lib/python3.10/dist-packages (from langchain) (0.6.3)\n",
            "Requirement already satisfied: jsonpatch<2.0,>=1.33 in /usr/local/lib/python3.10/dist-packages (from langchain) (1.33)\n",
            "Requirement already satisfied: langchain-community<0.1,>=0.0.14 in /usr/local/lib/python3.10/dist-packages (from langchain) (0.0.16)\n",
            "Requirement already satisfied: langchain-core<0.2,>=0.1.16 in /usr/local/lib/python3.10/dist-packages (from langchain) (0.1.17)\n",
            "Requirement already satisfied: langsmith<0.1,>=0.0.83 in /usr/local/lib/python3.10/dist-packages (from langchain) (0.0.84)\n",
            "Requirement already satisfied: numpy<2,>=1 in /usr/local/lib/python3.10/dist-packages (from langchain) (1.23.5)\n",
            "Requirement already satisfied: pydantic<3,>=1 in /usr/local/lib/python3.10/dist-packages (from langchain) (1.10.14)\n",
            "Requirement already satisfied: requests<3,>=2 in /usr/local/lib/python3.10/dist-packages (from langchain) (2.31.0)\n",
            "Requirement already satisfied: tenacity<9.0.0,>=8.1.0 in /usr/local/lib/python3.10/dist-packages (from langchain) (8.2.3)\n",
            "Requirement already satisfied: openai<2.0.0,>=1.10.0 in /usr/local/lib/python3.10/dist-packages (from langchain_openai) (1.10.0)\n",
            "Requirement already satisfied: tiktoken<0.6.0,>=0.5.2 in /usr/local/lib/python3.10/dist-packages (from langchain_openai) (0.5.2)\n",
            "Requirement already satisfied: deprecated>=1.2.9.3 in /usr/local/lib/python3.10/dist-packages (from llama-index) (1.2.14)\n",
            "Requirement already satisfied: fsspec>=2023.5.0 in /usr/local/lib/python3.10/dist-packages (from llama-index) (2023.6.0)\n",
            "Requirement already satisfied: httpx in /usr/local/lib/python3.10/dist-packages (from llama-index) (0.26.0)\n",
            "Requirement already satisfied: nest-asyncio<2.0.0,>=1.5.8 in /usr/local/lib/python3.10/dist-packages (from llama-index) (1.6.0)\n",
            "Requirement already satisfied: networkx>=3.0 in /usr/local/lib/python3.10/dist-packages (from llama-index) (3.2.1)\n",
            "Requirement already satisfied: nltk<4.0.0,>=3.8.1 in /usr/local/lib/python3.10/dist-packages (from llama-index) (3.8.1)\n",
            "Requirement already satisfied: pandas in /usr/local/lib/python3.10/dist-packages (from llama-index) (1.5.3)\n",
            "Requirement already satisfied: typing-extensions>=4.5.0 in /usr/local/lib/python3.10/dist-packages (from llama-index) (4.9.0)\n",
            "Requirement already satisfied: typing-inspect>=0.8.0 in /usr/local/lib/python3.10/dist-packages (from llama-index) (0.9.0)\n",
            "Requirement already satisfied: html2text in /usr/local/lib/python3.10/dist-packages (from llama_hub) (2020.1.16)\n",
            "Requirement already satisfied: psutil in /usr/local/lib/python3.10/dist-packages (from llama_hub) (5.9.5)\n",
            "Requirement already satisfied: pyaml<24.0.0,>=23.9.7 in /usr/local/lib/python3.10/dist-packages (from llama_hub) (23.12.0)\n",
            "Requirement already satisfied: retrying in /usr/local/lib/python3.10/dist-packages (from llama_hub) (1.3.4)\n",
            "Requirement already satisfied: regex>=2022.1.18 in /usr/local/lib/python3.10/dist-packages (from tiktoken<0.6.0,>=0.5.2->langchain_openai) (2023.6.3)\n",
            "Requirement already satisfied: ddsketch in /usr/local/lib/python3.10/dist-packages (from arize_phoenix) (2.0.4)\n",
            "Requirement already satisfied: hdbscan<1.0.0,>=0.8.33 in /usr/local/lib/python3.10/dist-packages (from arize_phoenix) (0.8.33)\n",
            "Requirement already satisfied: jinja2 in /usr/local/lib/python3.10/dist-packages (from arize_phoenix) (3.1.3)\n",
            "Requirement already satisfied: opentelemetry-proto in /usr/local/lib/python3.10/dist-packages (from arize_phoenix) (1.22.0)\n",
            "Requirement already satisfied: opentelemetry-sdk in /usr/local/lib/python3.10/dist-packages (from arize_phoenix) (1.22.0)\n",
            "Requirement already satisfied: protobuf<5.0,>=3.20 in /usr/local/lib/python3.10/dist-packages (from arize_phoenix) (3.20.3)\n",
            "Requirement already satisfied: pyarrow in /usr/local/lib/python3.10/dist-packages (from arize_phoenix) (10.0.1)\n",
            "Requirement already satisfied: scikit-learn<1.3.0 in /usr/local/lib/python3.10/dist-packages (from arize_phoenix) (1.2.2)\n",
            "Requirement already satisfied: scipy in /usr/local/lib/python3.10/dist-packages (from arize_phoenix) (1.11.4)\n",
            "Requirement already satisfied: sortedcontainers in /usr/local/lib/python3.10/dist-packages (from arize_phoenix) (2.4.0)\n",
            "Requirement already satisfied: starlette in /usr/local/lib/python3.10/dist-packages (from arize_phoenix) (0.36.1)\n",
            "Requirement already satisfied: strawberry-graphql==0.208.2 in /usr/local/lib/python3.10/dist-packages (from arize_phoenix) (0.208.2)\n",
            "Requirement already satisfied: tqdm in /usr/local/lib/python3.10/dist-packages (from arize_phoenix) (4.66.1)\n",
            "Requirement already satisfied: umap-learn in /usr/local/lib/python3.10/dist-packages (from arize_phoenix) (0.5.5)\n",
            "Requirement already satisfied: uvicorn in /usr/local/lib/python3.10/dist-packages (from arize_phoenix) (0.27.0.post1)\n",
            "Requirement already satisfied: wrapt in /usr/local/lib/python3.10/dist-packages (from arize_phoenix) (1.14.1)\n",
            "Requirement already satisfied: graphql-core<3.3.0,>=3.2.0 in /usr/local/lib/python3.10/dist-packages (from strawberry-graphql==0.208.2->arize_phoenix) (3.2.3)\n",
            "Requirement already satisfied: python-dateutil<3.0.0,>=2.7.0 in /usr/local/lib/python3.10/dist-packages (from strawberry-graphql==0.208.2->arize_phoenix) (2.8.2)\n",
            "Requirement already satisfied: attrs>=17.3.0 in /usr/local/lib/python3.10/dist-packages (from aiohttp<4.0.0,>=3.8.3->langchain) (23.2.0)\n",
            "Requirement already satisfied: multidict<7.0,>=4.5 in /usr/local/lib/python3.10/dist-packages (from aiohttp<4.0.0,>=3.8.3->langchain) (6.0.4)\n",
            "Requirement already satisfied: yarl<2.0,>=1.0 in /usr/local/lib/python3.10/dist-packages (from aiohttp<4.0.0,>=3.8.3->langchain) (1.9.4)\n",
            "Requirement already satisfied: frozenlist>=1.1.1 in /usr/local/lib/python3.10/dist-packages (from aiohttp<4.0.0,>=3.8.3->langchain) (1.4.1)\n",
            "Requirement already satisfied: aiosignal>=1.1.2 in /usr/local/lib/python3.10/dist-packages (from aiohttp<4.0.0,>=3.8.3->langchain) (1.3.1)\n",
            "Requirement already satisfied: marshmallow<4.0.0,>=3.18.0 in /usr/local/lib/python3.10/dist-packages (from dataclasses-json<0.7,>=0.5.7->langchain) (3.20.2)\n",
            "Requirement already satisfied: cython<3,>=0.27 in /usr/local/lib/python3.10/dist-packages (from hdbscan<1.0.0,>=0.8.33->arize_phoenix) (0.29.37)\n",
            "Requirement already satisfied: joblib>=1.0 in /usr/local/lib/python3.10/dist-packages (from hdbscan<1.0.0,>=0.8.33->arize_phoenix) (1.3.2)\n",
            "Requirement already satisfied: jsonpointer>=1.9 in /usr/local/lib/python3.10/dist-packages (from jsonpatch<2.0,>=1.33->langchain) (2.4)\n",
            "Requirement already satisfied: anyio<5,>=3 in /usr/local/lib/python3.10/dist-packages (from langchain-core<0.2,>=0.1.16->langchain) (3.7.1)\n",
            "Requirement already satisfied: packaging<24.0,>=23.2 in /usr/local/lib/python3.10/dist-packages (from langchain-core<0.2,>=0.1.16->langchain) (23.2)\n",
            "Requirement already satisfied: click in /usr/local/lib/python3.10/dist-packages (from nltk<4.0.0,>=3.8.1->llama-index) (8.1.7)\n",
            "Requirement already satisfied: distro<2,>=1.7.0 in /usr/lib/python3/dist-packages (from openai<2.0.0,>=1.10.0->langchain_openai) (1.7.0)\n",
            "Requirement already satisfied: sniffio in /usr/local/lib/python3.10/dist-packages (from openai<2.0.0,>=1.10.0->langchain_openai) (1.3.0)\n",
            "Requirement already satisfied: certifi in /usr/local/lib/python3.10/dist-packages (from httpx->llama-index) (2023.11.17)\n",
            "Requirement already satisfied: httpcore==1.* in /usr/local/lib/python3.10/dist-packages (from httpx->llama-index) (1.0.2)\n",
            "Requirement already satisfied: idna in /usr/local/lib/python3.10/dist-packages (from httpx->llama-index) (3.6)\n",
            "Requirement already satisfied: h11<0.15,>=0.13 in /usr/local/lib/python3.10/dist-packages (from httpcore==1.*->httpx->llama-index) (0.14.0)\n",
            "Requirement already satisfied: charset-normalizer<4,>=2 in /usr/local/lib/python3.10/dist-packages (from requests<3,>=2->langchain) (3.3.2)\n",
            "Requirement already satisfied: urllib3<3,>=1.21.1 in /usr/local/lib/python3.10/dist-packages (from requests<3,>=2->langchain) (2.0.7)\n",
            "Requirement already satisfied: threadpoolctl>=2.0.0 in /usr/local/lib/python3.10/dist-packages (from scikit-learn<1.3.0->arize_phoenix) (3.2.0)\n",
            "Requirement already satisfied: greenlet!=0.4.17 in /usr/local/lib/python3.10/dist-packages (from SQLAlchemy<3,>=1.4->langchain) (3.0.3)\n",
            "Requirement already satisfied: mypy-extensions>=0.3.0 in /usr/local/lib/python3.10/dist-packages (from typing-inspect>=0.8.0->llama-index) (1.0.0)\n",
            "Requirement already satisfied: six in /usr/local/lib/python3.10/dist-packages (from ddsketch->arize_phoenix) (1.16.0)\n",
            "Requirement already satisfied: MarkupSafe>=2.0 in /usr/local/lib/python3.10/dist-packages (from jinja2->arize_phoenix) (2.1.4)\n",
            "Requirement already satisfied: opentelemetry-api==1.22.0 in /usr/local/lib/python3.10/dist-packages (from opentelemetry-sdk->arize_phoenix) (1.22.0)\n",
            "Requirement already satisfied: opentelemetry-semantic-conventions==0.43b0 in /usr/local/lib/python3.10/dist-packages (from opentelemetry-sdk->arize_phoenix) (0.43b0)\n",
            "Requirement already satisfied: importlib-metadata<7.0,>=6.0 in /usr/local/lib/python3.10/dist-packages (from opentelemetry-api==1.22.0->opentelemetry-sdk->arize_phoenix) (6.11.0)\n",
            "Requirement already satisfied: pytz>=2020.1 in /usr/local/lib/python3.10/dist-packages (from pandas->llama-index) (2023.3.post1)\n",
            "Requirement already satisfied: numba>=0.51.2 in /usr/local/lib/python3.10/dist-packages (from umap-learn->arize_phoenix) (0.58.1)\n",
            "Requirement already satisfied: pynndescent>=0.5 in /usr/local/lib/python3.10/dist-packages (from umap-learn->arize_phoenix) (0.5.11)\n",
            "Requirement already satisfied: exceptiongroup in /usr/local/lib/python3.10/dist-packages (from anyio<5,>=3->langchain-core<0.2,>=0.1.16->langchain) (1.2.0)\n",
            "Requirement already satisfied: llvmlite<0.42,>=0.41.0dev0 in /usr/local/lib/python3.10/dist-packages (from numba>=0.51.2->umap-learn->arize_phoenix) (0.41.1)\n",
            "Requirement already satisfied: zipp>=0.5 in /usr/local/lib/python3.10/dist-packages (from importlib-metadata<7.0,>=6.0->opentelemetry-api==1.22.0->opentelemetry-sdk->arize_phoenix) (3.17.0)\n"
          ]
        }
      ],
      "source": [
        "!pip install langchain langchain_openai llama-index llama_hub tavily-python arize_phoenix"
      ]
    },
    {
      "cell_type": "code",
      "source": [
        "!pip install numpy==1.23.5"
      ],
      "metadata": {
        "colab": {
          "base_uri": "https://localhost:8080/"
        },
        "id": "o0Vogv3JY2_n",
        "outputId": "bcf901fd-ead3-435c-a51a-71e557c0fb95"
      },
      "execution_count": null,
      "outputs": [
        {
          "output_type": "stream",
          "name": "stdout",
          "text": [
            "Requirement already satisfied: numpy==1.23.5 in /usr/local/lib/python3.10/dist-packages (1.23.5)\n"
          ]
        }
      ]
    },
    {
      "cell_type": "code",
      "source": [
        "!pip install tqdm"
      ],
      "metadata": {
        "colab": {
          "base_uri": "https://localhost:8080/"
        },
        "id": "GKTS1BOHDo66",
        "outputId": "60545896-9455-491c-bb15-b5dba0b3479b"
      },
      "execution_count": null,
      "outputs": [
        {
          "output_type": "stream",
          "name": "stdout",
          "text": [
            "Requirement already satisfied: tqdm in /usr/local/lib/python3.10/dist-packages (4.66.1)\n"
          ]
        }
      ]
    },
    {
      "cell_type": "code",
      "source": [
        "# setup Arize Phoenix for logging/observability\n",
        "import phoenix as px\n",
        "import llama_index\n",
        "\n",
        "px.launch_app()\n",
        "llama_index.set_global_handler(\"arize_phoenix\")"
      ],
      "metadata": {
        "colab": {
          "base_uri": "https://localhost:8080/",
          "height": 69
        },
        "id": "a3aZ0YWwP6Sf",
        "outputId": "170a2947-bde3-4705-b811-fa195c41aa94"
      },
      "execution_count": null,
      "outputs": [
        {
          "output_type": "stream",
          "name": "stdout",
          "text": [
            "🌍 To view the Phoenix app in your browser, visit https://mqeok2l74mp2-496ff2e9c6d22116-6006-colab.googleusercontent.com/\n",
            "📺 To view the Phoenix app in a notebook, run `px.active_session().view()`\n",
            "📖 For more information on how to use Phoenix, check out https://docs.arize.com/phoenix\n"
          ]
        }
      ]
    },
    {
      "cell_type": "code",
      "source": [
        "from langchain_openai import ChatOpenAI\n",
        "import openai\n",
        "\n",
        "openai_api_key = \" \"\n",
        "openai.api_key = openai_api_key\n",
        "\n",
        "\n",
        "llm = ChatOpenAI(model=\"gpt-3.5-turbo\",\n",
        "                 temperature=0,\n",
        "                 openai_api_key=openai_api_key,\n",
        "                 max_tokens=250\n",
        "                 )"
      ],
      "metadata": {
        "id": "3mbEccxEfcmr"
      },
      "execution_count": null,
      "outputs": []
    },
    {
      "cell_type": "code",
      "source": [
        "import os\n",
        "os.environ[\"TAVILY_API_KEY\"] = \" \"\n",
        "import logging\n",
        "import sys\n",
        "\n",
        "logging.basicConfig(stream=sys.stdout, level=logging.DEBUG)\n",
        "logging.getLogger().addHandler(logging.StreamHandler(stream=sys.stdout))\n",
        "import json\n",
        "from llama_index import VectorStoreIndex\n",
        "from llama_index import download_loader\n",
        "from llama_index.indices.query.query_transform.base import HyDEQueryTransform\n",
        "from llama_index.query_engine.transform_query_engine import (\n",
        "    TransformQueryEngine,\n",
        ")\n",
        "from IPython.display import Markdown, display\n",
        "from langchain_community.tools.tavily_search import TavilySearchResults\n",
        "from llama_index.prompts import PromptTemplate\n",
        "from llama_index.query_pipeline.query import QueryPipeline\n",
        "from llama_index.postprocessor import CohereRerank\n",
        "from llama_index.response_synthesizers import TreeSummarize\n",
        "from llama_index.query_pipeline.query import QueryPipeline\n",
        "from llama_index import ServiceContext\n",
        "from llama_index.query_pipeline import CustomQueryComponent\n",
        "from typing import Dict, Any\n",
        "import json\n",
        "from llama_index import VectorStoreIndex, download_loader\n",
        "from IPython.display import Markdown, display\n",
        "from llama_hub.tools.tavily_research import TavilyToolSpec\n",
        "from llama_index.agent import OpenAIAgent\n",
        "from requests.exceptions import HTTPError\n",
        "from llama_index import Document\n",
        "\n"
      ],
      "metadata": {
        "id": "aJ5RHgWgZDzJ"
      },
      "execution_count": null,
      "outputs": []
    },
    {
      "cell_type": "markdown",
      "source": [
        "# ABORDAGEM DE DECOMPOSIÇÃO DE RACIOCÍNIO\n",
        "Para abordar a questão como um jurista especializado em todas as matérias do\n",
        "direito brasileiro e decompor perguntas complexas em questões mais específicas,\n",
        "pode-se adotar uma técnica sistemática e analítica. Essa técnica envolve várias\n",
        "etapas:"
      ],
      "metadata": {
        "id": "74bF93nBhPCf"
      }
    },
    {
      "cell_type": "markdown",
      "source": [
        "## Inicialização e Preparação:\n",
        "\n",
        "* Defina a original_query_string com a pergunta do aluno.\n",
        "* Inicialize uma instância de TavilySearchResults ou um equivalente para\n",
        "realizar pesquisas na web.[link text](https://)"
      ],
      "metadata": {
        "id": "S4aAYiUjifhI"
      }
    },
    {
      "cell_type": "code",
      "source": [
        "query_str = \"\"\"Considerando a complexidade e a diversidade das fontes\n",
        "do Direito Civil brasileiro, como os princípios gerais do direito, a\n",
        "legislação, a jurisprudência e os costumes interagem e influenciam a\n",
        "interpretação e a aplicação do Código Civil, em particular em situações\n",
        "que envolvem conflitos de normas? Além disso, como a doutrina e a\n",
        "analogia desempenham seus papéis na resolução de lacunas legais, e\n",
        "de que maneira as decisões judiciais recentes têm refletido a\n",
        "dinâmica entre essas fontes, especialmente em casos que tratam de\n",
        "direitos da personalidade e obrigações contratuais?\"\"\"\n",
        "\n"
      ],
      "metadata": {
        "id": "eHjH1yJIiXKQ"
      },
      "execution_count": null,
      "outputs": []
    },
    {
      "cell_type": "markdown",
      "source": [
        "## Etapas do Processo:\n",
        "\n",
        "Para cada etapa, você fará uma busca usando o TavilySearchResults, analisará os resultados, e os utilizará para refinar sua compreensão e resposta à pergunta original. O processo para cada etapa seria:"
      ],
      "metadata": {
        "id": "NyFzVVDqT0Ox"
      }
    },
    {
      "cell_type": "markdown",
      "source": [
        "### a. Identificação de Palavras-Chave (IDENT_KEY_WORDS):\n",
        "\n",
        "Busque as palavras-chave identificadas e entenda como elas se relacionam com a questão legal em foco."
      ],
      "metadata": {
        "id": "vUAoHutCxiGK"
      }
    },
    {
      "cell_type": "markdown",
      "source": [
        "### c. Estruturação Lógica (IDENT_LOGIC):\n",
        "\n",
        "Com base nos resultados das buscas anteriores, estruture a questão em subcomponentes lógicos."
      ],
      "metadata": {
        "id": "B9_4k3_7UPAj"
      }
    },
    {
      "cell_type": "code",
      "source": [
        "class LogicalStructureIdentificationComponent(CustomQueryComponent):\n",
        "    def _validate_component_inputs(self, input: Dict[str, Any]) -> Dict[str, Any]:\n",
        "        \"\"\"Validates the inputs of the component during run_component.\"\"\"\n",
        "        required_keys = {'query_str'}\n",
        "        missing_keys = required_keys - input.keys()\n",
        "        if missing_keys:\n",
        "            raise ValueError(f\"Missing required input(s) for LogicalStructureIdentificationComponent: {', '.join(missing_keys)}\")\n",
        "        return input\n",
        "\n",
        "    @property\n",
        "    def _input_keys(self) -> set:\n",
        "        \"\"\"Input keys of the component.\"\"\"\n",
        "        return {\"query_str\"}\n",
        "\n",
        "    @property\n",
        "    def _output_keys(self) -> set:\n",
        "        \"\"\"Output keys of the component.\"\"\"\n",
        "        return {\"logical_structure\", \"query_str\"}\n",
        "\n",
        "    def _run_component(self, **kwargs) -> Dict[str, Any]:\n",
        "        llm = ChatOpenAI(model=\"gpt-3.5-turbo-1106\",\n",
        "                  temperature=0.5,\n",
        "                  openai_api_key=openai_api_key,\n",
        "                  max_tokens=4096\n",
        "                  )\n",
        "        query_str = kwargs['query_str']\n",
        "\n",
        "        # Combine search results texts to provide as context\n",
        "        ident_logic_str = f\"\"\"Com base na pergunta original \"{query_str}\",\n",
        "        identifique e estruture a questão em componentes lógicos.\n",
        "\n",
        "        Agora, analise e divida a questão em subcomponentes lógicos. Identifique\n",
        "        os principais conceitos jurídicos e questões subordinadas, e esclareça\n",
        "        as relações entre eles que são fundamentais para uma compreensão\n",
        "        abrangente do tema. Considere os seguintes aspectos na sua estruturação lógica:\n",
        "\n",
        "        1. Quais são os conceitos jurídicos chave abordados na pergunta?\n",
        "        2. Existem subquestões que precisam ser individualmente analisadas?\n",
        "        3. Como esses conceitos e subquestões se inter-relacionam dentro do contexto\n",
        "        ?\"\"\"\n",
        "\n",
        "        # Assuming you have a way to load and index your documents, similar to the keyword identification\n",
        "        StringIterableReader = download_loader(\"StringIterableReader\")\n",
        "        loader = StringIterableReader()\n",
        "        documents = loader.load_data(texts=[ident_logic_str])\n",
        "        index = VectorStoreIndex(documents)\n",
        "\n",
        "        ident_logic_tmpl = PromptTemplate(ident_logic_str)\n",
        "        prompt = ident_logic_tmpl.format(query_str=query_str)\n",
        "\n",
        "        # Use the index as a query engine\n",
        "        query_engine = index.as_query_engine()\n",
        "\n",
        "        # Query the engine with the prompt\n",
        "        logical_structure = query_engine.query(prompt)\n",
        "\n",
        "        return {\"logical_structure\": logical_structure, \"query_str\": query_str}\n"
      ],
      "metadata": {
        "id": "9fOL9kPQUTvh"
      },
      "execution_count": null,
      "outputs": []
    },
    {
      "cell_type": "markdown",
      "source": [
        "### d. Questionamento Socrático (IDENT_QUEST_SOC):\n",
        "\n",
        "Faça perguntas detalhadas para aprofundar sua compreensão de cada aspecto da questão, utilizando as informações coletadas anteriormente."
      ],
      "metadata": {
        "id": "Q6otZZFpUT3W"
      }
    },
    {
      "cell_type": "code",
      "source": [
        "from tqdm import tqdm\n",
        "from tqdm.auto import tqdm\n",
        "from typing import List, Dict, Any\n",
        "from pydantic import BaseModel\n",
        "from llama_index import VectorStoreIndex, ServiceContext, PromptTemplate\n",
        "from llama_index.llms import OpenAI\n",
        "from llama_index.agent import OpenAIAgent\n",
        "from llama_hub.tools.tavily_research import TavilyToolSpec\n",
        "from nest_asyncio import apply\n",
        "import asyncio\n",
        "\n",
        "apply()\n",
        "\n",
        "class SocraticQuestionOutput(BaseModel):\n",
        "    \"\"\"Data model for the output of SocraticQuestioningComponent.\"\"\"\n",
        "    socratic_questions: List[str]\n",
        "\n",
        "class SocraticQuestioningComponent(CustomQueryComponent):\n",
        "    def _validate_component_inputs(self, input: Dict[str, Any]) -> Dict[str, Any]:\n",
        "        \"\"\"Validates the inputs of the component during run_component.\"\"\"\n",
        "        required_keys = {'query_str', \"logical_structure\"}\n",
        "        missing_keys = required_keys - input.keys()\n",
        "        if missing_keys:\n",
        "            raise ValueError(f\"Missing required input(s) for SocraticQuestioningComponent: {', '.join(missing_keys)}\")\n",
        "        return input\n",
        "\n",
        "    @property\n",
        "    def _input_keys(self) -> set:\n",
        "        \"\"\"Input keys of the component.\"\"\"\n",
        "        return {\"query_str\", \"logical_structure\"}\n",
        "\n",
        "    @property\n",
        "    def _output_keys(self) -> set:\n",
        "        \"\"\"Output keys of the component.\"\"\"\n",
        "        return {\"socratic_questions\", \"all_search_results\", \"all_sources\"}\n",
        "\n",
        "    def search_tavily(self, question, agent):\n",
        "        print(f\"Searching for question: {question}\")  # Debug: Log the question being searched\n",
        "        response_obj = agent.chat(question)  # Make synchronous call\n",
        "        search_result = response_obj.response  # Access the response attribute\n",
        "        # Use getattr to handle missing 'sources' attribute and debug print\n",
        "        sources = getattr(response_obj, 'sources', [])\n",
        "        print(f\"Search Result: {search_result}\")  # Debug: Log the raw search result\n",
        "        print(f\"Sources for question '{question}': {sources}\")  # Debug: Log the sources\n",
        "        return search_result, sources\n",
        "\n",
        "    def _run_component_sync(self, **kwargs) -> Dict[str, Any]:\n",
        "        llm = ChatOpenAI(model=\"gpt-3.5-turbo-1106\",\n",
        "            temperature=0,\n",
        "            openai_api_key=openai_api_key,\n",
        "            max_tokens=9000\n",
        "            )\n",
        "        query_str = kwargs['query_str']\n",
        "        logical_structure = kwargs['logical_structure']  # Ensure this line is correct\n",
        "\n",
        "        # Construct the ident_quest_soc_str here with proper formatting\n",
        "        ident_quest_soc_str = f\"\"\"\n",
        "        Baseado na pergunta original e na decomposição lógica identificado,\n",
        "        formule perguntas socráticas que explorem a questão mais profundamente.\n",
        "        Aqui está a pergunta ou questão levantada: {query_str}\n",
        "        Aqui está a estrutura lógica da questão: {logical_structure}\n",
        "\n",
        "        Formule perguntas socráticas que ajudem a explorar a questão em profundidade, questionando suposições, clarificando conceitos e revelando conexões e distinções críticas.\n",
        "        Perguntas socráticas propostas:\n",
        "        \"\"\"\n",
        "\n",
        "        # Assuming you have a way to load and index your documents, similar to the previous components\n",
        "        StringIterableReader = download_loader(\"StringIterableReader\")\n",
        "        loader = StringIterableReader()\n",
        "        documents = loader.load_data(texts=[ident_quest_soc_str])\n",
        "        index = VectorStoreIndex(documents)\n",
        "\n",
        "        ident_quest_soc_tmpl = PromptTemplate(ident_quest_soc_str)\n",
        "        prompt = ident_quest_soc_tmpl.format(query_str=query_str)\n",
        "\n",
        "        # Use the index as a query engine\n",
        "        query_engine = index.as_query_engine()\n",
        "\n",
        "        # Use the index as a query engine with appropriate response mode\n",
        "        query_engine = index.as_query_engine(\n",
        "            output_cls=SocraticQuestionOutput,  # Use your Pydantic model here\n",
        "            response_mode=\"tree_summarize\"      # Choose an appropriate response mode\n",
        "        )\n",
        "\n",
        "        # Query the engine with the prompt\n",
        "        socratic_questions = query_engine.query(prompt)\n",
        "\n",
        "        # Check the structure of socratic_questions\n",
        "        if not hasattr(socratic_questions, 'socratic_questions') or not socratic_questions.socratic_questions:\n",
        "            raise ValueError(\"The response structure is unexpected or socratic_questions are missing.\")\n",
        "\n",
        "        questions = socratic_questions.socratic_questions\n",
        "        print(f\"Socratic Questions: {questions}\")  # Debug: Log all socratic questions\n",
        "\n",
        "        # Initialize Tavily tool\n",
        "        tavily_tool = TavilyToolSpec()\n",
        "        agent = OpenAIAgent.from_tools(tavily_tool.to_tool_list())\n",
        "\n",
        "        # Process each question synchronously\n",
        "        all_search_results = []\n",
        "        # Use a dictionary to store sources for each question\n",
        "        all_sources = {}\n",
        "        for question in questions:\n",
        "            result, sources = self.search_tavily(question, agent)\n",
        "            all_search_results.append(result)\n",
        "            # Store sources in the dictionary with the question as the key\n",
        "            all_sources[question] = sources\n",
        "            print(f\"Result for question '{question}': {result}\")\n",
        "            print(f\"Sources for question '{question}': {all_sources[question]}\")\n",
        "\n",
        "        return {\n",
        "            \"socratic_questions\": socratic_questions,\n",
        "            \"all_search_results\": all_search_results,\n",
        "            \"all_sources\": all_sources  # Include the collected sources\n",
        "        }\n",
        "\n",
        "    def _run_component(self, **kwargs) -> Dict[str, Any]:\n",
        "        \"\"\"Execute the component synchronously.\"\"\"\n",
        "        return self._run_component_sync(**kwargs)\n"
      ],
      "metadata": {
        "id": "VpvJHpcLUWX0"
      },
      "execution_count": null,
      "outputs": []
    },
    {
      "cell_type": "markdown",
      "source": [
        "### e. Checagem de Consistência e Completude (IDENT_CONS_COMPL):\n",
        "\n",
        "Verifique se todas as partes da questão foram abordadas, buscando informações adicionais se necessário."
      ],
      "metadata": {
        "id": "tnb9fwmdUWfj"
      }
    },
    {
      "cell_type": "code",
      "source": [],
      "metadata": {
        "id": "pkOruxHrUc7n"
      },
      "execution_count": null,
      "outputs": []
    },
    {
      "cell_type": "markdown",
      "source": [
        "### f. Identificação de Referências e Fontes (IDENT_REF_FONTES):\n",
        "\n",
        "Busque leis, regulamentos, decisões judiciais ou literatura acadêmica relevantes para a questão."
      ],
      "metadata": {
        "id": "CF5obmy6UdSA"
      }
    },
    {
      "cell_type": "code",
      "source": [],
      "metadata": {
        "id": "1yt8ilmTUf3i"
      },
      "execution_count": null,
      "outputs": []
    },
    {
      "cell_type": "markdown",
      "source": [
        "### g. Síntese e Conclusão (SINT_CONCL):\n",
        "\n",
        "Sintetize todas as informações coletadas para construir uma resposta coerente e bem fundamentada."
      ],
      "metadata": {
        "id": "5u_6IPW8Uf-N"
      }
    },
    {
      "cell_type": "code",
      "source": [],
      "metadata": {
        "id": "LxkJP9mrUj7d"
      },
      "execution_count": null,
      "outputs": []
    },
    {
      "cell_type": "markdown",
      "source": [
        "### h. Revisão Crítica (REV_CRIT):\n",
        "\n",
        "Revise criticamente a resposta elaborada para garantir sua precisão, clareza e compreensibilidade."
      ],
      "metadata": {
        "id": "scyT0CqTUkB8"
      }
    },
    {
      "cell_type": "code",
      "source": [],
      "metadata": {
        "id": "BJnSTlqAUrYZ"
      },
      "execution_count": null,
      "outputs": []
    },
    {
      "cell_type": "markdown",
      "source": [
        "## Automação e Iteração:\n",
        "\n",
        "Para cada etapa, você pode automatizar a busca e análise de informações utilizando scripts ou funções específicas. Por exemplo, você pode criar funções que recebam a pergunta do aluno e retornem os resultados das pesquisas, bem como análises desses resultados."
      ],
      "metadata": {
        "id": "fVzkqcpfUrgx"
      }
    },
    {
      "cell_type": "code",
      "source": [],
      "metadata": {
        "id": "5hEulblDUudV"
      },
      "execution_count": null,
      "outputs": []
    },
    {
      "cell_type": "markdown",
      "source": [
        "## Integração dos Resultados:\n",
        "\n",
        "* Ao final de cada etapa, integre os resultados obtidos na construção da resposta final.\n",
        "* Use os insights de cada etapa para refinar e aprofundar a resposta, garantindo que todos os aspectos da questão sejam adequadamente abordados."
      ],
      "metadata": {
        "id": "pf531vE2UujX"
      }
    },
    {
      "cell_type": "code",
      "source": [],
      "metadata": {
        "id": "ysDpgfqAU3t_"
      },
      "execution_count": null,
      "outputs": []
    },
    {
      "cell_type": "markdown",
      "source": [
        "## Geração de Documentação:\n",
        "\n",
        "Documente cada etapa do processo, incluindo as perguntas feitas, as buscas realizadas e os resultados obtidos.\n",
        "Isso não apenas ajuda na construção da resposta final, mas também serve como um registro detalhado do processo de pesquisa e análise."
      ],
      "metadata": {
        "id": "Ye4j59rBU3lU"
      }
    },
    {
      "cell_type": "code",
      "source": [],
      "metadata": {
        "id": "yoGehODdU-hd"
      },
      "execution_count": null,
      "outputs": []
    },
    {
      "cell_type": "markdown",
      "source": [
        "# CONFIGURAÇÃO DO **PIPELINE**"
      ],
      "metadata": {
        "id": "tVoF-5avU-1O"
      }
    },
    {
      "cell_type": "code",
      "source": [
        "# Configure the query pipeline\n",
        "p = QueryPipeline(verbose=True)\n",
        "\n",
        "# Add modules to the pipeline\n",
        "p.add_modules(\n",
        "    {\n",
        "        \"logical_structure\": LogicalStructureIdentificationComponent(),  # Existing component\n",
        "        \"socratic_questioning\": SocraticQuestioningComponent()  # New component\n",
        "    }\n",
        ")\n",
        "\n",
        "# Link logical_structure to socratic_questioning\n",
        "p.add_link(\"logical_structure\", \"socratic_questioning\", src_key=\"logical_structure\", dest_key=\"logical_structure\")\n",
        "p.add_link(\"logical_structure\", \"socratic_questioning\", src_key=\"query_str\", dest_key=\"query_str\")\n",
        "\n",
        "\n",
        "# Prepare the input for the pipeline\n",
        "input_dict = {\n",
        "    \"logical_structure\": {\"query_str\": query_str}\n",
        "}\n",
        "\n",
        "# Run the pipeline\n",
        "output_dict = p.run_multi(input_dict)\n",
        "\n",
        "# The output_dict will now include the output from SocraticQuestioningComponent as well.\n"
      ],
      "metadata": {
        "colab": {
          "base_uri": "https://localhost:8080/"
        },
        "id": "mEPHPPtd9a50",
        "outputId": "e1608e15-ea1b-46af-c8dc-34064d1cc958"
      },
      "execution_count": null,
      "outputs": [
        {
          "output_type": "stream",
          "name": "stdout",
          "text": [
            "\u001b[1;3;38;2;155;135;227m> Running module logical_structure with input: \n",
            "query_str: Considerando a complexidade e a diversidade das fontes\n",
            "do Direito Civil brasileiro, como os princípios gerais do direito, a\n",
            "legislação, a jurisprudência e os costumes interagem e influenciam a\n",
            "interpr...\n",
            "\n",
            "\u001b[0m\u001b[1;3;38;2;155;135;227m> Running module socratic_questioning with input: \n",
            "logical_structure: 1. Os conceitos jurídicos chave abordados na pergunta são: princípios gerais do direito, legislação, jurisprudência, costumes, interpretação e aplicação do Código Civil, conflitos de normas, doutrina,...\n",
            "query_str: Considerando a complexidade e a diversidade das fontes\n",
            "do Direito Civil brasileiro, como os princípios gerais do direito, a\n",
            "legislação, a jurisprudência e os costumes interagem e influenciam a\n",
            "interpr...\n",
            "\n",
            "\u001b[0mSocratic Questions: ['Como os princípios gerais do direito, a legislação, a jurisprudência e os costumes interagem e influenciam a interpretação e a aplicação do Código Civil em situações que envolvem conflitos de normas?', 'Como a doutrina e a analogia desempenham seus papéis na resolução de lacunas legais?', 'De que maneira as decisões judiciais recentes têm refletido a dinâmica entre essas fontes, especialmente em casos que tratam de direitos da personalidade e obrigações contratuais?']\n",
            "Searching for question: Como os princípios gerais do direito, a legislação, a jurisprudência e os costumes interagem e influenciam a interpretação e a aplicação do Código Civil em situações que envolvem conflitos de normas?\n",
            "Search Result: Os princípios gerais do direito, a legislação, a jurisprudência e os costumes desempenham papéis importantes na interpretação e aplicação do Código Civil em situações que envolvem conflitos de normas. Vamos analisar cada um deles:\n",
            "\n",
            "1. Princípios Gerais do Direito: Os princípios gerais do direito são os fundamentos básicos que orientam a interpretação e aplicação das normas jurídicas. Eles são considerados fontes do direito e têm um papel fundamental na resolução de conflitos normativos. Quando há um conflito entre normas do Código Civil, os princípios gerais do direito podem ser utilizados para determinar qual norma deve prevalecer. Por exemplo, o princípio da boa-fé pode ser invocado para resolver um conflito entre duas normas contratuais.\n",
            "\n",
            "2. Legislação: A legislação é a fonte primária do direito e consiste nas leis e regulamentos promulgados pelo poder legislativo. No caso de conflitos de normas no Código Civil, a legislação pode ser utilizada para determinar qual norma deve prevalecer. Por exemplo, se houver um conflito entre uma norma do Código Civil e uma lei específica que regula determinada matéria, a lei específica terá prevalência sobre a norma do Código Civil.\n",
            "\n",
            "3. Jurisprudência: A jurisprudência é o conjunto de decisões judiciais proferidas pelos tribunais superiores em casos semelhantes. A jurisprudência tem um papel importante na interpretação e aplicação do Código Civil, pois os tribunais podem estabelecer precedentes que devem ser seguidos em casos futuros. Quando há um conflito de normas no Código Civil, a jurisprudência pode ser utilizada para determinar como os tribunais têm interpretado e aplicado essas normas em situações semelhantes.\n",
            "\n",
            "4. Costumes: Os costumes são práticas sociais reiteradas e aceitas pela comunidade como normas jurídicas. Embora o Código Civil seja a principal fonte do direito civil, os costumes também podem influenciar a interpretação e aplicação das normas. Quando há um conflito de normas no Código Civil, os costumes podem ser considerados como um elemento de interpretação para determinar qual norma deve prevalecer. Por exemplo, se houver um costume local que contrarie uma norma do Código Civil, o costume pode ser levado em consideração na resolução do conflito.\n",
            "\n",
            "Em resumo, os princípios gerais do direito, a legislação, a jurisprudência e os costumes interagem e influenciam a interpretação e aplicação do Código Civil em situações que envolvem conflitos de normas. Cada um desses elementos pode ser utilizado para determinar qual norma deve prevalecer em um determinado caso. A interpretação e aplicação do Código Civil são dinâmicas e podem evoluir ao longo do tempo com base nessas fontes do direito.\n",
            "Sources for question 'Como os princípios gerais do direito, a legislação, a jurisprudência e os costumes interagem e influenciam a interpretação e a aplicação do Código Civil em situações que envolvem conflitos de normas?': []\n",
            "Result for question 'Como os princípios gerais do direito, a legislação, a jurisprudência e os costumes interagem e influenciam a interpretação e a aplicação do Código Civil em situações que envolvem conflitos de normas?': Os princípios gerais do direito, a legislação, a jurisprudência e os costumes desempenham papéis importantes na interpretação e aplicação do Código Civil em situações que envolvem conflitos de normas. Vamos analisar cada um deles:\n",
            "\n",
            "1. Princípios Gerais do Direito: Os princípios gerais do direito são os fundamentos básicos que orientam a interpretação e aplicação das normas jurídicas. Eles são considerados fontes do direito e têm um papel fundamental na resolução de conflitos normativos. Quando há um conflito entre normas do Código Civil, os princípios gerais do direito podem ser utilizados para determinar qual norma deve prevalecer. Por exemplo, o princípio da boa-fé pode ser invocado para resolver um conflito entre duas normas contratuais.\n",
            "\n",
            "2. Legislação: A legislação é a fonte primária do direito e consiste nas leis e regulamentos promulgados pelo poder legislativo. No caso de conflitos de normas no Código Civil, a legislação pode ser utilizada para determinar qual norma deve prevalecer. Por exemplo, se houver um conflito entre uma norma do Código Civil e uma lei específica que regula determinada matéria, a lei específica terá prevalência sobre a norma do Código Civil.\n",
            "\n",
            "3. Jurisprudência: A jurisprudência é o conjunto de decisões judiciais proferidas pelos tribunais superiores em casos semelhantes. A jurisprudência tem um papel importante na interpretação e aplicação do Código Civil, pois os tribunais podem estabelecer precedentes que devem ser seguidos em casos futuros. Quando há um conflito de normas no Código Civil, a jurisprudência pode ser utilizada para determinar como os tribunais têm interpretado e aplicado essas normas em situações semelhantes.\n",
            "\n",
            "4. Costumes: Os costumes são práticas sociais reiteradas e aceitas pela comunidade como normas jurídicas. Embora o Código Civil seja a principal fonte do direito civil, os costumes também podem influenciar a interpretação e aplicação das normas. Quando há um conflito de normas no Código Civil, os costumes podem ser considerados como um elemento de interpretação para determinar qual norma deve prevalecer. Por exemplo, se houver um costume local que contrarie uma norma do Código Civil, o costume pode ser levado em consideração na resolução do conflito.\n",
            "\n",
            "Em resumo, os princípios gerais do direito, a legislação, a jurisprudência e os costumes interagem e influenciam a interpretação e aplicação do Código Civil em situações que envolvem conflitos de normas. Cada um desses elementos pode ser utilizado para determinar qual norma deve prevalecer em um determinado caso. A interpretação e aplicação do Código Civil são dinâmicas e podem evoluir ao longo do tempo com base nessas fontes do direito.\n",
            "Sources for question 'Como os princípios gerais do direito, a legislação, a jurisprudência e os costumes interagem e influenciam a interpretação e a aplicação do Código Civil em situações que envolvem conflitos de normas?': []\n",
            "Searching for question: Como a doutrina e a analogia desempenham seus papéis na resolução de lacunas legais?\n",
            "Search Result: A doutrina e a analogia desempenham papéis importantes na resolução de lacunas legais. Vamos analisar cada um deles:\n",
            "\n",
            "1. Doutrina: A doutrina consiste nas opiniões e interpretações dos estudiosos do direito sobre as normas jurídicas. Os juristas e acadêmicos analisam e interpretam as leis, buscando preencher as lacunas existentes. A doutrina pode ser utilizada como uma fonte de orientação para os juízes e aplicadores do direito na resolução de lacunas legais. Os juristas podem propor soluções e interpretações que sejam coerentes com o sistema jurídico como um todo, levando em consideração os princípios e valores que fundamentam o ordenamento jurídico.\n",
            "\n",
            "2. Analogia: A analogia é um método de interpretação que consiste em aplicar uma norma existente a uma situação não prevista expressamente na lei, mas que apresenta semelhanças relevantes com a situação prevista. A analogia permite preencher as lacunas legais por meio da aplicação de normas existentes a casos semelhantes. No entanto, é importante ressaltar que a analogia deve ser utilizada com cautela, pois pode haver limitações impostas pela própria lei ou pelo sistema jurídico.\n",
            "\n",
            "Tanto a doutrina quanto a analogia são ferramentas utilizadas para preencher as lacunas legais e garantir a aplicação adequada do direito. No entanto, é importante destacar que a doutrina e a analogia não podem ser utilizadas de forma arbitrária ou contrária aos princípios fundamentais do ordenamento jurídico. A interpretação e aplicação do direito devem ser feitas de forma coerente e consistente, levando em consideração os valores e princípios que fundamentam o sistema jurídico.\n",
            "Sources for question 'Como a doutrina e a analogia desempenham seus papéis na resolução de lacunas legais?': []\n",
            "Result for question 'Como a doutrina e a analogia desempenham seus papéis na resolução de lacunas legais?': A doutrina e a analogia desempenham papéis importantes na resolução de lacunas legais. Vamos analisar cada um deles:\n",
            "\n",
            "1. Doutrina: A doutrina consiste nas opiniões e interpretações dos estudiosos do direito sobre as normas jurídicas. Os juristas e acadêmicos analisam e interpretam as leis, buscando preencher as lacunas existentes. A doutrina pode ser utilizada como uma fonte de orientação para os juízes e aplicadores do direito na resolução de lacunas legais. Os juristas podem propor soluções e interpretações que sejam coerentes com o sistema jurídico como um todo, levando em consideração os princípios e valores que fundamentam o ordenamento jurídico.\n",
            "\n",
            "2. Analogia: A analogia é um método de interpretação que consiste em aplicar uma norma existente a uma situação não prevista expressamente na lei, mas que apresenta semelhanças relevantes com a situação prevista. A analogia permite preencher as lacunas legais por meio da aplicação de normas existentes a casos semelhantes. No entanto, é importante ressaltar que a analogia deve ser utilizada com cautela, pois pode haver limitações impostas pela própria lei ou pelo sistema jurídico.\n",
            "\n",
            "Tanto a doutrina quanto a analogia são ferramentas utilizadas para preencher as lacunas legais e garantir a aplicação adequada do direito. No entanto, é importante destacar que a doutrina e a analogia não podem ser utilizadas de forma arbitrária ou contrária aos princípios fundamentais do ordenamento jurídico. A interpretação e aplicação do direito devem ser feitas de forma coerente e consistente, levando em consideração os valores e princípios que fundamentam o sistema jurídico.\n",
            "Sources for question 'Como a doutrina e a analogia desempenham seus papéis na resolução de lacunas legais?': []\n",
            "Searching for question: De que maneira as decisões judiciais recentes têm refletido a dinâmica entre essas fontes, especialmente em casos que tratam de direitos da personalidade e obrigações contratuais?\n",
            "Search Result: As decisões judiciais recentes refletem a dinâmica entre as fontes do direito, especialmente em casos que tratam de direitos da personalidade e obrigações contratuais. Aqui estão alguns exemplos de decisões judiciais recentes relacionadas a esses temas:\n",
            "\n",
            "1. Direitos da personalidade: O Superior Tribunal de Justiça (STJ) divulgou uma lista com 12 entendimentos sobre direitos da personalidade, abordando questões como dano moral extrapatrimonial, proteção à imagem, direito ao esquecimento, entre outros. Essas decisões refletem a interpretação e aplicação dos princípios e normas relacionados aos direitos da personalidade no contexto atual. [Fonte: Conjur](https://www.conjur.com.br/2019-nov-29/stj-divulga-12-entendimentos-direitos-personalidade/)\n",
            "\n",
            "2. Obrigações contratuais: Decisões recentes do Supremo Tribunal Federal (STF) têm abordado questões relacionadas à contratação de trabalhadores como pessoas jurídicas, conhecida como \"pejotização\". Essas decisões têm discutido os limites e os riscos dessa prática, analisando a natureza das relações contratuais e os direitos dos trabalhadores envolvidos. [Fonte: Conjur](https://www.conjur.com.br/2023-jan-05/thiago-doria-stf-pejotizacao-tendencia-ou-risco/)\n",
            "\n",
            "Esses são apenas alguns exemplos de como as decisões judiciais têm refletido a dinâmica entre as fontes do direito nos casos que envolvem direitos da personalidade e obrigações contratuais. As decisões judiciais são fundamentais para interpretar e aplicar as normas jurídicas, levando em consideração os princípios, a legislação, a doutrina, a jurisprudência e os costumes. Elas refletem a evolução do direito e contribuem para a construção de um sistema jurídico mais justo e atualizado.\n",
            "Sources for question 'De que maneira as decisões judiciais recentes têm refletido a dinâmica entre essas fontes, especialmente em casos que tratam de direitos da personalidade e obrigações contratuais?': [ToolOutput(content='[Document(id_=\\'9351767a-480d-4598-826a-632001971ced\\', embedding=None, metadata={\\'url\\': \\'https://www.conjur.com.br/2019-nov-29/stj-divulga-12-entendimentos-direitos-personalidade/\\'}, excluded_embed_metadata_keys=[], excluded_llm_metadata_keys=[], relationships={}, text=\\', STJ divulga mais 12 entendimentos sobre direitos da personalidade Autor View all posts 29 de novembro de 2019, 10h18  Veja as 12 teses destacadas sobre direito de personalidade Com informações da Assessoria de Imprensa do STJ. Autores  RECEBA NOSSO BOLETIM DE NOTÍCIAS Inscreva-se no Boletim Consultor Jurídico 2024. Todos os direitos reservados.  a direitos da personalidade das páginas da internet — seja por meio de notificação do particular ou de ordem judicial —1) O dano moral extrapatrimonial atinge direitos de personalidade do grupo ou da coletividade como realidade massificada, não sendo necessária a demonstração de da dor, da repulsa, da indignação, tal qual fosse um indivíduo isolado.\\', start_char_idx=None, end_char_idx=None, text_template=\\'{metadata_str}\\\\n\\\\n{content}\\', metadata_template=\\'{key}: {value}\\', metadata_seperator=\\'\\\\n\\'), Document(id_=\\'5373d830-3beb-4a90-b5e0-5946109d87aa\\', embedding=None, metadata={\\'url\\': \\'https://direitoreal.com.br/artigos/explorando-os-limites-capacidade-juridica-e-direitos-da-personalidade-na-contemporaneidade\\'}, excluded_embed_metadata_keys=[], excluded_llm_metadata_keys=[], relationships={}, text=\\'diretamente os direitos da personalidade:  Explorando os Limites: Capacidade Jurídica e Direitos da Personalidade na Contemporaneidade Por Beatriz Castro  adaptada para garantir uma tutela efetiva dos direitos da personalidade.  envolvam aspectos pessoais, como contratos de trabalho ou de casamento, sejam firmados de maneira válida e respeitosaEm resumo, a capacidade jurídica serve como alicerce para a garantia efetiva dos direitos da personalidade, permitindo que os indivíduos exerçam plenamente sua autonomia, protegendo sua integridade e dignidade em diversos aspectos da vida jurídica e social. Bases Teóricas que Fundamentam a Capacidade Jurídica e os Direitos da Personalidade\\', start_char_idx=None, end_char_idx=None, text_template=\\'{metadata_str}\\\\n\\\\n{content}\\', metadata_template=\\'{key}: {value}\\', metadata_seperator=\\'\\\\n\\'), Document(id_=\\'b9063b53-a158-4867-8f82-eeca9289bb03\\', embedding=None, metadata={\\'url\\': \\'https://www.conjur.com.br/2023-jan-05/thiago-doria-stf-pejotizacao-tendencia-ou-risco/\\'}, excluded_embed_metadata_keys=[], excluded_llm_metadata_keys=[], relationships={}, text=\\'https://valor.globo.com/legislacao/noticia/2022/11/29/judiciario-valida-contratacao-de-trabalhador-como-pessoa-juridica  RECEBA NOSSO BOLETIM DE NOTÍCIAS Inscreva-se no Boletim Consultor Jurídico 2024. Todos os direitos reservados.  https://valor.globo.com/legislacao/noticia/2022/12/05/supremo-mantem-contratacao-de-trabalhador-como-pessoa-juridica.gh  o-pessoa-juridica.ghtmlDecisões recentes do STF e a \"pejotização\": tendência ou risco? Thiago Dória. 5 de janeiro de 2023, 18h16. Editorias: Judiciário. Trabalhista. Algumas decisões recentes do Supremo Tribunal ...\\', start_char_idx=None, end_char_idx=None, text_template=\\'{metadata_str}\\\\n\\\\n{content}\\', metadata_template=\\'{key}: {value}\\', metadata_seperator=\\'\\\\n\\'), Document(id_=\\'25e908d6-34ac-4269-a697-d7a833263a23\\', embedding=None, metadata={\\'url\\': \\'https://www.conjur.com.br/2021-ago-16/opiniao-lei-licitacoes-personalidade-juridica/\\'}, excluded_embed_metadata_keys=[], excluded_llm_metadata_keys=[], relationships={}, text=\\'da personalidade jurídica e as pessoas que poderão ser por ela afetadas.  RECEBA NOSSO BOLETIM DE NOTÍCIAS Inscreva-se no Boletim Consultor Jurídico 2024. Todos os direitos reservados.  , A nova Lei de Licitações e a desconsideração da personalidade jurídica Autores  rol de pessoas que poderão ser afetadas com a aplicação da teoria da desconsideração da personalidade jurídicaA nova Lei de Licitações e a desconsideração da personalidade jurídica. Após quase 28 anos da vigência da Lei n° 8.666/93, foi publicada a nova Lei de Licitações (Lei n° 14.133, de 1 ...\\', start_char_idx=None, end_char_idx=None, text_template=\\'{metadata_str}\\\\n\\\\n{content}\\', metadata_template=\\'{key}: {value}\\', metadata_seperator=\\'\\\\n\\'), Document(id_=\\'1d6a6341-da4d-4445-848a-948fbeaf8931\\', embedding=None, metadata={\\'url\\': \\'https://blog.jurishand.com/novidades-legislacao-federal-decisoes-stj-stf-20-24-fevereiro-2023/\\'}, excluded_embed_metadata_keys=[], excluded_llm_metadata_keys=[], relationships={}, text=\\'Novidades da Legislação Federal e Decisões do STJ e STF: 20 a 24/02  Direito Processual Civil – Coisa Julgada; Limites; Relações De Trato Sucessivo  Confira a íntegra do Informativo —– Jurisprudência do STJ – Informativo 763/2022  Ramo Do Direito Direito CivilNovidades da Legislação Federal e Decisões do STJ e STF: 20 a 24/02 By Alanna Moura 17 de fevereiro de 2023 No Comments #PrisãoCivil #Auxílioalimentação #ContribuiçãoPatronal Jurisprudência do STF - Edição 1082/2022 Direito Constitucional - Controle De Constitucionalidade; Efeitos Da Declaração De Inconstitucionalidade\\', start_char_idx=None, end_char_idx=None, text_template=\\'{metadata_str}\\\\n\\\\n{content}\\', metadata_template=\\'{key}: {value}\\', metadata_seperator=\\'\\\\n\\')]', tool_name='search', raw_input={'args': (), 'kwargs': {'query': 'decisões judiciais recentes sobre direitos da personalidade e obrigações contratuais', 'max_results': 5}}, raw_output=[Document(id_='9351767a-480d-4598-826a-632001971ced', embedding=None, metadata={'url': 'https://www.conjur.com.br/2019-nov-29/stj-divulga-12-entendimentos-direitos-personalidade/'}, excluded_embed_metadata_keys=[], excluded_llm_metadata_keys=[], relationships={}, text=', STJ divulga mais 12 entendimentos sobre direitos da personalidade Autor View all posts 29 de novembro de 2019, 10h18  Veja as 12 teses destacadas sobre direito de personalidade Com informações da Assessoria de Imprensa do STJ. Autores  RECEBA NOSSO BOLETIM DE NOTÍCIAS Inscreva-se no Boletim Consultor Jurídico 2024. Todos os direitos reservados.  a direitos da personalidade das páginas da internet — seja por meio de notificação do particular ou de ordem judicial —1) O dano moral extrapatrimonial atinge direitos de personalidade do grupo ou da coletividade como realidade massificada, não sendo necessária a demonstração de da dor, da repulsa, da indignação, tal qual fosse um indivíduo isolado.', start_char_idx=None, end_char_idx=None, text_template='{metadata_str}\\n\\n{content}', metadata_template='{key}: {value}', metadata_seperator='\\n'), Document(id_='5373d830-3beb-4a90-b5e0-5946109d87aa', embedding=None, metadata={'url': 'https://direitoreal.com.br/artigos/explorando-os-limites-capacidade-juridica-e-direitos-da-personalidade-na-contemporaneidade'}, excluded_embed_metadata_keys=[], excluded_llm_metadata_keys=[], relationships={}, text='diretamente os direitos da personalidade:  Explorando os Limites: Capacidade Jurídica e Direitos da Personalidade na Contemporaneidade Por Beatriz Castro  adaptada para garantir uma tutela efetiva dos direitos da personalidade.  envolvam aspectos pessoais, como contratos de trabalho ou de casamento, sejam firmados de maneira válida e respeitosaEm resumo, a capacidade jurídica serve como alicerce para a garantia efetiva dos direitos da personalidade, permitindo que os indivíduos exerçam plenamente sua autonomia, protegendo sua integridade e dignidade em diversos aspectos da vida jurídica e social. Bases Teóricas que Fundamentam a Capacidade Jurídica e os Direitos da Personalidade', start_char_idx=None, end_char_idx=None, text_template='{metadata_str}\\n\\n{content}', metadata_template='{key}: {value}', metadata_seperator='\\n'), Document(id_='b9063b53-a158-4867-8f82-eeca9289bb03', embedding=None, metadata={'url': 'https://www.conjur.com.br/2023-jan-05/thiago-doria-stf-pejotizacao-tendencia-ou-risco/'}, excluded_embed_metadata_keys=[], excluded_llm_metadata_keys=[], relationships={}, text='https://valor.globo.com/legislacao/noticia/2022/11/29/judiciario-valida-contratacao-de-trabalhador-como-pessoa-juridica  RECEBA NOSSO BOLETIM DE NOTÍCIAS Inscreva-se no Boletim Consultor Jurídico 2024. Todos os direitos reservados.  https://valor.globo.com/legislacao/noticia/2022/12/05/supremo-mantem-contratacao-de-trabalhador-como-pessoa-juridica.gh  o-pessoa-juridica.ghtmlDecisões recentes do STF e a \"pejotização\": tendência ou risco? Thiago Dória. 5 de janeiro de 2023, 18h16. Editorias: Judiciário. Trabalhista. Algumas decisões recentes do Supremo Tribunal ...', start_char_idx=None, end_char_idx=None, text_template='{metadata_str}\\n\\n{content}', metadata_template='{key}: {value}', metadata_seperator='\\n'), Document(id_='25e908d6-34ac-4269-a697-d7a833263a23', embedding=None, metadata={'url': 'https://www.conjur.com.br/2021-ago-16/opiniao-lei-licitacoes-personalidade-juridica/'}, excluded_embed_metadata_keys=[], excluded_llm_metadata_keys=[], relationships={}, text='da personalidade jurídica e as pessoas que poderão ser por ela afetadas.  RECEBA NOSSO BOLETIM DE NOTÍCIAS Inscreva-se no Boletim Consultor Jurídico 2024. Todos os direitos reservados.  , A nova Lei de Licitações e a desconsideração da personalidade jurídica Autores  rol de pessoas que poderão ser afetadas com a aplicação da teoria da desconsideração da personalidade jurídicaA nova Lei de Licitações e a desconsideração da personalidade jurídica. Após quase 28 anos da vigência da Lei n° 8.666/93, foi publicada a nova Lei de Licitações (Lei n° 14.133, de 1 ...', start_char_idx=None, end_char_idx=None, text_template='{metadata_str}\\n\\n{content}', metadata_template='{key}: {value}', metadata_seperator='\\n'), Document(id_='1d6a6341-da4d-4445-848a-948fbeaf8931', embedding=None, metadata={'url': 'https://blog.jurishand.com/novidades-legislacao-federal-decisoes-stj-stf-20-24-fevereiro-2023/'}, excluded_embed_metadata_keys=[], excluded_llm_metadata_keys=[], relationships={}, text='Novidades da Legislação Federal e Decisões do STJ e STF: 20 a 24/02  Direito Processual Civil – Coisa Julgada; Limites; Relações De Trato Sucessivo  Confira a íntegra do Informativo —– Jurisprudência do STJ – Informativo 763/2022  Ramo Do Direito Direito CivilNovidades da Legislação Federal e Decisões do STJ e STF: 20 a 24/02 By Alanna Moura 17 de fevereiro de 2023 No Comments #PrisãoCivil #Auxílioalimentação #ContribuiçãoPatronal Jurisprudência do STF - Edição 1082/2022 Direito Constitucional - Controle De Constitucionalidade; Efeitos Da Declaração De Inconstitucionalidade', start_char_idx=None, end_char_idx=None, text_template='{metadata_str}\\n\\n{content}', metadata_template='{key}: {value}', metadata_seperator='\\n')])]\n",
            "Result for question 'De que maneira as decisões judiciais recentes têm refletido a dinâmica entre essas fontes, especialmente em casos que tratam de direitos da personalidade e obrigações contratuais?': As decisões judiciais recentes refletem a dinâmica entre as fontes do direito, especialmente em casos que tratam de direitos da personalidade e obrigações contratuais. Aqui estão alguns exemplos de decisões judiciais recentes relacionadas a esses temas:\n",
            "\n",
            "1. Direitos da personalidade: O Superior Tribunal de Justiça (STJ) divulgou uma lista com 12 entendimentos sobre direitos da personalidade, abordando questões como dano moral extrapatrimonial, proteção à imagem, direito ao esquecimento, entre outros. Essas decisões refletem a interpretação e aplicação dos princípios e normas relacionados aos direitos da personalidade no contexto atual. [Fonte: Conjur](https://www.conjur.com.br/2019-nov-29/stj-divulga-12-entendimentos-direitos-personalidade/)\n",
            "\n",
            "2. Obrigações contratuais: Decisões recentes do Supremo Tribunal Federal (STF) têm abordado questões relacionadas à contratação de trabalhadores como pessoas jurídicas, conhecida como \"pejotização\". Essas decisões têm discutido os limites e os riscos dessa prática, analisando a natureza das relações contratuais e os direitos dos trabalhadores envolvidos. [Fonte: Conjur](https://www.conjur.com.br/2023-jan-05/thiago-doria-stf-pejotizacao-tendencia-ou-risco/)\n",
            "\n",
            "Esses são apenas alguns exemplos de como as decisões judiciais têm refletido a dinâmica entre as fontes do direito nos casos que envolvem direitos da personalidade e obrigações contratuais. As decisões judiciais são fundamentais para interpretar e aplicar as normas jurídicas, levando em consideração os princípios, a legislação, a doutrina, a jurisprudência e os costumes. Elas refletem a evolução do direito e contribuem para a construção de um sistema jurídico mais justo e atualizado.\n",
            "Sources for question 'De que maneira as decisões judiciais recentes têm refletido a dinâmica entre essas fontes, especialmente em casos que tratam de direitos da personalidade e obrigações contratuais?': [ToolOutput(content='[Document(id_=\\'9351767a-480d-4598-826a-632001971ced\\', embedding=None, metadata={\\'url\\': \\'https://www.conjur.com.br/2019-nov-29/stj-divulga-12-entendimentos-direitos-personalidade/\\'}, excluded_embed_metadata_keys=[], excluded_llm_metadata_keys=[], relationships={}, text=\\', STJ divulga mais 12 entendimentos sobre direitos da personalidade Autor View all posts 29 de novembro de 2019, 10h18  Veja as 12 teses destacadas sobre direito de personalidade Com informações da Assessoria de Imprensa do STJ. Autores  RECEBA NOSSO BOLETIM DE NOTÍCIAS Inscreva-se no Boletim Consultor Jurídico 2024. Todos os direitos reservados.  a direitos da personalidade das páginas da internet — seja por meio de notificação do particular ou de ordem judicial —1) O dano moral extrapatrimonial atinge direitos de personalidade do grupo ou da coletividade como realidade massificada, não sendo necessária a demonstração de da dor, da repulsa, da indignação, tal qual fosse um indivíduo isolado.\\', start_char_idx=None, end_char_idx=None, text_template=\\'{metadata_str}\\\\n\\\\n{content}\\', metadata_template=\\'{key}: {value}\\', metadata_seperator=\\'\\\\n\\'), Document(id_=\\'5373d830-3beb-4a90-b5e0-5946109d87aa\\', embedding=None, metadata={\\'url\\': \\'https://direitoreal.com.br/artigos/explorando-os-limites-capacidade-juridica-e-direitos-da-personalidade-na-contemporaneidade\\'}, excluded_embed_metadata_keys=[], excluded_llm_metadata_keys=[], relationships={}, text=\\'diretamente os direitos da personalidade:  Explorando os Limites: Capacidade Jurídica e Direitos da Personalidade na Contemporaneidade Por Beatriz Castro  adaptada para garantir uma tutela efetiva dos direitos da personalidade.  envolvam aspectos pessoais, como contratos de trabalho ou de casamento, sejam firmados de maneira válida e respeitosaEm resumo, a capacidade jurídica serve como alicerce para a garantia efetiva dos direitos da personalidade, permitindo que os indivíduos exerçam plenamente sua autonomia, protegendo sua integridade e dignidade em diversos aspectos da vida jurídica e social. Bases Teóricas que Fundamentam a Capacidade Jurídica e os Direitos da Personalidade\\', start_char_idx=None, end_char_idx=None, text_template=\\'{metadata_str}\\\\n\\\\n{content}\\', metadata_template=\\'{key}: {value}\\', metadata_seperator=\\'\\\\n\\'), Document(id_=\\'b9063b53-a158-4867-8f82-eeca9289bb03\\', embedding=None, metadata={\\'url\\': \\'https://www.conjur.com.br/2023-jan-05/thiago-doria-stf-pejotizacao-tendencia-ou-risco/\\'}, excluded_embed_metadata_keys=[], excluded_llm_metadata_keys=[], relationships={}, text=\\'https://valor.globo.com/legislacao/noticia/2022/11/29/judiciario-valida-contratacao-de-trabalhador-como-pessoa-juridica  RECEBA NOSSO BOLETIM DE NOTÍCIAS Inscreva-se no Boletim Consultor Jurídico 2024. Todos os direitos reservados.  https://valor.globo.com/legislacao/noticia/2022/12/05/supremo-mantem-contratacao-de-trabalhador-como-pessoa-juridica.gh  o-pessoa-juridica.ghtmlDecisões recentes do STF e a \"pejotização\": tendência ou risco? Thiago Dória. 5 de janeiro de 2023, 18h16. Editorias: Judiciário. Trabalhista. Algumas decisões recentes do Supremo Tribunal ...\\', start_char_idx=None, end_char_idx=None, text_template=\\'{metadata_str}\\\\n\\\\n{content}\\', metadata_template=\\'{key}: {value}\\', metadata_seperator=\\'\\\\n\\'), Document(id_=\\'25e908d6-34ac-4269-a697-d7a833263a23\\', embedding=None, metadata={\\'url\\': \\'https://www.conjur.com.br/2021-ago-16/opiniao-lei-licitacoes-personalidade-juridica/\\'}, excluded_embed_metadata_keys=[], excluded_llm_metadata_keys=[], relationships={}, text=\\'da personalidade jurídica e as pessoas que poderão ser por ela afetadas.  RECEBA NOSSO BOLETIM DE NOTÍCIAS Inscreva-se no Boletim Consultor Jurídico 2024. Todos os direitos reservados.  , A nova Lei de Licitações e a desconsideração da personalidade jurídica Autores  rol de pessoas que poderão ser afetadas com a aplicação da teoria da desconsideração da personalidade jurídicaA nova Lei de Licitações e a desconsideração da personalidade jurídica. Após quase 28 anos da vigência da Lei n° 8.666/93, foi publicada a nova Lei de Licitações (Lei n° 14.133, de 1 ...\\', start_char_idx=None, end_char_idx=None, text_template=\\'{metadata_str}\\\\n\\\\n{content}\\', metadata_template=\\'{key}: {value}\\', metadata_seperator=\\'\\\\n\\'), Document(id_=\\'1d6a6341-da4d-4445-848a-948fbeaf8931\\', embedding=None, metadata={\\'url\\': \\'https://blog.jurishand.com/novidades-legislacao-federal-decisoes-stj-stf-20-24-fevereiro-2023/\\'}, excluded_embed_metadata_keys=[], excluded_llm_metadata_keys=[], relationships={}, text=\\'Novidades da Legislação Federal e Decisões do STJ e STF: 20 a 24/02  Direito Processual Civil – Coisa Julgada; Limites; Relações De Trato Sucessivo  Confira a íntegra do Informativo —– Jurisprudência do STJ – Informativo 763/2022  Ramo Do Direito Direito CivilNovidades da Legislação Federal e Decisões do STJ e STF: 20 a 24/02 By Alanna Moura 17 de fevereiro de 2023 No Comments #PrisãoCivil #Auxílioalimentação #ContribuiçãoPatronal Jurisprudência do STF - Edição 1082/2022 Direito Constitucional - Controle De Constitucionalidade; Efeitos Da Declaração De Inconstitucionalidade\\', start_char_idx=None, end_char_idx=None, text_template=\\'{metadata_str}\\\\n\\\\n{content}\\', metadata_template=\\'{key}: {value}\\', metadata_seperator=\\'\\\\n\\')]', tool_name='search', raw_input={'args': (), 'kwargs': {'query': 'decisões judiciais recentes sobre direitos da personalidade e obrigações contratuais', 'max_results': 5}}, raw_output=[Document(id_='9351767a-480d-4598-826a-632001971ced', embedding=None, metadata={'url': 'https://www.conjur.com.br/2019-nov-29/stj-divulga-12-entendimentos-direitos-personalidade/'}, excluded_embed_metadata_keys=[], excluded_llm_metadata_keys=[], relationships={}, text=', STJ divulga mais 12 entendimentos sobre direitos da personalidade Autor View all posts 29 de novembro de 2019, 10h18  Veja as 12 teses destacadas sobre direito de personalidade Com informações da Assessoria de Imprensa do STJ. Autores  RECEBA NOSSO BOLETIM DE NOTÍCIAS Inscreva-se no Boletim Consultor Jurídico 2024. Todos os direitos reservados.  a direitos da personalidade das páginas da internet — seja por meio de notificação do particular ou de ordem judicial —1) O dano moral extrapatrimonial atinge direitos de personalidade do grupo ou da coletividade como realidade massificada, não sendo necessária a demonstração de da dor, da repulsa, da indignação, tal qual fosse um indivíduo isolado.', start_char_idx=None, end_char_idx=None, text_template='{metadata_str}\\n\\n{content}', metadata_template='{key}: {value}', metadata_seperator='\\n'), Document(id_='5373d830-3beb-4a90-b5e0-5946109d87aa', embedding=None, metadata={'url': 'https://direitoreal.com.br/artigos/explorando-os-limites-capacidade-juridica-e-direitos-da-personalidade-na-contemporaneidade'}, excluded_embed_metadata_keys=[], excluded_llm_metadata_keys=[], relationships={}, text='diretamente os direitos da personalidade:  Explorando os Limites: Capacidade Jurídica e Direitos da Personalidade na Contemporaneidade Por Beatriz Castro  adaptada para garantir uma tutela efetiva dos direitos da personalidade.  envolvam aspectos pessoais, como contratos de trabalho ou de casamento, sejam firmados de maneira válida e respeitosaEm resumo, a capacidade jurídica serve como alicerce para a garantia efetiva dos direitos da personalidade, permitindo que os indivíduos exerçam plenamente sua autonomia, protegendo sua integridade e dignidade em diversos aspectos da vida jurídica e social. Bases Teóricas que Fundamentam a Capacidade Jurídica e os Direitos da Personalidade', start_char_idx=None, end_char_idx=None, text_template='{metadata_str}\\n\\n{content}', metadata_template='{key}: {value}', metadata_seperator='\\n'), Document(id_='b9063b53-a158-4867-8f82-eeca9289bb03', embedding=None, metadata={'url': 'https://www.conjur.com.br/2023-jan-05/thiago-doria-stf-pejotizacao-tendencia-ou-risco/'}, excluded_embed_metadata_keys=[], excluded_llm_metadata_keys=[], relationships={}, text='https://valor.globo.com/legislacao/noticia/2022/11/29/judiciario-valida-contratacao-de-trabalhador-como-pessoa-juridica  RECEBA NOSSO BOLETIM DE NOTÍCIAS Inscreva-se no Boletim Consultor Jurídico 2024. Todos os direitos reservados.  https://valor.globo.com/legislacao/noticia/2022/12/05/supremo-mantem-contratacao-de-trabalhador-como-pessoa-juridica.gh  o-pessoa-juridica.ghtmlDecisões recentes do STF e a \"pejotização\": tendência ou risco? Thiago Dória. 5 de janeiro de 2023, 18h16. Editorias: Judiciário. Trabalhista. Algumas decisões recentes do Supremo Tribunal ...', start_char_idx=None, end_char_idx=None, text_template='{metadata_str}\\n\\n{content}', metadata_template='{key}: {value}', metadata_seperator='\\n'), Document(id_='25e908d6-34ac-4269-a697-d7a833263a23', embedding=None, metadata={'url': 'https://www.conjur.com.br/2021-ago-16/opiniao-lei-licitacoes-personalidade-juridica/'}, excluded_embed_metadata_keys=[], excluded_llm_metadata_keys=[], relationships={}, text='da personalidade jurídica e as pessoas que poderão ser por ela afetadas.  RECEBA NOSSO BOLETIM DE NOTÍCIAS Inscreva-se no Boletim Consultor Jurídico 2024. Todos os direitos reservados.  , A nova Lei de Licitações e a desconsideração da personalidade jurídica Autores  rol de pessoas que poderão ser afetadas com a aplicação da teoria da desconsideração da personalidade jurídicaA nova Lei de Licitações e a desconsideração da personalidade jurídica. Após quase 28 anos da vigência da Lei n° 8.666/93, foi publicada a nova Lei de Licitações (Lei n° 14.133, de 1 ...', start_char_idx=None, end_char_idx=None, text_template='{metadata_str}\\n\\n{content}', metadata_template='{key}: {value}', metadata_seperator='\\n'), Document(id_='1d6a6341-da4d-4445-848a-948fbeaf8931', embedding=None, metadata={'url': 'https://blog.jurishand.com/novidades-legislacao-federal-decisoes-stj-stf-20-24-fevereiro-2023/'}, excluded_embed_metadata_keys=[], excluded_llm_metadata_keys=[], relationships={}, text='Novidades da Legislação Federal e Decisões do STJ e STF: 20 a 24/02  Direito Processual Civil – Coisa Julgada; Limites; Relações De Trato Sucessivo  Confira a íntegra do Informativo —– Jurisprudência do STJ – Informativo 763/2022  Ramo Do Direito Direito CivilNovidades da Legislação Federal e Decisões do STJ e STF: 20 a 24/02 By Alanna Moura 17 de fevereiro de 2023 No Comments #PrisãoCivil #Auxílioalimentação #ContribuiçãoPatronal Jurisprudência do STF - Edição 1082/2022 Direito Constitucional - Controle De Constitucionalidade; Efeitos Da Declaração De Inconstitucionalidade', start_char_idx=None, end_char_idx=None, text_template='{metadata_str}\\n\\n{content}', metadata_template='{key}: {value}', metadata_seperator='\\n')])]\n"
          ]
        }
      ]
    },
    {
      "cell_type": "code",
      "source": [
        "output_dict"
      ],
      "metadata": {
        "id": "ic4CZvHRJhCt",
        "colab": {
          "base_uri": "https://localhost:8080/"
        },
        "outputId": "067de3f7-db73-4fa6-bd8e-2ea736cdf955"
      },
      "execution_count": null,
      "outputs": [
        {
          "output_type": "execute_result",
          "data": {
            "text/plain": [
              "{'socratic_questioning': {'socratic_questions': PydanticResponse(response=SocraticQuestionOutput(socratic_questions=['Como os princípios gerais do direito, a legislação, a jurisprudência e os costumes interagem e influenciam a interpretação e a aplicação do Código Civil em situações que envolvem conflitos de normas?', 'Como a doutrina e a analogia desempenham seus papéis na resolução de lacunas legais?', 'De que maneira as decisões judiciais recentes têm refletido a dinâmica entre essas fontes, especialmente em casos que tratam de direitos da personalidade e obrigações contratuais?']), source_nodes=[NodeWithScore(node=Document(id_='0f3182e8-e628-46d2-8c4a-824618558445', embedding=None, metadata={}, excluded_embed_metadata_keys=[], excluded_llm_metadata_keys=[], relationships={}, text='\\n        Baseado na pergunta original e na decomposição lógica identificado,\\n        formule perguntas socráticas que explorem a questão mais profundamente.\\n        Aqui está a pergunta ou questão levantada: Considerando a complexidade e a diversidade das fontes\\ndo Direito Civil brasileiro, como os princípios gerais do direito, a\\nlegislação, a jurisprudência e os costumes interagem e influenciam a\\ninterpretação e a aplicação do Código Civil, em particular em situações\\nque envolvem conflitos de normas? Além disso, como a doutrina e a\\nanalogia desempenham seus papéis na resolução de lacunas legais, e\\nde que maneira as decisões judiciais recentes têm refletido a\\ndinâmica entre essas fontes, especialmente em casos que tratam de\\ndireitos da personalidade e obrigações contratuais?\\n        Aqui está a estrutura lógica da questão: 1. Os conceitos jurídicos chave abordados na pergunta são: princípios gerais do direito, legislação, jurisprudência, costumes, interpretação e aplicação do Código Civil, conflitos de normas, doutrina, analogia, direitos da personalidade e obrigações contratuais.\\n\\n2. Sim, existem subquestões que precisam ser individualmente analisadas, como:\\n- Como os princípios gerais do direito, a legislação, a jurisprudência e os costumes interagem e influenciam a interpretação e a aplicação do Código Civil em situações que envolvem conflitos de normas?\\n- Como a doutrina e a analogia desempenham seus papéis na resolução de lacunas legais?\\n- De que maneira as decisões judiciais recentes têm refletido a dinâmica entre essas fontes, especialmente em casos que tratam de direitos da personalidade e obrigações contratuais?\\n\\n3. Esses conceitos e subquestões se inter-relacionam dentro do contexto, pois todos eles estão relacionados à forma como as diferentes fontes do Direito Civil brasileiro (princípios gerais do direito, legislação, jurisprudência, costumes, doutrina e analogia) interagem e influenciam a interpretação e a aplicação do Código Civil, especialmente em situações que envolvem conflitos de normas. Além disso, as decisões judiciais recentes refletem a dinâmica entre essas fontes, especialmente em casos que tratam de direitos da personalidade e obrigações contratuais. A doutrina e a analogia desempenham papéis importantes na resolução de lacunas legais, contribuindo para a interpretação e aplicação do Direito Civil.\\n\\n        Formule perguntas socráticas que ajudem a explorar a questão em profundidade, questionando suposições, clarificando conceitos e revelando conexões e distinções críticas.\\n        Perguntas socráticas propostas:\\n        ', start_char_idx=None, end_char_idx=None, text_template='{metadata_str}\\n\\n{content}', metadata_template='{key}: {value}', metadata_seperator='\\n'), score=1.0000000000000002)], metadata={'0f3182e8-e628-46d2-8c4a-824618558445': {}}),\n",
              "  'all_search_results': ['Os princípios gerais do direito, a legislação, a jurisprudência e os costumes são fontes do direito que interagem e influenciam a interpretação e a aplicação do Código Civil em situações que envolvem conflitos de normas. \\n\\nOs princípios gerais do direito são os fundamentos básicos que orientam a criação e a aplicação das leis. Eles são considerados como normas jurídicas e têm o objetivo de garantir a justiça e a equidade nas relações sociais. Os princípios gerais do direito podem ser utilizados para interpretar e integrar as normas do Código Civil, quando houver lacunas ou ambiguidades.\\n\\nA legislação é a fonte primária do direito e consiste nas leis e nos regulamentos criados pelo poder legislativo. O Código Civil é uma legislação que estabelece as normas gerais para as relações civis. Quando há conflitos entre normas do Código Civil, a legislação pode ser utilizada para resolver o conflito, seguindo a hierarquia das leis.\\n\\nA jurisprudência é o conjunto de decisões judiciais proferidas pelos tribunais superiores. As decisões judiciais têm caráter vinculante e servem como precedentes para casos semelhantes. A jurisprudência pode influenciar a interpretação e a aplicação do Código Civil, pois os juízes podem se basear em decisões anteriores para resolver conflitos de normas.\\n\\nOs costumes são práticas sociais que são reconhecidas e aceitas pela sociedade como normas jurídicas. Os costumes podem influenciar a interpretação e a aplicação do Código Civil, especialmente quando não há uma norma específica para regular determinada situação. Os costumes podem ser considerados como fonte do direito e podem ser utilizados para resolver conflitos de normas.\\n\\nEm situações que envolvem conflitos de normas do Código Civil, a interpretação e a aplicação do direito são realizadas levando em consideração todas essas fontes do direito. Os princípios gerais do direito, a legislação, a jurisprudência e os costumes são utilizados para buscar a solução mais justa e adequada para o caso concreto. Os juízes e os operadores do direito devem analisar e ponderar todas essas fontes do direito para tomar suas decisões.',\n",
              "   'A doutrina e a analogia desempenham papéis importantes na resolução de lacunas legais, ou seja, quando há uma situação não prevista ou regulada de forma específica pela legislação.\\n\\nA doutrina consiste no conjunto de estudos, análises e interpretações realizadas por juristas, acadêmicos e especialistas do direito. Através da doutrina, são desenvolvidas teorias e argumentos que ajudam a compreender e interpretar as normas jurídicas. Quando há uma lacuna legal, a doutrina pode ser utilizada para preencher essa lacuna, oferecendo interpretações e soluções para o caso concreto. Os juristas podem recorrer a obras doutrinárias, artigos acadêmicos e opiniões de especialistas para embasar suas decisões e argumentações.\\n\\nA analogia, por sua vez, é um método de interpretação do direito que consiste em aplicar uma norma existente a uma situação semelhante que não está expressamente regulada pela legislação. A analogia busca encontrar uma solução para a lacuna legal através da aplicação de uma norma existente que seja semelhante em sua essência e finalidade. Para utilizar a analogia, é necessário que exista uma semelhança relevante entre a situação não regulada e a situação regulada pela norma existente.\\n\\nTanto a doutrina quanto a analogia são ferramentas utilizadas pelos juristas e operadores do direito para suprir as lacunas legais e garantir a aplicação adequada do direito em situações não previstas pela legislação. No entanto, é importante ressaltar que a utilização da doutrina e da analogia deve ser feita de forma criteriosa e fundamentada, levando em consideração os princípios gerais do direito e a finalidade da norma em questão.',\n",
              "   'As decisões judiciais recentes refletem a dinâmica entre as fontes do direito, especialmente em casos que tratam de direitos da personalidade e obrigações contratuais. Aqui estão algumas decisões relevantes:\\n\\n1. O Superior Tribunal de Justiça (STJ) divulgou 12 entendimentos sobre direitos da personalidade, destacando que o dano moral extrapatrimonial pode afetar tanto indivíduos quanto grupos ou coletividades. Esses entendimentos ajudam a orientar a interpretação e a aplicação dos direitos da personalidade em casos específicos. [Fonte: Conjur](https://www.conjur.com.br/2019-nov-29/stj-divulga-12-entendimentos-direitos-personalidade/)\\n\\n2. O STJ também considerou como fatos ensejadores da desconsideração da personalidade jurídica o abuso de forma e a fraude à Lei de Licitações. Essa decisão tem impacto na interpretação das obrigações contratuais e na responsabilidade das pessoas jurídicas. [Fonte: Conjur](https://www.conjur.com.br/2021-ago-16/opiniao-lei-licitacoes-personalidade-juridica/)\\n\\n3. O Tribunal de Justiça do Distrito Federal e dos Territórios (TJDFT) proferiu decisões relacionadas à avaliação da personalidade do réu em crimes de homicídio e ocultação de cadáver. Essas decisões ajudam a compreender como a personalidade do réu pode ser considerada na aplicação da lei penal. [Fonte: TJDFT](https://www.tjdft.jus.br/consultas/jurisprudencia/jurisprudencia-em-temas/a-doutrina-na-pratica/circunstancias-judiciais-1/personalidade)\\n\\n4. Há também debates e tendências recentes relacionados à terceirização de serviços e suas respostas judiciais. O Supremo Tribunal Federal (STF) e outras instâncias judiciais têm analisado casos envolvendo a terceirização e suas implicações no direito do trabalho. Essas decisões refletem a interpretação das obrigações contratuais e dos direitos dos trabalhadores. [Fonte: SciELO](https://www.scielo.br/j/ccrh/a/BNvFR8jJ7qfczqzRvtyCQ5R/)\\n\\nEssas decisões judiciais recentes demonstram como a dinâmica entre as fontes do direito, como a legislação, a jurisprudência, a doutrina e os costumes, influencia a interpretação e a aplicação do direito em casos que envolvem direitos da personalidade e obrigações contratuais. Os tribunais consideram essas fontes para tomar suas decisões e buscar soluções justas e adequadas para os casos concretos.'],\n",
              "  'all_sources': [{'question': 'Como os princípios gerais do direito, a legislação, a jurisprudência e os costumes interagem e influenciam a interpretação e a aplicação do Código Civil em situações que envolvem conflitos de normas?',\n",
              "    'sources': []},\n",
              "   {'question': 'Como a doutrina e a analogia desempenham seus papéis na resolução de lacunas legais?',\n",
              "    'sources': []},\n",
              "   {'question': 'De que maneira as decisões judiciais recentes têm refletido a dinâmica entre essas fontes, especialmente em casos que tratam de direitos da personalidade e obrigações contratuais?',\n",
              "    'sources': [ToolOutput(content='[Document(id_=\\'ff9918c3-6b47-4b66-8761-7de8772cc7ee\\', embedding=None, metadata={\\'url\\': \\'https://www.conjur.com.br/2019-nov-29/stj-divulga-12-entendimentos-direitos-personalidade/\\'}, excluded_embed_metadata_keys=[], excluded_llm_metadata_keys=[], relationships={}, text=\\', STJ divulga mais 12 entendimentos sobre direitos da personalidade Autor View all posts 29 de novembro de 2019, 10h18  Veja as 12 teses destacadas sobre direito de personalidade Com informações da Assessoria de Imprensa do STJ. Autores  RECEBA NOSSO BOLETIM DE NOTÍCIAS Inscreva-se no Boletim Consultor Jurídico 2024. Todos os direitos reservados.  a direitos da personalidade das páginas da internet — seja por meio de notificação do particular ou de ordem judicial —Veja as 12 teses destacadas sobre direito de personalidade. 1) O dano moral extrapatrimonial atinge direitos de personalidade do grupo ou da coletividade como realidade massificada, não sendo ...\\', start_char_idx=None, end_char_idx=None, text_template=\\'{metadata_str}\\\\n\\\\n{content}\\', metadata_template=\\'{key}: {value}\\', metadata_seperator=\\'\\\\n\\'), Document(id_=\\'0ddfb7ec-c072-4212-9a9f-f9bf9b8b81d0\\', embedding=None, metadata={\\'url\\': \\'https://www.direitonews.com.br/2021/07/70-decisoes-mais-recentes-stf-stj.html\\'}, excluded_embed_metadata_keys=[], excluded_llm_metadata_keys=[], relationships={}, text=\\'respectiva Corte de Contas – STJ, REsp 1.506.932/PR, 02/03/2021.  destinatário do ato processual – HC 641.877/DF, 09/03/2021.  As 70 decisões mais recentes do STF e do STJ  da pessoa humana, da proteção à vida e da igualdade de gênero – ADPF 779 MC-Ref/DF, 13/03/2021.janeiro 19, 2024 Promotor de Justiça é acusado por duas mulheres de importunação s3xu4l e agr3ssã0 janeiro 22, 2024 Taxa pelo início do cumprimento da sentença em São Paulo incomoda advogados janeiro 22, 2024 Bafômetro pode ser indicativo de embriaguez, não determinante, decide TJ-RS junho 08, 2020 1.\\', start_char_idx=None, end_char_idx=None, text_template=\\'{metadata_str}\\\\n\\\\n{content}\\', metadata_template=\\'{key}: {value}\\', metadata_seperator=\\'\\\\n\\'), Document(id_=\\'40ba7bde-2b1f-40e0-be9b-f2c7809300a9\\', embedding=None, metadata={\\'url\\': \\'https://www.conjur.com.br/2021-ago-16/opiniao-lei-licitacoes-personalidade-juridica/\\'}, excluded_embed_metadata_keys=[], excluded_llm_metadata_keys=[], relationships={}, text=\\'da personalidade jurídica e as pessoas que poderão ser por ela afetadas.  , A nova Lei de Licitações e a desconsideração da personalidade jurídica Autores  RECEBA NOSSO BOLETIM DE NOTÍCIAS Inscreva-se no Boletim Consultor Jurídico 2024. Todos os direitos reservados.  poderia, em tese, sofrer os efeitos de uma possível decisão de desconsideração da personalidade jurídica.O Superior Tribunal de Justiça (STJ) [2], por sua vez, considerou como fatos ensejadores da desconsideração da personalidade jurídica o abuso de forma (constituição de uma nova sociedade com o mesmo objeto social, com os mesmos sócios e com o mesmo endereço) e fraude à Lei nº 8.666/1993, pautando-se pela observância dos princípios da moralidade ...\\', start_char_idx=None, end_char_idx=None, text_template=\\'{metadata_str}\\\\n\\\\n{content}\\', metadata_template=\\'{key}: {value}\\', metadata_seperator=\\'\\\\n\\'), Document(id_=\\'27e306ae-c0c6-4f46-b18c-c4afed6eff3d\\', embedding=None, metadata={\\'url\\': \\'https://www.tjdft.jus.br/consultas/jurisprudencia/jurisprudencia-em-temas/a-doutrina-na-pratica/circunstancias-judiciais-1/personalidade\\'}, excluded_embed_metadata_keys=[], excluded_llm_metadata_keys=[], relationships={}, text=\\'Jurisprudência TJDFT  data de julgamento: 30/9/2010, publicado no DJE: 13/10/2010.  Acórdão 847913, 19980910040947APR, Relator: ROMÃO C. OLIVEIRA, Primeira Turma Criminal, data de julgamento: 18/12/2014,  1301226/PR, Rel. Ministra MARIA THEREZA DE ASSIS MOURA, SEXTA TURMA, julgado em 11/03/2014, DJe 28/03/2014).\"8. ed. Salvador: Juspodivm, 2013. p. 130) Jurisprudência TJDFT Insuficiência de elementos para a avaliação da personalidade do réu em crimes de homicídio e de ocultação de cadáver.\\', start_char_idx=None, end_char_idx=None, text_template=\\'{metadata_str}\\\\n\\\\n{content}\\', metadata_template=\\'{key}: {value}\\', metadata_seperator=\\'\\\\n\\'), Document(id_=\\'3bcecad2-ac2d-4481-85b3-99f8b85ecb8b\\', embedding=None, metadata={\\'url\\': \\'https://www.scielo.br/j/ccrh/a/BNvFR8jJ7qfczqzRvtyCQ5R/\\'}, excluded_embed_metadata_keys=[], excluded_llm_metadata_keys=[], relationships={}, text=\\'Brazil Brazil RESPOSTAS JUDICIAIS À TERCEIRIZAÇÃO: debates e tendências recentes  O presente artigo tem como objetivo analisar as respostas judiciais às demandas envolvendo a terceirização de serviços  de 2017 pelo Supremo Tribunal Federal. Porto Alegre, RS: Editora Fi, 2021, p. 13-21.), na forma de “persona do capital”  A TERCEIRIZAÇÃO NO DIREITO DO TRABALHO: DEBATES PRECEDENTESA desconstrução do Direito do Trabalho, por meio de decisões judiciais. São Paulo: TirantloBlanch, 2021.), em face da inflexão da jurisprudência que pavimenta o caminho para a reforma de 2017 e cria uma \"uma forte tensão com o sentido e o projeto da Constituição de 1988\" (Dutra e Machado, 2021 DUTRA, Renata; MACHADO, Sidnei (Orgs ...\\', start_char_idx=None, end_char_idx=None, text_template=\\'{metadata_str}\\\\n\\\\n{content}\\', metadata_template=\\'{key}: {value}\\', metadata_seperator=\\'\\\\n\\')]', tool_name='search', raw_input={'args': (), 'kwargs': {'query': 'decisões judiciais recentes sobre direitos da personalidade e obrigações contratuais', 'max_results': 5}}, raw_output=[Document(id_='ff9918c3-6b47-4b66-8761-7de8772cc7ee', embedding=None, metadata={'url': 'https://www.conjur.com.br/2019-nov-29/stj-divulga-12-entendimentos-direitos-personalidade/'}, excluded_embed_metadata_keys=[], excluded_llm_metadata_keys=[], relationships={}, text=', STJ divulga mais 12 entendimentos sobre direitos da personalidade Autor View all posts 29 de novembro de 2019, 10h18  Veja as 12 teses destacadas sobre direito de personalidade Com informações da Assessoria de Imprensa do STJ. Autores  RECEBA NOSSO BOLETIM DE NOTÍCIAS Inscreva-se no Boletim Consultor Jurídico 2024. Todos os direitos reservados.  a direitos da personalidade das páginas da internet — seja por meio de notificação do particular ou de ordem judicial —Veja as 12 teses destacadas sobre direito de personalidade. 1) O dano moral extrapatrimonial atinge direitos de personalidade do grupo ou da coletividade como realidade massificada, não sendo ...', start_char_idx=None, end_char_idx=None, text_template='{metadata_str}\\n\\n{content}', metadata_template='{key}: {value}', metadata_seperator='\\n'), Document(id_='0ddfb7ec-c072-4212-9a9f-f9bf9b8b81d0', embedding=None, metadata={'url': 'https://www.direitonews.com.br/2021/07/70-decisoes-mais-recentes-stf-stj.html'}, excluded_embed_metadata_keys=[], excluded_llm_metadata_keys=[], relationships={}, text='respectiva Corte de Contas – STJ, REsp 1.506.932/PR, 02/03/2021.  destinatário do ato processual – HC 641.877/DF, 09/03/2021.  As 70 decisões mais recentes do STF e do STJ  da pessoa humana, da proteção à vida e da igualdade de gênero – ADPF 779 MC-Ref/DF, 13/03/2021.janeiro 19, 2024 Promotor de Justiça é acusado por duas mulheres de importunação s3xu4l e agr3ssã0 janeiro 22, 2024 Taxa pelo início do cumprimento da sentença em São Paulo incomoda advogados janeiro 22, 2024 Bafômetro pode ser indicativo de embriaguez, não determinante, decide TJ-RS junho 08, 2020 1.', start_char_idx=None, end_char_idx=None, text_template='{metadata_str}\\n\\n{content}', metadata_template='{key}: {value}', metadata_seperator='\\n'), Document(id_='40ba7bde-2b1f-40e0-be9b-f2c7809300a9', embedding=None, metadata={'url': 'https://www.conjur.com.br/2021-ago-16/opiniao-lei-licitacoes-personalidade-juridica/'}, excluded_embed_metadata_keys=[], excluded_llm_metadata_keys=[], relationships={}, text='da personalidade jurídica e as pessoas que poderão ser por ela afetadas.  , A nova Lei de Licitações e a desconsideração da personalidade jurídica Autores  RECEBA NOSSO BOLETIM DE NOTÍCIAS Inscreva-se no Boletim Consultor Jurídico 2024. Todos os direitos reservados.  poderia, em tese, sofrer os efeitos de uma possível decisão de desconsideração da personalidade jurídica.O Superior Tribunal de Justiça (STJ) [2], por sua vez, considerou como fatos ensejadores da desconsideração da personalidade jurídica o abuso de forma (constituição de uma nova sociedade com o mesmo objeto social, com os mesmos sócios e com o mesmo endereço) e fraude à Lei nº 8.666/1993, pautando-se pela observância dos princípios da moralidade ...', start_char_idx=None, end_char_idx=None, text_template='{metadata_str}\\n\\n{content}', metadata_template='{key}: {value}', metadata_seperator='\\n'), Document(id_='27e306ae-c0c6-4f46-b18c-c4afed6eff3d', embedding=None, metadata={'url': 'https://www.tjdft.jus.br/consultas/jurisprudencia/jurisprudencia-em-temas/a-doutrina-na-pratica/circunstancias-judiciais-1/personalidade'}, excluded_embed_metadata_keys=[], excluded_llm_metadata_keys=[], relationships={}, text='Jurisprudência TJDFT  data de julgamento: 30/9/2010, publicado no DJE: 13/10/2010.  Acórdão 847913, 19980910040947APR, Relator: ROMÃO C. OLIVEIRA, Primeira Turma Criminal, data de julgamento: 18/12/2014,  1301226/PR, Rel. Ministra MARIA THEREZA DE ASSIS MOURA, SEXTA TURMA, julgado em 11/03/2014, DJe 28/03/2014).\"8. ed. Salvador: Juspodivm, 2013. p. 130) Jurisprudência TJDFT Insuficiência de elementos para a avaliação da personalidade do réu em crimes de homicídio e de ocultação de cadáver.', start_char_idx=None, end_char_idx=None, text_template='{metadata_str}\\n\\n{content}', metadata_template='{key}: {value}', metadata_seperator='\\n'), Document(id_='3bcecad2-ac2d-4481-85b3-99f8b85ecb8b', embedding=None, metadata={'url': 'https://www.scielo.br/j/ccrh/a/BNvFR8jJ7qfczqzRvtyCQ5R/'}, excluded_embed_metadata_keys=[], excluded_llm_metadata_keys=[], relationships={}, text='Brazil Brazil RESPOSTAS JUDICIAIS À TERCEIRIZAÇÃO: debates e tendências recentes  O presente artigo tem como objetivo analisar as respostas judiciais às demandas envolvendo a terceirização de serviços  de 2017 pelo Supremo Tribunal Federal. Porto Alegre, RS: Editora Fi, 2021, p. 13-21.), na forma de “persona do capital”  A TERCEIRIZAÇÃO NO DIREITO DO TRABALHO: DEBATES PRECEDENTESA desconstrução do Direito do Trabalho, por meio de decisões judiciais. São Paulo: TirantloBlanch, 2021.), em face da inflexão da jurisprudência que pavimenta o caminho para a reforma de 2017 e cria uma \"uma forte tensão com o sentido e o projeto da Constituição de 1988\" (Dutra e Machado, 2021 DUTRA, Renata; MACHADO, Sidnei (Orgs ...', start_char_idx=None, end_char_idx=None, text_template='{metadata_str}\\n\\n{content}', metadata_template='{key}: {value}', metadata_seperator='\\n')])]}]}}"
            ]
          },
          "metadata": {},
          "execution_count": 22
        }
      ]
    },
    {
      "cell_type": "code",
      "source": [
        "# Etapa de Estruturação Lógica (IDENT_LOGIC)\n",
        "IDENT_LOGIC_str = f\"\"\"\n",
        "Com base nos resultados das buscas anteriores, estruture a questão em subcomponentes lógicos.\n",
        "Aqui está a pergunta ou questão levantada: {original_query_string}\n",
        "\"\"\"\n",
        "IDENT_LOGIC_tmpl = PromptTemplate(IDENT_LOGIC_str)\n",
        "p_ident_logic = QueryPipeline(chain=[IDENT_LOGIC_tmpl, llm], verbose=True)\n",
        "output_ident_logic = p_ident_logic.run(query_str=original_query_string)\n",
        "display(Markdown(f\"<b>{output_ident_logic}</b>\"))\n",
        "\n",
        "# Etapa de Questionamento Socrático (IDENT_QUEST_SOC)\n",
        "IDENT_QUEST_SOC_str = f\"\"\"\n",
        "Faça perguntas detalhadas para aprofundar sua compreensão de cada aspecto da questão, utilizando as informações coletadas anteriormente.\n",
        "Aqui está a pergunta ou questão levantada: {original_query_string}\n",
        "\"\"\"\n",
        "IDENT_QUEST_SOC_tmpl = PromptTemplate(IDENT_QUEST_SOC_str)\n",
        "p_ident_quest_soc = QueryPipeline(chain=[IDENT_QUEST_SOC_tmpl, llm], verbose=True)\n",
        "output_ident_quest_soc = p_ident_quest_soc.run(query_str=original_query_string)\n",
        "display(Markdown(f\"<b>{output_ident_quest_soc}</b>\"))\n",
        "\n",
        "# Etapa de Checagem de Consistência e Completude (IDENT_CONS_COMPL)\n",
        "IDENT_CONS_COMPL_str = f\"\"\"\n",
        "Verifique se todas as partes da questão foram abordadas, buscando informações adicionais se necessário.\n",
        "Aqui está a pergunta ou questão levantada: {original_query_string}\n",
        "\"\"\"\n",
        "IDENT_CONS_COMPL_tmpl = PromptTemplate(IDENT_CONS_COMPL_str)\n",
        "p_ident_cons_compl = QueryPipeline(chain=[IDENT_CONS_COMPL_tmpl, llm], verbose=True)\n",
        "output_ident_cons_compl = p_ident_cons_compl.run(query_str=original_query_string)\n",
        "display(Markdown(f\"<b>{output_ident_cons_compl}</b>\"))\n",
        "\n",
        "# Etapa de Identificação de Referências e Fontes (IDENT_REF_FONTES)\n",
        "IDENT_REF_FONTES_str = f\"\"\"\n",
        "Busque leis, regulamentos, decisões judiciais ou literatura acadêmica relevantes para a questão.\n",
        "Aqui está a pergunta ou questão levantada: {original_query_string}\n",
        "\"\"\"\n",
        "IDENT_REF_FONTES_tmpl = PromptTemplate(IDENT_REF_FONTES_str)\n",
        "p_ident_ref_fontes = QueryPipeline(chain=[IDENT_REF_FONTES_tmpl, llm], verbose=True)\n",
        "output_ident_ref_fontes = p_ident_ref_fontes.run(query_str=original_query_string)\n",
        "display(Markdown(f\"<b>{output_ident_ref_fontes}</b>\"))\n",
        "\n",
        "# Etapa de Síntese e Conclusão (SINT_CONCL)\n",
        "SINT_CONCL_str = f\"\"\"\n",
        "Sintetize todas as informações coletadas para construir uma resposta coerente e bem fundamentada.\n",
        "Aqui está a pergunta ou questão levantada: {original_query_string}\n",
        "\"\"\"\n",
        "SINT_CONCL_tmpl = PromptTemplate(SINT_CONCL_str)\n",
        "p_sint_concl = QueryPipeline(chain=[SINT_CONCL_tmpl, llm], verbose=True)\n",
        "output_sint_concl = p_sint_concl.run(query_str=original_query_string)\n",
        "display(Markdown(f\"<b>{output_sint_concl}</b>\"))\n",
        "\n",
        "# Etapa de Revisão Crítica (REV_CRIT)\n",
        "REV_CRIT_str = f\"\"\"\n",
        "Revise criticamente a resposta elaborada para garantir sua precisão, clareza e compreensibilidade.\n",
        "Aqui está a pergunta ou questão levantada: {original_query_string}\n",
        "\"\"\"\n",
        "REV_CRIT_tmpl = PromptTemplate(REV_CRIT_str)\n",
        "p_rev_crit = QueryPipeline(chain=[REV_CRIT_tmpl, llm], verbose=True)\n",
        "output_rev_crit = p_rev_crit.run(query_str=original_query_string)\n",
        "display(Markdown(f\"<b>{output_rev_crit}</b>\"))"
      ],
      "metadata": {
        "id": "qHslx9anlowW",
        "colab": {
          "base_uri": "https://localhost:8080/",
          "height": 245
        },
        "outputId": "cacb0e55-eb03-4296-ec25-698bf80b2069"
      },
      "execution_count": null,
      "outputs": [
        {
          "output_type": "error",
          "ename": "NameError",
          "evalue": "name 'original_query_string' is not defined",
          "traceback": [
            "\u001b[0;31m---------------------------------------------------------------------------\u001b[0m",
            "\u001b[0;31mNameError\u001b[0m                                 Traceback (most recent call last)",
            "\u001b[0;32m<ipython-input-12-0c8ab2b4d110>\u001b[0m in \u001b[0;36m<cell line: 2>\u001b[0;34m()\u001b[0m\n\u001b[1;32m      2\u001b[0m IDENT_LOGIC_str = f\"\"\"\n\u001b[1;32m      3\u001b[0m \u001b[0mCom\u001b[0m \u001b[0mbase\u001b[0m \u001b[0mnos\u001b[0m \u001b[0mresultados\u001b[0m \u001b[0mdas\u001b[0m \u001b[0mbuscas\u001b[0m \u001b[0manteriores\u001b[0m\u001b[0;34m,\u001b[0m \u001b[0mestruture\u001b[0m \u001b[0ma\u001b[0m \u001b[0mquestão\u001b[0m \u001b[0mem\u001b[0m \u001b[0msubcomponentes\u001b[0m \u001b[0mlógicos\u001b[0m\u001b[0;34m.\u001b[0m\u001b[0;34m\u001b[0m\u001b[0;34m\u001b[0m\u001b[0m\n\u001b[0;32m----> 4\u001b[0;31m \u001b[0mAqui\u001b[0m \u001b[0mestá\u001b[0m \u001b[0ma\u001b[0m \u001b[0mpergunta\u001b[0m \u001b[0mou\u001b[0m \u001b[0mquestão\u001b[0m \u001b[0mlevantada\u001b[0m\u001b[0;34m:\u001b[0m \u001b[0;34m{\u001b[0m\u001b[0moriginal_query_string\u001b[0m\u001b[0;34m}\u001b[0m\u001b[0;34m\u001b[0m\u001b[0;34m\u001b[0m\u001b[0m\n\u001b[0m\u001b[1;32m      5\u001b[0m \"\"\"\n\u001b[1;32m      6\u001b[0m \u001b[0mIDENT_LOGIC_tmpl\u001b[0m \u001b[0;34m=\u001b[0m \u001b[0mPromptTemplate\u001b[0m\u001b[0;34m(\u001b[0m\u001b[0mIDENT_LOGIC_str\u001b[0m\u001b[0;34m)\u001b[0m\u001b[0;34m\u001b[0m\u001b[0;34m\u001b[0m\u001b[0m\n",
            "\u001b[0;31mNameError\u001b[0m: name 'original_query_string' is not defined"
          ]
        }
      ]
    },
    {
      "cell_type": "code",
      "source": [],
      "metadata": {
        "id": "O8mkPtej027a"
      },
      "execution_count": null,
      "outputs": []
    }
  ]
}